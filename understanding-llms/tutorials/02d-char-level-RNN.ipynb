{
  "cells": [
    {
      "cell_type": "markdown",
      "metadata": {
        "id": "tVrFFjxpPu5L"
      },
      "source": [
        "Sheet 2.4: Character-level sequence modeling w/ RNNs\n",
        "====================================================\n",
        "\n",
        "**Author:** Michael Franke\n",
        "\n"
      ]
    },
    {
      "cell_type": "markdown",
      "metadata": {
        "id": "LPFze9mgPu5O"
      },
      "source": [
        "The goal of this tutorial is to get familiar with simple language models.\n",
        "To be able to have a manageable (quick to train, evaluate, inspect) case study, we look at character-level predictions of surnames from different languages.\n",
        "(The inspiration and source of this notebook is [this tutorial](https://pytorch.org/tutorials/intermediate/char_rnn_generation_tutorial.html) from PyTorch&rsquo;s documentation.)\n",
        "\n"
      ]
    },
    {
      "cell_type": "markdown",
      "metadata": {
        "id": "20cZqLiAPu5P"
      },
      "source": [
        "## Packages & global parameters\n",
        "\n"
      ]
    },
    {
      "cell_type": "markdown",
      "metadata": {
        "id": "lBwn_KWuPu5P"
      },
      "source": [
        "In addition to the usual packages for neural network modeling, we will also require packages for I/O and string handling.\n",
        "\n"
      ]
    },
    {
      "cell_type": "code",
      "execution_count": 2,
      "metadata": {
        "id": "i1q3iXwYPu5P"
      },
      "outputs": [],
      "source": [
        "##################################################\n",
        "## import packages\n",
        "##################################################\n",
        "\n",
        "from __future__ import unicode_literals, print_function, division\n",
        "import json\n",
        "import pandas\n",
        "import string\n",
        "import torch\n",
        "import urllib.request\n",
        "import numpy as np\n",
        "import torch.nn as nn\n",
        "import random\n",
        "import time\n",
        "import math\n",
        "import matplotlib.pyplot as plt\n",
        "import warnings\n",
        "\n",
        "warnings.filterwarnings(\"ignore\")"
      ]
    },
    {
      "cell_type": "markdown",
      "metadata": {
        "id": "jops-MMIPu5Q"
      },
      "source": [
        "## Loading & inspecting the data\n",
        "\n"
      ]
    },
    {
      "cell_type": "markdown",
      "metadata": {
        "id": "gQVZe733Pu5R"
      },
      "source": [
        "Our training data are lists of surnames from different countries.\n",
        "We will use this data set to train a model that predicts a name, given the country as a prompt.\n",
        "\n",
        "The (pre-processed) data is stored in a JSON file.\n",
        "We load it and define a few useful variables for later use.\n",
        "\n"
      ]
    },
    {
      "cell_type": "code",
      "execution_count": 4,
      "metadata": {
        "id": "3OQqKDxTPu5R",
        "outputId": "9e0533e0-e662-4417-9b3a-893058eefd53",
        "colab": {
          "base_uri": "https://localhost:8080/"
        }
      },
      "outputs": [
        {
          "output_type": "stream",
          "name": "stdout",
          "text": [
            "['Czech', 'German', 'Arabic', 'Japanese', 'Chinese', 'Vietnamese', 'Russian', 'French', 'Irish', 'English', 'Spanish', 'Greek', 'Italian', 'Portuguese', 'Scottish', 'Dutch', 'Korean', 'Polish']\n",
            "18\n",
            "Czech has  519  names\n",
            "Unique name count: 502\n",
            "  Blazek: 2\n",
            "  Cermak: 2\n",
            "  Cerny: 2\n",
            "  Hanek: 2\n",
            "  Kafka: 2\n",
            "  Kocian: 2\n",
            "  Kouba: 2\n",
            "  Marik: 2\n",
            "  Navratil: 2\n",
            "  Ponec: 2\n",
            "German has  724  names\n",
            "Unique name count: 690\n",
            "  Sommer: 4\n",
            "  Kruger: 3\n",
            "  Armbruster: 2\n",
            "  Baumgartner: 2\n",
            "  Bosch: 2\n",
            "  Ebner: 2\n",
            "  Groel: 2\n",
            "  Gunther: 2\n",
            "  Holzer: 2\n",
            "  Horn: 2\n",
            "Arabic has  2000  names\n",
            "Unique name count: 108\n",
            "  Tahan: 28\n",
            "  Fakhoury: 28\n",
            "  Nader: 27\n",
            "  Koury: 27\n",
            "  Mustafa: 26\n",
            "  Antar: 26\n",
            "  Sarraf: 26\n",
            "  Hadad: 26\n",
            "  Kassis: 26\n",
            "  Shadid: 25\n",
            "Japanese has  991  names\n",
            "Unique name count: 990\n",
            "  Okuma: 2\n",
            "  Abe: 1\n",
            "  Abukara: 1\n",
            "  Adachi: 1\n",
            "  Aida: 1\n",
            "  Aihara: 1\n",
            "  Aizawa: 1\n",
            "  Ajibana: 1\n",
            "  Akaike: 1\n",
            "  Akamatsu: 1\n",
            "Chinese has  268  names\n",
            "Unique name count: 246\n",
            "  Chu: 2\n",
            "  Fei: 2\n",
            "  Feng: 2\n",
            "  Guan: 2\n",
            "  Guo: 2\n",
            "  Hong: 2\n",
            "  Huan: 2\n",
            "  Jin: 2\n",
            "  Luo: 2\n",
            "  Qiu: 2\n",
            "Vietnamese has  73  names\n",
            "Unique name count: 71\n",
            "  Chu: 2\n",
            "  Doan: 2\n",
            "  Nguyen: 1\n",
            "  Tron: 1\n",
            "  Le: 1\n",
            "  Pham: 1\n",
            "  Huynh: 1\n",
            "  Hoang: 1\n",
            "  Phan: 1\n",
            "  Vu: 1\n",
            "Russian has  9408  names\n",
            "Unique name count: 9341\n",
            "  To The First Page: 24\n",
            "  Researcher: 9\n",
            "  Bass: 3\n",
            "  Baikin: 2\n",
            "  Chabanov: 2\n",
            "  Chabrov: 2\n",
            "  Chadin: 2\n",
            "  Chadov: 2\n",
            "  Chadovich: 2\n",
            "  Chadrantsev: 2\n",
            "French has  277  names\n",
            "Unique name count: 273\n",
            "  Lyon: 2\n",
            "  Martel: 2\n",
            "  Masson: 2\n",
            "  Paquet: 2\n",
            "  Abel: 1\n",
            "  Abraham: 1\n",
            "  Adam: 1\n",
            "  Albert: 1\n",
            "  Allard: 1\n",
            "  Archambault: 1\n",
            "Irish has  232  names\n",
            "Unique name count: 226\n",
            "  Eoin: 2\n",
            "  O'Boyle: 2\n",
            "  O'Brien: 2\n",
            "  O'Donnell: 2\n",
            "  O'Keefe: 2\n",
            "  O'Neal: 2\n",
            "  Adam: 1\n",
            "  Ahearn: 1\n",
            "  Aodh: 1\n",
            "  Aodha: 1\n",
            "English has  3668  names\n",
            "Unique name count: 3668\n",
            "  Abbas: 1\n",
            "  Abbey: 1\n",
            "  Abbott: 1\n",
            "  Abdi: 1\n",
            "  Abel: 1\n",
            "  Abraham: 1\n",
            "  Abrahams: 1\n",
            "  Abrams: 1\n",
            "  Ackary: 1\n",
            "  Ackroyd: 1\n",
            "Spanish has  298  names\n",
            "Unique name count: 293\n",
            "  Gutierrez: 2\n",
            "  Martinez: 2\n",
            "  Perez: 2\n",
            "  Roma: 2\n",
            "  Vela: 2\n",
            "  Abana: 1\n",
            "  Abano: 1\n",
            "  Abarca: 1\n",
            "  Abaroa: 1\n",
            "  Abascal: 1\n",
            "Greek has  203  names\n",
            "Unique name count: 193\n",
            "  Close: 8\n",
            "  Antonopoulos: 3\n",
            "  Chrysanthopoulos: 2\n",
            "  Adamidis: 1\n",
            "  Adamou: 1\n",
            "  Agelakos: 1\n",
            "  Akrivopoulos: 1\n",
            "  Alexandropoulos: 1\n",
            "  Anetakis: 1\n",
            "  Angelopoulos: 1\n",
            "Italian has  709  names\n",
            "Unique name count: 701\n",
            "  Capello: 3\n",
            "  Como: 2\n",
            "  Fiscella: 2\n",
            "  Roma: 2\n",
            "  Romano: 2\n",
            "  Sinagra: 2\n",
            "  Vinci: 2\n",
            "  Abandonato: 1\n",
            "  Abatangelo: 1\n",
            "  Abatantuono: 1\n",
            "Portuguese has  74  names\n",
            "Unique name count: 74\n",
            "  Abreu: 1\n",
            "  Albuquerque: 1\n",
            "  Almeida: 1\n",
            "  Alves: 1\n",
            "  Araujo: 1\n",
            "  Araullo: 1\n",
            "  Barros: 1\n",
            "  Basurto: 1\n",
            "  Belo: 1\n",
            "  Cabral: 1\n",
            "Scottish has  100  names\n",
            "Unique name count: 100\n",
            "  Smith: 1\n",
            "  Brown: 1\n",
            "  Wilson: 1\n",
            "  Campbell: 1\n",
            "  Stewart: 1\n",
            "  Thomson: 1\n",
            "  Robertson: 1\n",
            "  Anderson: 1\n",
            "  Macdonald: 1\n",
            "  Scott: 1\n",
            "Dutch has  297  names\n",
            "Unique name count: 286\n",
            "  Laar: 3\n",
            "  Andel: 2\n",
            "  Hout: 2\n",
            "  Leeuwenhoek: 2\n",
            "  Nifterick: 2\n",
            "  Nifterik: 2\n",
            "  Niftrik: 2\n",
            "  Oorschot: 2\n",
            "  Rompa: 2\n",
            "  Schoorel: 2\n",
            "Korean has  94  names\n",
            "Unique name count: 94\n",
            "  Ahn: 1\n",
            "  Baik: 1\n",
            "  Bang: 1\n",
            "  Byon: 1\n",
            "  Cha: 1\n",
            "  Chang: 1\n",
            "  Chi: 1\n",
            "  Chin: 1\n",
            "  Cho: 1\n",
            "  Choe: 1\n",
            "Polish has  139  names\n",
            "Unique name count: 138\n",
            "  Zdunowski: 2\n",
            "  Adamczak: 1\n",
            "  Adamczyk: 1\n",
            "  Andrysiak: 1\n",
            "  Auttenberg: 1\n",
            "  Bartosz: 1\n",
            "  Bernard: 1\n",
            "  Bobienski: 1\n",
            "  Bosko: 1\n",
            "  Broz: 1\n"
          ]
        }
      ],
      "source": [
        "\n",
        "##################################################\n",
        "## read and inspect the data\n",
        "##################################################\n",
        "with urllib.request.urlopen(\n",
        "    \"https://raw.githubusercontent.com/michael-franke/npNLG/main/neural_pragmatic_nlg/05-RNNs/names-data.json\"\n",
        ") as url:\n",
        "    names_data = json.load(url)\n",
        "\n",
        "# # local import\n",
        "# with open('names-data.json') as dataFile:\n",
        "#     names_data = json.load(dataFile)\n",
        "\n",
        "categories = list(names_data.keys())\n",
        "n_categories = len(categories)\n",
        "print(categories)\n",
        "print(n_categories)\n",
        "for country in names_data:\n",
        "    # Get all names for the country\n",
        "    names = names_data[country]\n",
        "    print(country, \"has \", len(names), \" names\")\n",
        "\n",
        "    from collections import Counter\n",
        "    name_counts = Counter(names)\n",
        "    print(f\"Unique name count:\", len(name_counts))\n",
        "\n",
        "    sorted_names = sorted(name_counts.items(), key=lambda x: x[1], reverse=True)\n",
        "    for name, count in sorted_names[:10]:\n",
        "        print(f\"  {name}: {count}\")\n",
        "\n",
        "\n",
        "# Use all ASCII letters as vocabulary (plus tokens [EOS], [SOS])\n",
        "all_letters = string.ascii_letters + \" .,;'-\"\n",
        "n_letters = len(all_letters) + 2  # all letter + [EOS] and [SOS]\n",
        "SOSIndex = n_letters - 1\n",
        "EOSIndex = n_letters - 2\n"
      ]
    },
    {
      "cell_type": "markdown",
      "metadata": {
        "id": "eaOyAsfUPu5S"
      },
      "source": [
        "The data consists of two things:\n",
        "a list of strings, called &ldquo;categories&rdquo;, contains all the categories (languages) for which we have data;\n",
        "a dictionary, called &ldquo;names_data&rdquo;, contains a list of names for each category.\n",
        "\n",
        "> <strong><span style=&ldquo;color:#D83D2B;&rdquo;>Exercise 2.4.1: Inspect the data</span></strong>\n",
        ">\n",
        "> 0. [Just for yourself.] Find out what&rsquo;s in the data set. How any different countries do we have? How many names per country? Are all names unique in a given country? Do the names sound typical to your ears for the given countries?\n",
        "18 countries, all of the names they have are *not* unique.\n"
      ]
    },
    {
      "cell_type": "markdown",
      "metadata": {
        "id": "4HYmf9D_Pu5S"
      },
      "source": [
        "Click below to see the solution."
      ]
    },
    {
      "cell_type": "code",
      "execution_count": 5,
      "metadata": {
        "tags": [
          "hide-cell"
        ],
        "id": "xomIJGsZPu5S",
        "outputId": "733ad72e-f907-46a8-f4df-8c9be620ab65",
        "colab": {
          "base_uri": "https://localhost:8080/"
        }
      },
      "outputs": [
        {
          "output_type": "stream",
          "name": "stdout",
          "text": [
            "yes\n",
            "Number of countries: 18\n",
            "\n",
            "Czech: 519\n",
            "German: 724\n",
            "Arabic: 2000\n",
            "Japanese: 991\n",
            "Chinese: 268\n",
            "Vietnamese: 73\n",
            "Russian: 9408\n",
            "French: 277\n",
            "Irish: 232\n",
            "English: 3668\n",
            "Spanish: 298\n",
            "Greek: 203\n",
            "Italian: 709\n",
            "Portuguese: 74\n",
            "Scottish: 100\n",
            "Dutch: 297\n",
            "Korean: 94\n",
            "Polish: 139\n",
            "False\n",
            "False\n",
            "False\n",
            "False\n",
            "False\n",
            "False\n",
            "False\n",
            "False\n",
            "False\n",
            "True\n",
            "False\n",
            "False\n",
            "False\n",
            "True\n",
            "True\n",
            "False\n",
            "True\n",
            "False\n"
          ]
        }
      ],
      "source": [
        "for c in names_data:\n",
        "    for name in names_data[c]:\n",
        "        if name == \"Bruckner\":\n",
        "            print(\"yes\")\n",
        "\n",
        "names_data\n",
        "\n",
        "# number of countries\n",
        "print(f\"Number of countries: {n_categories}\\n\")\n",
        "# number of names per country\n",
        "for country in names_data:\n",
        "    print(f\"{country}: {len(names_data[country])}\")\n",
        "\n",
        "# Unique names per country\n",
        "for country in names_data:\n",
        "    print(f\"{len(names_data[country]) == len(set(names_data[country]))}\")\n",
        "\n",
        "# ---> Most of the name lists contain duplicates."
      ]
    },
    {
      "cell_type": "markdown",
      "metadata": {
        "id": "I4YBoVIlPu5T"
      },
      "source": [
        "## Train-test split\n",
        "\n"
      ]
    },
    {
      "cell_type": "markdown",
      "metadata": {
        "id": "PfCXNknOPu5T"
      },
      "source": [
        "We will split the data into a training and a test set.\n",
        "Look at the code and try to answer the exercise question of how this split is realized.\n",
        "\n"
      ]
    },
    {
      "cell_type": "code",
      "execution_count": 6,
      "metadata": {
        "id": "_bnwDSwzPu5T",
        "outputId": "1134a924-b3aa-4dfb-d107-dccc059a303a",
        "colab": {
          "base_uri": "https://localhost:8080/"
        }
      },
      "outputs": [
        {
          "output_type": "stream",
          "name": "stdout",
          "text": [
            "Czech 519 467 52\n",
            "German 724 652 72\n",
            "Arabic 2000 1800 200\n",
            "Japanese 991 892 99\n",
            "Chinese 268 241 27\n",
            "Vietnamese 73 66 7\n",
            "Russian 9408 8467 941\n",
            "French 277 249 28\n",
            "Irish 232 209 23\n",
            "English 3668 3301 367\n",
            "Spanish 298 268 30\n",
            "Greek 203 183 20\n",
            "Italian 709 638 71\n",
            "Portuguese 74 67 7\n",
            "Scottish 100 90 10\n",
            "Dutch 297 267 30\n",
            "Korean 94 85 9\n",
            "Polish 139 125 14\n"
          ]
        }
      ],
      "source": [
        "##################################################\n",
        "## make a train/test split\n",
        "##################################################\n",
        "\n",
        "train_data = dict()\n",
        "test_data = dict()\n",
        "split_percentage = 10\n",
        "for k in list(names_data.keys()):\n",
        "    total_size = len(names_data[k])\n",
        "    test_size = round(total_size / split_percentage)\n",
        "    train_size = total_size - test_size\n",
        "    print(k, total_size, train_size, test_size)\n",
        "    indices = [i for i in range(total_size)]\n",
        "    random.shuffle(indices)\n",
        "    train_indices = indices[0:train_size]\n",
        "    test_indices = indices[(train_size + 1) : (-1)]\n",
        "    train_data[k] = [names_data[k][i] for i in train_indices]\n",
        "    test_data[k] = [names_data[k][i] for i in test_indices]"
      ]
    },
    {
      "cell_type": "markdown",
      "metadata": {
        "id": "vyhKD5uvPu5U"
      },
      "source": [
        "> <strong><span style=&ldquo;color:#D83D2B;&rdquo;>Exercise 2.4.2: Explain the train-test split</span></strong>\n",
        ">\n",
        "> 1. How is the original data information split into training and test set? (E.g., what amount of data is allocated to each part?; is the split exclusive and exhaustive?; how is it determined which item goes where?)\n",
        "\n",
        "> %10 of each country's data is allocated to test(rounded up) and the rest is to the train. The code randomly shuffles the indices and then splits them into non-overlapping parts. So it is exclusive and since no datapoint is left out, it is also exhaustive.\n"
      ]
    },
    {
      "cell_type": "markdown",
      "metadata": {
        "id": "ayaT_1kUPu5U"
      },
      "source": [
        "Click below to see the solution."
      ]
    },
    {
      "cell_type": "markdown",
      "metadata": {
        "id": "PFyRoqztPu5U"
      },
      "source": [
        "```{toggle}\n",
        "The dataset is split in training- and testset, where 90% are used for training and 10% for testing. The datapoints are shuffled before assignment and therefore randomly assigned. The split is both exclusive and exhaustive.\n",
        "```"
      ]
    },
    {
      "cell_type": "markdown",
      "metadata": {
        "id": "7azNuEpxPu5U"
      },
      "source": [
        "## Defining the model\n",
        "\n"
      ]
    },
    {
      "cell_type": "markdown",
      "metadata": {
        "id": "UngpslGtPu5V"
      },
      "source": [
        "The model we use is a (hand-crafted) recurrent neural network.\n",
        "The architecture follows [this tutorial](https://pytorch.org/tutorials/intermediate/char_rnn_generation_tutorial.html), from where we also borrow the following picture:\n",
        "\n",
        "![img](https://github.com/CogSciPrag/Understanding-LLMs-course/blob/main/understanding-llms/tutorials/pics/05-RNN-diagram.png?raw=1){width=550px}\n",
        "\n",
        "The model makes consecutive predictions about the next character.\n",
        "It is conditioned on three vectors:\n",
        "\n",
        "1.  &rsquo;category&rsquo; is a one-hot vector encoding the country\n",
        "2.  &rsquo;input&rsquo; is a one-hot vector encoding the character\n",
        "3.  &rsquo;hidden&rsquo; is the RNN&rsquo;s hidden state (remembering what happened before)\n",
        "\n",
        "These vectors are first combined and then used to produce a next-character probability distribution *and* the hidden state to be fed into the next round of predictions.\n",
        "\n",
        "Next to the usual functions (initialization and forward pass), there is also a function that returns a blank &rsquo;hidden state&rsquo;.\n",
        "This will be used later during training and inference, because at the start of each application (training or inference) the RNN should have a blank memory.\n",
        "(It makes sense to include this function in the definition of the module because it depends on the module&rsquo;s parameters (size of the hidden layer).)\n",
        "\n",
        "Notice that the architecture features a dropout layer, which randomly sets a fixed proportion of units to 0.\n",
        "The inclusion of dropout introduces a random element in the model during training and inference.\n",
        "\n"
      ]
    },
    {
      "cell_type": "code",
      "execution_count": 7,
      "metadata": {
        "id": "22rxFGbTPu5V"
      },
      "outputs": [],
      "source": [
        "##################################################\n",
        "## define RNN\n",
        "##################################################\n",
        "\n",
        "\n",
        "class RNN(nn.Module):\n",
        "    def __init__(self, input_size, hidden_size, output_size, dropout=0.1):\n",
        "        super(RNN, self).__init__()\n",
        "        self.hidden_size = hidden_size\n",
        "        self.i2h = nn.Linear(n_categories + input_size + hidden_size, hidden_size)\n",
        "        self.i2o = nn.Linear(n_categories + input_size + hidden_size, output_size)\n",
        "        self.o2o = nn.Linear(hidden_size + output_size, output_size)\n",
        "        self.relu = nn.ReLU()\n",
        "        self.dropout = nn.Dropout(dropout)\n",
        "        self.softmax = nn.LogSoftmax(dim=1)\n",
        "\n",
        "    def forward(self, category, input, hidden, dropout):\n",
        "        input_combined = torch.cat((category, input, hidden), 1)\n",
        "        hidden = self.i2h(input_combined)\n",
        "        output = self.i2o(input_combined)\n",
        "        output_combined = torch.cat((hidden, output), 1)\n",
        "        output_combined = self.relu(output_combined)\n",
        "        output = self.o2o(output_combined)\n",
        "        if dropout:\n",
        "            output = self.dropout(output)\n",
        "        output = self.softmax(output)\n",
        "        return output, hidden\n",
        "\n",
        "    def init_hidden(self):\n",
        "        return torch.zeros(1, self.hidden_size)"
      ]
    },
    {
      "cell_type": "markdown",
      "metadata": {
        "id": "heYqUhk5Pu5V"
      },
      "source": [
        "> <strong><span style=&ldquo;color:#D83D2B;&rdquo;>Exercise 2.4.3: Inspect the model</span></strong>\n",
        ">\n",
        "> 0. [Just for yourself.] Make sure that you understand the model architecture and its implementation. E.g., do you agree that this code implements the model graph shown above? Can you think of slight alterations to the model which might also work?\n",
        "\n"
      ]
    },
    {
      "cell_type": "markdown",
      "metadata": {
        "id": "Stw_tw1QPu5V"
      },
      "source": [
        "Click below to see the solutions."
      ]
    },
    {
      "cell_type": "markdown",
      "metadata": {
        "id": "lHn0_qltPu5V"
      },
      "source": [
        "```{toggle}\n",
        "The model matches the graph in the picture. Not sure what the expected alternation here is. It could be a good idea to limit the dropout layer to training and deactivate for inference. We would have to add an additional parameter to the forward pass as shown above.\n",
        "\n",
        "Another idea would be to add a non-linear activation function between the combined output layer and the final output layer. This seems to improve training quiet a bit.\n",
        "```"
      ]
    },
    {
      "cell_type": "markdown",
      "metadata": {
        "id": "pNrRvbvMPu5V"
      },
      "source": [
        "## Helper functions for training\n",
        "\n"
      ]
    },
    {
      "cell_type": "markdown",
      "metadata": {
        "id": "HtJjyIa7Pu5V"
      },
      "source": [
        "For training, we will present the model with randomly sampled single items.\n",
        "This is why we define a &rsquo;random_training_pair&rsquo; function which returns, well, a random training pair (category and name).\n",
        "\n"
      ]
    },
    {
      "cell_type": "code",
      "execution_count": 8,
      "metadata": {
        "id": "TVBq-8M6Pu5V"
      },
      "outputs": [],
      "source": [
        "##################################################\n",
        "## helper functions for training\n",
        "##################################################\n",
        "\n",
        "\n",
        "# Random item from a list\n",
        "def random_choice(l):\n",
        "    return l[random.randint(0, len(l) - 1)]\n",
        "\n",
        "\n",
        "# Get a random category and random line from that category\n",
        "def random_training_pair():\n",
        "    category = random_choice(categories)\n",
        "    line = random_choice(train_data[category])\n",
        "    return category, line"
      ]
    },
    {
      "cell_type": "markdown",
      "metadata": {
        "id": "K-UEQGcEPu5V"
      },
      "source": [
        "We also need to make sure that the training and test data are in a format that the model understands.\n",
        "So, this is where we use vector representations for the categories and sequences of characters.\n",
        "For sequences of characters we distinguish those used as input to the model (&rsquo;input_tensor&rsquo;) and those used in training as what needs to be predicted (&rsquo;target_tensor&rsquo;).\n",
        "\n"
      ]
    },
    {
      "cell_type": "code",
      "execution_count": 10,
      "metadata": {
        "id": "LMok7l4JPu5W"
      },
      "outputs": [],
      "source": [
        "# One-hot vector for category\n",
        "def category_tensor(category):\n",
        "    li = categories.index(category)\n",
        "    tensor = torch.zeros(1, n_categories)\n",
        "    tensor[0][li] = 1\n",
        "    return tensor\n",
        "\n",
        "\n",
        "# One-hot matrix of first to last letters (not including [EOS]) for input\n",
        "# The first input is always [SOS]\n",
        "def input_tensor(line):\n",
        "    tensor = torch.zeros(len(line) + 1, 1, n_letters)\n",
        "    tensor[0][0][SOSIndex] = 1\n",
        "    for li in range(len(line)):\n",
        "        letter = line[li]\n",
        "        tensor[li + 1][0][all_letters.find(letter)] = 1\n",
        "    return tensor\n",
        "\n",
        "\n",
        "def target_tensor(line):\n",
        "    letter_indexes = [all_letters.find(line[li]) for li in range(len(line))]\n",
        "    letter_indexes.append(EOSIndex)\n",
        "    return torch.LongTensor(letter_indexes)"
      ]
    },
    {
      "cell_type": "markdown",
      "metadata": {
        "id": "Gyq3wFq3Pu5W"
      },
      "source": [
        "Finally, we construct a function that returns a random training pair in the proper vectorized format.\n",
        "\n"
      ]
    },
    {
      "cell_type": "code",
      "execution_count": 11,
      "metadata": {
        "id": "Z3-zUeR0Pu5W"
      },
      "outputs": [],
      "source": [
        "# Make category, input, and target tensors from a random category, line pair\n",
        "def random_training_example():\n",
        "    \"\"\"\n",
        "    select a random training pair (category, name).\n",
        "    return:\n",
        "    - category_tensor: Tensor of shape (1, n_categories), one-hot encoded category.\n",
        "    - input_tensor: Tensor of shape (line_length + 1, 1, n_letters), one-hot encoded sequence of characters with SOS at start.\n",
        "    - target_tensor: Tensor of shape (line_length + 1), containing indices of the next characters, ending with EOS.\n",
        "\n",
        "    This format is suitable for training an RNN to predict the next character in a sequence given a language category.\n",
        "    \"\"\"\n",
        "    category, line = random_training_pair()\n",
        "    category_tensor_ = category_tensor(category)\n",
        "    input_line_tensor = input_tensor(line)\n",
        "    target_line_tensor = target_tensor(line)\n",
        "    return category_tensor_, input_line_tensor, target_line_tensor"
      ]
    },
    {
      "cell_type": "markdown",
      "metadata": {
        "id": "g589Tp8oPu5W"
      },
      "source": [
        "> <strong><span style=&ldquo;color:#D83D2B;&rdquo;>Exercise 2.4.4: Understand the representational format </span></strong>\n",
        ">\n",
        "> 1. Write a doc-string for the function &rsquo;random_training_example&rsquo; that is short but completely explanatory regarding the format and meaning of its output."
      ]
    },
    {
      "cell_type": "markdown",
      "metadata": {
        "id": "xACKkpcaPu5W"
      },
      "source": [
        "Click below to see the solution."
      ]
    },
    {
      "cell_type": "code",
      "execution_count": null,
      "metadata": {
        "tags": [
          "hide-cell"
        ],
        "id": "tUPyteXMPu5W"
      },
      "outputs": [],
      "source": [
        "# Make category, input, and target tensors from a random category, line pair\n",
        "def random_training_example():\n",
        "    \"\"\"\n",
        "    create a random training example from dataset.\n",
        "    :return:\n",
        "        category_tensor_: A tensor of shape (1X18) with a one at the index of the current country and zeros elsewhere\n",
        "        input_line_tensor: A tensor of shape (length current name x 1 x 60). There is one tensor for each character of\n",
        "                           the name with a one at the index of the current character and zeros elsewhere.\n",
        "        target_line_tensor: A tensor of length equal to the number of characters in the name indicating the indices\n",
        "                            of the characters in the vocabulary. (gold label)\n",
        "    \"\"\"\n",
        "    category, line = random_training_pair()\n",
        "    category_tensor_ = category_tensor(category)\n",
        "    input_line_tensor = input_tensor(line)\n",
        "    target_line_tensor = target_tensor(line)\n",
        "    return category_tensor_, input_line_tensor, target_line_tensor"
      ]
    },
    {
      "cell_type": "markdown",
      "metadata": {
        "id": "G-oR9s3hPu5X"
      },
      "source": [
        "We use this timing function to keep track of training time:"
      ]
    },
    {
      "cell_type": "code",
      "execution_count": 12,
      "metadata": {
        "id": "JJlZPiJ5Pu5X"
      },
      "outputs": [],
      "source": [
        "def time_since(since):\n",
        "    now = time.time()\n",
        "    s = now - since\n",
        "    m = math.floor(s / 60)\n",
        "    s -= m * 60\n",
        "    return \"%dm %ds\" % (m, s)"
      ]
    },
    {
      "cell_type": "markdown",
      "metadata": {
        "id": "m9ephwKqPu5X"
      },
      "source": [
        "## Training the network\n",
        "\n"
      ]
    },
    {
      "cell_type": "markdown",
      "metadata": {
        "id": "ugp5-M6fPu5X"
      },
      "source": [
        "This function captures a single training step for one training triplet (category, input representation of the name, output representation of the string).\n",
        "\n",
        "What is important to note here is that at the start of each &ldquo;name&rdquo;, so to speak, we need to supply a fresh &rsquo;hidden layer&rsquo;, but that subsequent calls to the RNN&rsquo;s forward pass function will use the hidden layer that is returned from the previous forward pass.\n",
        "\n"
      ]
    },
    {
      "cell_type": "code",
      "execution_count": 13,
      "metadata": {
        "id": "faVrKBiJPu5X"
      },
      "outputs": [],
      "source": [
        "##################################################\n",
        "## single training pass\n",
        "##################################################\n",
        "\n",
        "\n",
        "def train(category_tensor, input_line_tensor, target_line_tensor):\n",
        "    # reshape target tensor\n",
        "    target_line_tensor.unsqueeze_(-1)\n",
        "    # get a fresh hidden layer\n",
        "    hidden = rnn.init_hidden()\n",
        "    # reset cumulative loss\n",
        "    optimizer.zero_grad()\n",
        "    loss = 0\n",
        "    # zero the gradients\n",
        "    # sequentially probe predictions and collect loss\n",
        "    for i in range(input_line_tensor.size(0)):\n",
        "        output, hidden = rnn(category_tensor, input_line_tensor[i], hidden, True)\n",
        "        l = criterion(output, target_line_tensor[i])\n",
        "        loss += l\n",
        "    # perform backward pass\n",
        "    loss.backward()\n",
        "    # perform optimization\n",
        "    optimizer.step()\n",
        "    # return prediction and loss\n",
        "    return loss.item()  # / input_line_tensor.size(0)"
      ]
    },
    {
      "cell_type": "markdown",
      "metadata": {
        "id": "mb0p3DjiPu5X"
      },
      "source": [
        "The actual training process is furthermore not very special.\n",
        "\n"
      ]
    },
    {
      "cell_type": "code",
      "execution_count": 14,
      "metadata": {
        "id": "d5j3N_8-Pu5c",
        "outputId": "72c6da82-b88d-4e2c-ec45-d3546ac33b0f",
        "colab": {
          "base_uri": "https://localhost:8080/"
        }
      },
      "outputs": [
        {
          "output_type": "stream",
          "name": "stdout",
          "text": [
            "0m 28s (5000 5%) 20.0221\n",
            "0m 58s (10000 10%) 18.9906\n",
            "1m 27s (15000 15%) 18.3383\n",
            "1m 56s (20000 20%) 17.8402\n",
            "2m 24s (25000 25%) 17.4561\n",
            "2m 53s (30000 30%) 17.1463\n",
            "3m 22s (35000 35%) 16.8836\n",
            "3m 52s (40000 40%) 16.6709\n",
            "4m 21s (45000 45%) 16.4822\n",
            "4m 50s (50000 50%) 16.3105\n",
            "5m 19s (55000 55%) 16.1451\n",
            "5m 50s (60000 60%) 16.0005\n",
            "6m 20s (65000 65%) 15.8666\n",
            "6m 50s (70000 70%) 15.7468\n",
            "7m 19s (75000 75%) 15.6327\n",
            "7m 50s (80000 80%) 15.5167\n",
            "8m 19s (85000 85%) 15.4145\n",
            "8m 50s (90000 90%) 15.3184\n",
            "9m 20s (95000 95%) 15.2319\n",
            "9m 50s (100000 100%) 15.1461\n"
          ]
        }
      ],
      "source": [
        "##################################################\n",
        "## actual training loop\n",
        "## (should take about 2-4 minutes)\n",
        "##################################################\n",
        "\n",
        "# instantiate the model\n",
        "rnn = RNN(n_letters, 128, n_letters)\n",
        "# training objective\n",
        "criterion = nn.NLLLoss()\n",
        "# learning rate\n",
        "learning_rate = 0.0005\n",
        "# optimizer\n",
        "optimizer = torch.optim.Adam(rnn.parameters(), lr=learning_rate)\n",
        "# training parameters\n",
        "n_iters = 100000\n",
        "print_every = 5000\n",
        "plot_every = 500\n",
        "all_losses = []\n",
        "total_loss = 0  # will be reset every 'plot_every' iterations\n",
        "\n",
        "start = time.time()\n",
        "\n",
        "for iter in range(1, n_iters + 1):\n",
        "    loss = train(*random_training_example())\n",
        "    total_loss += loss\n",
        "\n",
        "    if iter % plot_every == 0:\n",
        "        all_losses.append(total_loss / plot_every)\n",
        "        total_loss = 0\n",
        "\n",
        "    if iter % print_every == 0:\n",
        "        rolling_mean = np.mean(all_losses[iter - print_every * (iter // print_every) :])\n",
        "        print(\n",
        "            \"%s (%d %d%%) %.4f\"\n",
        "            % (time_since(start), iter, iter / n_iters * 100, rolling_mean)\n",
        "        )"
      ]
    },
    {
      "cell_type": "markdown",
      "metadata": {
        "id": "bTKU04uuPu5c"
      },
      "source": [
        "Here is a plot of the temporal development of the model&rsquo;s performance during training:\n",
        "\n"
      ]
    },
    {
      "cell_type": "code",
      "execution_count": 15,
      "metadata": {
        "id": "ppyQGtUuPu5c",
        "outputId": "84840da7-f020-46b8-a457-b61e30849f2e",
        "colab": {
          "base_uri": "https://localhost:8080/",
          "height": 430
        }
      },
      "outputs": [
        {
          "output_type": "display_data",
          "data": {
            "text/plain": [
              "<Figure size 640x480 with 1 Axes>"
            ],
            "image/png": "[encoded data removed]"
          },
          "metadata": {}
        }
      ],
      "source": [
        "##################################################\n",
        "## monitoring loss function during training\n",
        "##################################################\n",
        "\n",
        "plt.figure()\n",
        "plt.plot(all_losses)\n",
        "plt.show()"
      ]
    },
    {
      "cell_type": "markdown",
      "metadata": {
        "id": "2bzL9tOKPu5d"
      },
      "source": [
        "> <strong><span style=&ldquo;color:#D83D2B;&rdquo;>Exercise 2.4.5: Investigate the training regime </span></strong>\n",
        ">\n",
        "> 1. What exactly is the loss function here? What are we training the model on: perplexity, average surprisal, or yet something else?\n",
        "> It is negative log-likelihood loss. It is average surprisal.\n"
      ]
    },
    {
      "cell_type": "markdown",
      "metadata": {
        "id": "KMEmvbZ6Pu5d"
      },
      "source": [
        "Click below to see the solution."
      ]
    },
    {
      "cell_type": "markdown",
      "metadata": {
        "id": "pr69E02ZPu5d"
      },
      "source": [
        "```{toggle}\n",
        "We have the loss function defined as the negative log likelihood loss, which is basically average surprisal. Especially since nn.NLLLoss has a parameter \"reduction\" which is set to \"mean\" by default.\n",
        "```"
      ]
    },
    {
      "cell_type": "markdown",
      "metadata": {
        "id": "UUPRwJ06Pu5d"
      },
      "source": [
        "## Evaluation & inference\n",
        "\n"
      ]
    },
    {
      "cell_type": "markdown",
      "metadata": {
        "id": "RCH2L0VWPu5d"
      },
      "source": [
        "Let&rsquo;s see what the model has learned and how well it does in producing new names.\n",
        "\n",
        "Here are some auxiliary functions to obtain surprisal values and related notions for sequences of characters.\n",
        "We can use them to compare the model&rsquo;s performance on the training and test data set.\n",
        "\n"
      ]
    },
    {
      "cell_type": "code",
      "execution_count": 16,
      "metadata": {
        "id": "jjpKQ3xnPu5d",
        "outputId": "d71a5e4b-710c-4f80-ca3b-df3cad95d69b",
        "colab": {
          "base_uri": "https://localhost:8080/"
        }
      },
      "outputs": [
        {
          "output_type": "stream",
          "name": "stdout",
          "text": [
            "\n",
            "mean surprisal (test): 15.44156122088758\n",
            "\n",
            "mean surprisal (train): 11.850367460338868\n"
          ]
        }
      ],
      "source": [
        "##################################################\n",
        "## evaluation\n",
        "##################################################\n",
        "\n",
        "\n",
        "def get_surprisal_item(category, name):\n",
        "    category_tensor_ = category_tensor(category)\n",
        "    input_line_tensor = input_tensor(name)\n",
        "    target_line_tensor = target_tensor(name)\n",
        "    hidden = rnn.init_hidden()\n",
        "    surprisal = 0\n",
        "    target_line_tensor.unsqueeze_(-1)\n",
        "\n",
        "    for i in range(input_line_tensor.size(0)):\n",
        "        output, hidden = rnn(category_tensor_, input_line_tensor[i], hidden, False)\n",
        "        surprisal += criterion(output, target_line_tensor[i])\n",
        "    return surprisal.item()\n",
        "\n",
        "\n",
        "def get_surprisal_dataset(data):\n",
        "    surprisl_dict = dict()\n",
        "    surp_avg_dict = dict()\n",
        "    perplxty_dict = dict()\n",
        "    for category in list(data.keys()):\n",
        "        surprisl = 0\n",
        "        surp_avg = 0\n",
        "        perplxty = 0\n",
        "        # training\n",
        "        for name in data[category]:\n",
        "            item_surpr = get_surprisal_item(category, name)\n",
        "            surprisl += item_surpr\n",
        "            surp_avg += item_surpr / len(name)\n",
        "            perplxty += item_surpr ** (-1 / len(name))\n",
        "        n_items = len(data[category])\n",
        "\n",
        "        surprisl_dict[category] = surprisl / n_items\n",
        "        surp_avg_dict[category] = surp_avg / n_items\n",
        "        perplxty_dict[category] = perplxty / n_items\n",
        "\n",
        "    return (surprisl_dict, surp_avg_dict, perplxty_dict)\n",
        "\n",
        "\n",
        "def make_df(surp_dict):\n",
        "    p = pandas.DataFrame.from_dict(surp_dict)\n",
        "    p = p.transpose()\n",
        "    p.columns = [\"surprisal\", \"surp_scaled\", \"perplexity\"]\n",
        "    return p\n",
        "\n",
        "\n",
        "surprisal_test = make_df(get_surprisal_dataset(test_data))\n",
        "surprisal_train = make_df(get_surprisal_dataset(train_data))\n",
        "\n",
        "print(\"\\nmean surprisal (test):\", np.mean(surprisal_test[\"surprisal\"]))\n",
        "print(\"\\nmean surprisal (train):\", np.mean(surprisal_train[\"surprisal\"]))"
      ]
    },
    {
      "cell_type": "markdown",
      "metadata": {
        "id": "uqeDAv-kPu5d"
      },
      "source": [
        "> <strong><span style=&ldquo;color:#D83D2B;&rdquo;>Exercise 2.4.6: Interpret the evaluation metric </span></strong>\n",
        ">\n",
        "> 1. What do these two last numbers represent? What&rsquo;s better: a higher or lower value? What do the two numbers tell us when we compare them?\n",
        "> They are mean surprisal values, which are averages of losses. A low surprisal is better.Results indicate that the model performs better on the training set.\n"
      ]
    },
    {
      "cell_type": "markdown",
      "metadata": {
        "id": "1a9GBPm3Pu5d"
      },
      "source": [
        "Click below to see the solution."
      ]
    },
    {
      "cell_type": "markdown",
      "metadata": {
        "id": "Q6t-ibMEPu5d"
      },
      "source": [
        "```{toggle}\n",
        "These two values answer the question, how surprised the model is seeing the data. A higher value indicates more surprisal. We can see that the model is more surprised seeing the test set, which makes sense because it was trained on the train set while it has never seen the test set before.\n",
        "```"
      ]
    },
    {
      "cell_type": "markdown",
      "metadata": {
        "id": "zrTJAkw0Pu5e"
      },
      "source": [
        "## Inference\n",
        "\n"
      ]
    },
    {
      "cell_type": "markdown",
      "metadata": {
        "id": "f3of2bXJPu5e"
      },
      "source": [
        "Let&rsquo;s also explore the trained model&rsquo;s predictions to compare them against our own intuitions of what might be typical names in a given country.\n",
        "\n",
        "Here&rsquo;s a function that takes a country and an initial string, and it outputs a model prediction for how to continue that string.\n",
        "\n",
        "Note that for each prediction step with the model, the model is embedded under `torch.no_grad()`. This setting means that gradients are not computed during the forward passes through the model. This setting is recommended for *inference* (for any neural net), i.e., when you don't want to train the model anymore (only use it for generating predictions). This allows to increase computational effiency and save memory."
      ]
    },
    {
      "cell_type": "code",
      "execution_count": 17,
      "metadata": {
        "id": "Q8xx_IdCPu5e",
        "outputId": "0fd92633-8c90-473d-ff3c-0e69ff4c12ce",
        "colab": {
          "base_uri": "https://localhost:8080/"
        }
      },
      "outputs": [
        {
          "output_type": "stream",
          "name": "stdout",
          "text": [
            "Müller\n",
            "Müller\n",
            "Müller\n",
            "Müller\n"
          ]
        }
      ],
      "source": [
        "##################################################\n",
        "## prediction function\n",
        "##################################################\n",
        "\n",
        "max_length = 20\n",
        "\n",
        "\n",
        "# make a prediction based on given sequence\n",
        "def predict(category, initial_sequence):\n",
        "\n",
        "    if len(initial_sequence) >= max_length:\n",
        "        return initial_sequence\n",
        "\n",
        "    category_tensor_ = category_tensor(category)\n",
        "    input_line_tensor = input_tensor(initial_sequence)\n",
        "    hidden = rnn.init_hidden()\n",
        "\n",
        "    name = initial_sequence\n",
        "\n",
        "    for i in range(input_line_tensor.size(0)):\n",
        "        with torch.no_grad():\n",
        "            output, hidden = rnn(category_tensor_, input_line_tensor[i], hidden, False)\n",
        "\n",
        "    # greedy decoding: choosing the most likely guess\n",
        "    topv, topi = output.topk(1)\n",
        "    topi = topi[0][0]\n",
        "\n",
        "    if topi == EOSIndex:\n",
        "        return name\n",
        "    else:\n",
        "        name += all_letters[topi]\n",
        "\n",
        "    return predict(category, name)\n",
        "\n",
        "\n",
        "print(predict(\"German\", \"Müll\"))\n",
        "print(predict(\"German\", \"Müll\"))\n",
        "print(predict(\"German\", \"Müll\"))\n",
        "print(predict(\"German\", \"Müll\"))"
      ]
    },
    {
      "cell_type": "markdown",
      "metadata": {
        "id": "U3W8NRFLPu5e"
      },
      "source": [
        "You can also probe the model with an empty string:\n",
        "\n"
      ]
    },
    {
      "cell_type": "code",
      "execution_count": 19,
      "metadata": {
        "id": "xael15YSPu5e",
        "outputId": "8a293547-9ada-464f-8bf4-9dec4f05e517",
        "colab": {
          "base_uri": "https://localhost:8080/"
        }
      },
      "outputs": [
        {
          "output_type": "stream",
          "name": "stdout",
          "text": [
            "Kamata\n",
            "Kamata\n",
            "Kamata\n",
            "Kamata\n",
            "Bauner\n",
            "Grost\n"
          ]
        }
      ],
      "source": [
        "print(predict(\"Japanese\", \"\"))\n",
        "print(predict(\"Japanese\", \"\"))\n",
        "print(predict(\"Japanese\", \"\"))\n",
        "print(predict(\"Japanese\", \"\"))\n",
        "print(predict(\"German\", \"\"))\n",
        "print(predict(\"English\", \"\"))"
      ]
    },
    {
      "cell_type": "markdown",
      "metadata": {
        "id": "o8Al1qVyPu5f"
      },
      "source": [
        "> <strong><span style=&ldquo;color:#D83D2B;&rdquo;>Exercise 2.4.7: Explore the model&rsquo;s predictions </span></strong>\n",
        ">\n",
        "> 1. Play around with these prediction functions for a country or several of which you have robust intuitions about how names from that country might sound. Report on one feature that speaks in favor of the model, and one that suggests that the model is not perfect (or seriously flawed).\n",
        ">  The one flaw of the model is it keeps predicting the same names when the same country or the character sequence is given, suggesting it overfits. The one good feature is that it captures patterns very-well.\n",
        "> 2. Is the prediction function as implemented in this subsection stochastic or not?\n",
        "\n",
        "It is not stochastic."
      ]
    },
    {
      "cell_type": "markdown",
      "metadata": {
        "id": "OquONgaSPu5f"
      },
      "source": [
        "Click below to see the solution."
      ]
    },
    {
      "cell_type": "markdown",
      "metadata": {
        "id": "6HeEWGHCPu5f"
      },
      "source": [
        "```{toggle}\n",
        "The predict() function itself is not stochastic but rather deterministic, because it uses greedy decoding. This means it will always choose the next most likely character. The variance in the completions comes from the dropout layer in the models architecture leaving space for some randomness. Removing that layer during inference (as described above) will always lead to the same completion given the same input.\n",
        "```"
      ]
    },
    {
      "cell_type": "markdown",
      "metadata": {
        "id": "LY9FtsCaPu5f"
      },
      "source": [
        "## Inverting the generation model\n",
        "\n"
      ]
    },
    {
      "cell_type": "markdown",
      "metadata": {
        "id": "Z6EKSF0MPu5f"
      },
      "source": [
        "The model we have trained here could be consider a **speaker model**: the model generates language (very limited in scope but still).\n",
        "Additionally, the model can be used to probe how likely a particular name would be (as a generated string) for a particular category/country.\n",
        "So, essentially we get something like $P_{S}(name \\mid category)$ as a speaker likelihood function.\n",
        "For instance, we can do this:\n",
        "\n"
      ]
    },
    {
      "cell_type": "code",
      "execution_count": 20,
      "metadata": {
        "id": "Wge1JK9ePu5f",
        "outputId": "d49c67ec-c9d3-46e0-b5b8-3a9d664a0ba8",
        "colab": {
          "base_uri": "https://localhost:8080/"
        }
      },
      "outputs": [
        {
          "output_type": "stream",
          "name": "stdout",
          "text": [
            "13.77774429321289\n",
            "20.544687271118164\n"
          ]
        }
      ],
      "source": [
        "print(get_surprisal_item(\"German\", \"Franke\"))\n",
        "print(get_surprisal_item(\"Arabic\", \"Franke\"))"
      ]
    },
    {
      "cell_type": "markdown",
      "metadata": {
        "id": "GH661UWpPu5f"
      },
      "source": [
        "> <strong><span style=&ldquo;color:#D83D2B;&rdquo;>Exercise 2.4.8: Category prediction with Bayes rule </span></strong>\n",
        ">\n",
        "> 1. Use the model as a speaker likelihood function to compute, via Bayes rule, the probability $P(category\\mid name)$ for the names &ldquo;Dovesky&rdquo;, &ldquo;Jackson&rdquo; and &ldquo;Satoshi&rdquo;. Compare the results against those obtained by the RNN-based classifier reported in [this tutorial](https://pytorch.org/tutorials/intermediate/char_rnn_classification_tutorial.html) (all the way at the end).\n",
        "\n"
      ]
    },
    {
      "cell_type": "markdown",
      "metadata": {
        "id": "WsyxyablPu5g"
      },
      "source": [
        "Click below to see the solution."
      ]
    },
    {
      "cell_type": "code",
      "execution_count": 21,
      "metadata": {
        "tags": [
          "hide-cell"
        ],
        "id": "TjCkM5bXPu5g"
      },
      "outputs": [],
      "source": [
        "# names_data\n",
        "n_names = 0\n",
        "for key in train_data:\n",
        "    n_names += len(train_data[key])\n",
        "n_categories = len(train_data)"
      ]
    },
    {
      "cell_type": "code",
      "execution_count": 22,
      "metadata": {
        "tags": [
          "hide-cell"
        ],
        "id": "GxW387EwPu5g",
        "outputId": "7d07ce93-73cc-4df6-d0a3-27fe429f49a3",
        "colab": {
          "base_uri": "https://localhost:8080/"
        }
      },
      "outputs": [
        {
          "output_type": "stream",
          "name": "stdout",
          "text": [
            "Logspace: P(Czech | Doveski) = -2.2774643898010254\n",
            "Logspace: P(German | Doveski) = -2.5991015434265137\n",
            "Logspace: P(Arabic | Doveski) = -3.68674373626709\n",
            "Logspace: P(Japanese | Doveski) = -3.150683879852295\n",
            "Logspace: P(Chinese | Doveski) = -4.266093730926514\n",
            "Logspace: P(Vietnamese | Doveski) = -4.516214370727539\n",
            "Logspace: P(Russian | Doveski) = -2.217602252960205\n",
            "Logspace: P(French | Doveski) = -3.0485265254974365\n",
            "Logspace: P(Irish | Doveski) = -2.9182817935943604\n",
            "Logspace: P(English | Doveski) = -2.630126714706421\n",
            "Logspace: P(Spanish | Doveski) = -3.2798540592193604\n",
            "Logspace: P(Greek | Doveski) = -2.8038394451141357\n",
            "Logspace: P(Italian | Doveski) = -2.6790053844451904\n",
            "Logspace: P(Portuguese | Doveski) = -3.931386947631836\n",
            "Logspace: P(Scottish | Doveski) = -2.7779057025909424\n",
            "Logspace: P(Dutch | Doveski) = -2.5868515968322754\n",
            "Logspace: P(Korean | Doveski) = -5.119194984436035\n",
            "Logspace: P(Polish | Doveski) = -2.1369545459747314\n",
            "1.0000001\n",
            "\n",
            "------------------------------------------------------------------------\n",
            "\n",
            "Logspace: P(Czech | Jackson) = -2.823012590408325\n",
            "Logspace: P(German | Jackson) = -2.6330292224884033\n",
            "Logspace: P(Arabic | Jackson) = -3.995298385620117\n",
            "Logspace: P(Japanese | Jackson) = -3.775749683380127\n",
            "Logspace: P(Chinese | Jackson) = -3.8832006454467773\n",
            "Logspace: P(Vietnamese | Jackson) = -5.087978839874268\n",
            "Logspace: P(Russian | Jackson) = -2.8469948768615723\n",
            "Logspace: P(French | Jackson) = -2.681166410446167\n",
            "Logspace: P(Irish | Jackson) = -2.6554155349731445\n",
            "Logspace: P(English | Jackson) = -2.0508365631103516\n",
            "Logspace: P(Spanish | Jackson) = -4.013689041137695\n",
            "Logspace: P(Greek | Jackson) = -3.7807905673980713\n",
            "Logspace: P(Italian | Jackson) = -4.152534484863281\n",
            "Logspace: P(Portuguese | Jackson) = -4.4155802726745605\n",
            "Logspace: P(Scottish | Jackson) = -1.3113625049591064\n",
            "Logspace: P(Dutch | Jackson) = -2.764634847640991\n",
            "Logspace: P(Korean | Jackson) = -4.27211856842041\n",
            "Logspace: P(Polish | Jackson) = -2.8109161853790283\n",
            "1.0\n",
            "\n",
            "------------------------------------------------------------------------\n",
            "\n",
            "Logspace: P(Czech | Satoshi) = -2.558912992477417\n",
            "Logspace: P(German | Satoshi) = -2.9577224254608154\n",
            "Logspace: P(Arabic | Satoshi) = -2.6314480304718018\n",
            "Logspace: P(Japanese | Satoshi) = -1.6356502771377563\n",
            "Logspace: P(Chinese | Satoshi) = -3.7302706241607666\n",
            "Logspace: P(Vietnamese | Satoshi) = -4.701850891113281\n",
            "Logspace: P(Russian | Satoshi) = -2.469816207885742\n",
            "Logspace: P(French | Satoshi) = -3.0107638835906982\n",
            "Logspace: P(Irish | Satoshi) = -3.13441801071167\n",
            "Logspace: P(English | Satoshi) = -2.807342052459717\n",
            "Logspace: P(Spanish | Satoshi) = -3.4486944675445557\n",
            "Logspace: P(Greek | Satoshi) = -2.5304372310638428\n",
            "Logspace: P(Italian | Satoshi) = -2.5062448978424072\n",
            "Logspace: P(Portuguese | Satoshi) = -4.200685977935791\n",
            "Logspace: P(Scottish | Satoshi) = -3.1872949600219727\n",
            "Logspace: P(Dutch | Satoshi) = -3.4587676525115967\n",
            "Logspace: P(Korean | Satoshi) = -4.942294120788574\n",
            "Logspace: P(Polish | Satoshi) = -3.0965688228607178\n",
            "0.9999999\n",
            "\n",
            "------------------------------------------------------------------------\n",
            "\n"
          ]
        }
      ],
      "source": [
        "# function to retrieve conditional probability for (name|country)\n",
        "def get_prob(country, name):\n",
        "    category_tensor_ = category_tensor(country)\n",
        "    input_line_tensor = input_tensor(name)\n",
        "    target_line_tensor = target_tensor(name)\n",
        "    hidden = rnn.init_hidden()\n",
        "    log_prob = 0\n",
        "\n",
        "    for i in range(input_line_tensor.size(0)):\n",
        "\n",
        "        output, hidden = rnn(category_tensor_, input_line_tensor[i], hidden, False)\n",
        "        output = output.squeeze()\n",
        "        log_prob += output[target_line_tensor[i]].detach().numpy()\n",
        "    return np.exp(log_prob/input_line_tensor.size(0))\n",
        "\n",
        "\n",
        "# get probability of categories\n",
        "p_categories = {}\n",
        "for key in names_data:\n",
        "    p_categories[key] = len(names_data[key])/n_names\n",
        "\n",
        "# get the conditional probabilities P(name|cat) from model\n",
        "cond_prob_names = {\"Doveski\":[], \"Jackson\":[], \"Satoshi\":[]}\n",
        "country2idx = {}\n",
        "for i, key in enumerate(names_data):\n",
        "    # create mapping from index to country\n",
        "    country2idx[key] = i\n",
        "    for name in cond_prob_names:\n",
        "        prob = get_prob(key, name)\n",
        "        cond_prob_names[name].append(prob)\n",
        "\n",
        "# calculate probability of name as P(name) = sum(P(name|category) * P(category)) for all categories\n",
        "p_names = {\"Doveski\":0, \"Jackson\":0, \"Satoshi\":0}\n",
        "for name in p_names:\n",
        "    for country in names_data:\n",
        "        p_names[name] += cond_prob_names[name][country2idx[country]] * 1/18\n",
        "\n",
        "# apply bayes law\n",
        "for name in cond_prob_names:\n",
        "    total = 0\n",
        "    for country in names_data:\n",
        "        # print(f\"P({country} | {name}) = {(cond_prob_names[name][country2idx[country]] * p_categories[country]) / p_names[name]}\")\n",
        "        print(f\"Logspace: P({country} | {name}) = {np.log((cond_prob_names[name][country2idx[country]] * 1/18) / p_names[name])}\")\n",
        "        total += (cond_prob_names[name][country2idx[country]] * 1/18) / p_names[name]\n",
        "    print(total)\n",
        "    print(\"\\n------------------------------------------------------------------------\\n\")"
      ]
    },
    {
      "cell_type": "markdown",
      "metadata": {
        "id": "QW_hzEyaPu5g"
      },
      "source": [
        "```{toggle}\n",
        "While the numbers don't exactly match with the tutorial, the general tendency is the same except for \"satoshi\", where our model predicts more correctly japanese as the most likely class as opposed to italian in the tutorial.\n",
        "```"
      ]
    },
    {
      "cell_type": "markdown",
      "metadata": {
        "id": "2bQGaogVPu5g"
      },
      "source": []
    }
  ],
  "metadata": {
    "kernelspec": {
      "display_name": "npNLG",
      "language": "python",
      "name": "python3"
    },
    "language_info": {
      "codemirror_mode": {
        "name": "ipython",
        "version": 3
      },
      "file_extension": ".py",
      "mimetype": "text/x-python",
      "name": "python",
      "nbconvert_exporter": "python",
      "pygments_lexer": "ipython3",
      "version": "3.10.14"
    },
    "org": null,
    "colab": {
      "provenance": []
    }
  },
  "nbformat": 4,
  "nbformat_minor": 0
}
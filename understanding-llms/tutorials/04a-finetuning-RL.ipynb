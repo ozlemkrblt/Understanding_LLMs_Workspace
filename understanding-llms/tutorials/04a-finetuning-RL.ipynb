{
  "cells": [
    {
      "cell_type": "markdown",
      "metadata": {
        "id": "utJ4i9brFZpz"
      },
      "source": [
        "Sheet 4.1 Supervised fine-tuning and RL fine-tuning\n",
        "==========\n",
        "**Author:** Polina Tsvilodub"
      ]
    },
    {
      "cell_type": "markdown",
      "metadata": {
        "id": "AY8S53YzFZp2"
      },
      "source": [
        "This sheet provides an overview of different flavours of fine-tuning of LLMs and their respective use cases. Particular focus is provided for *RL based* fine-tuning, and specifically, *RLHF* (reinforcement learning from human feedback).\n",
        "\n",
        "The key learning goals for this sheet are:\n",
        "* be able to identify the type of fine-tuning used for a particular model and explain it conceptually\n",
        "* gain a practical understanding of RLHF components, in particular:\n",
        "  * creation and use of a reward model\n",
        "  * training steps for the policy."
      ]
    },
    {
      "cell_type": "markdown",
      "metadata": {
        "id": "O72HAyLJFZp3"
      },
      "source": [
        "## Flavours of fine-tuning\n",
        "\n",
        "In [sheet 2.5](https://cogsciprag.github.io/Understanding-LLMs-course/tutorials/02e-intro-to-hf.html), we already brushed over the distinction between pretrained and fine-tuned models. In particular, fine-tuning was introduced as the training LMs on *task-specific* datasets, e.g., for movie review generation or classification. For classification, LMs are usually fine-tuned with a classification head (see [sheet 3.2](https://cogsciprag.github.io/Understanding-LLMs-course/tutorials/03b-transformers-heads-training.html) for a recap). However, from here on, we will focus on fine-tuning of model for *generative* tasks, i.e., simply fine-tuning LMs for next-word prediction on a specific task.\n",
        "\n",
        "We have seen fine-tuning of a generative LM for question answering in homework 1. Here, the specific task the model is supposed to learn is constituted by the specific dataset and the formatting of the questions and the answers. The model was trained on examples of questions with correct answers; i.e., this is *supervised fine-tuning* where the model was shown what the desired behavior is (i.e., which next tokens it is supposed to predict).\n",
        "\n",
        "For state-of-the-art LLMs, it has been identified that there is a particular kind of task that *general-purpose LLMs*, and in particular *assistants*, should be able to complete: namely, **instruction-following**. That is, rather than creating LMs that can only do QA on a specific dataset with a particular formatting, the community started to build *instruction-tuned* LLMs, which generate sensible outputs given user instructions ranging from \"Provide ten recipes with tofu in a bullet list format\" to \"Summarize the following scientific paper\".\n",
        "This has also been achieved with supervised fine-tuning, where the example input and output pairs in the dataset consist of example instructions, and their respective completions."
      ]
    },
    {
      "cell_type": "markdown",
      "metadata": {
        "id": "nJ7UyJgXFZp3"
      },
      "source": [
        "> <strong><span style=&ldquo;color:#D83D2B;&rdquo;>Exercise 4.1.1: Supervised-finetuning</span></strong>\n",
        ">\n",
        "> 1. Take a look at [this](https://huggingface.co/datasets/HuggingFaceH4/instruction-dataset?row=23) dataset. For which kind of fine-tuning is it intended? What kinds of examples are there?\n",
        "> 2. Consider the following use cases for which you want to build an LM: (a) an assistant tutor model for students for different subjects, (b) a model for answering highly specific questions about a medical knowledge base, (c) a model intended for writing abstracts of scientific papers. What kind of fine-tuning set up would you consider (i.e., what kind of fine-tuning dataset would you ideally choose)?\n",
        "> 3. Please come up with a prompt for testing whether an LM can follow instructions. Use the following code to test the instruction-following performance of an instruction-tuned model (Qwen-2.5-7B) and a simple small LM (GPT-2). Feel free to play around with the decoding parameters! (**WARNING**: the instruction-tuned model is a large model, so it can take a moment to load on Colab. Please also be aware of it if you execute the notebook locally!)"
      ]
    },
    {
      "cell_type": "markdown",
      "metadata": {
        "id": "LWQMo3m3FZp4"
      },
      "source": [
        "Click below to see the solution"
      ]
    },
    {
      "cell_type": "markdown",
      "metadata": {
        "id": "yGjwYlZfFZp4"
      },
      "source": [
        "```{toggle}\n",
        "> 1. The dataset contains generative fine-tuning examples on a broad range of tasks, from calculations to writing stories to cooking recipes.\n",
        "> 2. The assistant tutor model has to be finetuned such that it can have natural-sounding conversations with students on a range of subjects, i.e., we need dialogues from a teaching context as data for training. For the medical knowledge base, it is probably necessary to implement an integrated retrieval system that allows the language model to access the database, rather than just generating everything from next-token predictions. For writing abstracts of scientific papers, we have to optimise the model on summarisation, possibly already using scientific papers in the training.\n",
        "> 3. You can use something like \"Please write a sentence where every word begins with \"a\". Answer: \". In this case, the output was \"Alice admired\" for the instruction-tuned model (which fulfills the instruction), but \"\"A\" is a noun\" for GPT-2, which does not.\n",
        "```"
      ]
    },
    {
      "cell_type": "code",
      "execution_count": 1,
      "metadata": {
        "colab": {
          "base_uri": "https://localhost:8080/"
        },
        "id": "snXEznw_FZp4",
        "outputId": "21361b49-c1aa-4a9c-dfc9-352a3be54750"
      },
      "outputs": [
        {
          "output_type": "stream",
          "name": "stdout",
          "text": [
            "Requirement already satisfied: accelerate in /usr/local/lib/python3.11/dist-packages (1.7.0)\n",
            "Requirement already satisfied: bitsandbytes in /usr/local/lib/python3.11/dist-packages (0.46.0)\n",
            "Requirement already satisfied: numpy<3.0.0,>=1.17 in /usr/local/lib/python3.11/dist-packages (from accelerate) (2.0.2)\n",
            "Requirement already satisfied: packaging>=20.0 in /usr/local/lib/python3.11/dist-packages (from accelerate) (24.2)\n",
            "Requirement already satisfied: psutil in /usr/local/lib/python3.11/dist-packages (from accelerate) (5.9.5)\n",
            "Requirement already satisfied: pyyaml in /usr/local/lib/python3.11/dist-packages (from accelerate) (6.0.2)\n",
            "Requirement already satisfied: torch>=2.0.0 in /usr/local/lib/python3.11/dist-packages (from accelerate) (2.6.0+cu124)\n",
            "Requirement already satisfied: huggingface-hub>=0.21.0 in /usr/local/lib/python3.11/dist-packages (from accelerate) (0.31.4)\n",
            "Requirement already satisfied: safetensors>=0.4.3 in /usr/local/lib/python3.11/dist-packages (from accelerate) (0.5.3)\n",
            "Requirement already satisfied: filelock in /usr/local/lib/python3.11/dist-packages (from huggingface-hub>=0.21.0->accelerate) (3.18.0)\n",
            "Requirement already satisfied: fsspec>=2023.5.0 in /usr/local/lib/python3.11/dist-packages (from huggingface-hub>=0.21.0->accelerate) (2025.3.2)\n",
            "Requirement already satisfied: requests in /usr/local/lib/python3.11/dist-packages (from huggingface-hub>=0.21.0->accelerate) (2.32.3)\n",
            "Requirement already satisfied: tqdm>=4.42.1 in /usr/local/lib/python3.11/dist-packages (from huggingface-hub>=0.21.0->accelerate) (4.67.1)\n",
            "Requirement already satisfied: typing-extensions>=3.7.4.3 in /usr/local/lib/python3.11/dist-packages (from huggingface-hub>=0.21.0->accelerate) (4.13.2)\n",
            "Requirement already satisfied: networkx in /usr/local/lib/python3.11/dist-packages (from torch>=2.0.0->accelerate) (3.4.2)\n",
            "Requirement already satisfied: jinja2 in /usr/local/lib/python3.11/dist-packages (from torch>=2.0.0->accelerate) (3.1.6)\n",
            "Requirement already satisfied: nvidia-cuda-nvrtc-cu12==12.4.127 in /usr/local/lib/python3.11/dist-packages (from torch>=2.0.0->accelerate) (12.4.127)\n",
            "Requirement already satisfied: nvidia-cuda-runtime-cu12==12.4.127 in /usr/local/lib/python3.11/dist-packages (from torch>=2.0.0->accelerate) (12.4.127)\n",
            "Requirement already satisfied: nvidia-cuda-cupti-cu12==12.4.127 in /usr/local/lib/python3.11/dist-packages (from torch>=2.0.0->accelerate) (12.4.127)\n",
            "Requirement already satisfied: nvidia-cudnn-cu12==9.1.0.70 in /usr/local/lib/python3.11/dist-packages (from torch>=2.0.0->accelerate) (9.1.0.70)\n",
            "Requirement already satisfied: nvidia-cublas-cu12==12.4.5.8 in /usr/local/lib/python3.11/dist-packages (from torch>=2.0.0->accelerate) (12.4.5.8)\n",
            "Requirement already satisfied: nvidia-cufft-cu12==11.2.1.3 in /usr/local/lib/python3.11/dist-packages (from torch>=2.0.0->accelerate) (11.2.1.3)\n",
            "Requirement already satisfied: nvidia-curand-cu12==10.3.5.147 in /usr/local/lib/python3.11/dist-packages (from torch>=2.0.0->accelerate) (10.3.5.147)\n",
            "Requirement already satisfied: nvidia-cusolver-cu12==11.6.1.9 in /usr/local/lib/python3.11/dist-packages (from torch>=2.0.0->accelerate) (11.6.1.9)\n",
            "Requirement already satisfied: nvidia-cusparse-cu12==12.3.1.170 in /usr/local/lib/python3.11/dist-packages (from torch>=2.0.0->accelerate) (12.3.1.170)\n",
            "Requirement already satisfied: nvidia-cusparselt-cu12==0.6.2 in /usr/local/lib/python3.11/dist-packages (from torch>=2.0.0->accelerate) (0.6.2)\n",
            "Requirement already satisfied: nvidia-nccl-cu12==2.21.5 in /usr/local/lib/python3.11/dist-packages (from torch>=2.0.0->accelerate) (2.21.5)\n",
            "Requirement already satisfied: nvidia-nvtx-cu12==12.4.127 in /usr/local/lib/python3.11/dist-packages (from torch>=2.0.0->accelerate) (12.4.127)\n",
            "Requirement already satisfied: nvidia-nvjitlink-cu12==12.4.127 in /usr/local/lib/python3.11/dist-packages (from torch>=2.0.0->accelerate) (12.4.127)\n",
            "Requirement already satisfied: triton==3.2.0 in /usr/local/lib/python3.11/dist-packages (from torch>=2.0.0->accelerate) (3.2.0)\n",
            "Requirement already satisfied: sympy==1.13.1 in /usr/local/lib/python3.11/dist-packages (from torch>=2.0.0->accelerate) (1.13.1)\n",
            "Requirement already satisfied: mpmath<1.4,>=1.1.0 in /usr/local/lib/python3.11/dist-packages (from sympy==1.13.1->torch>=2.0.0->accelerate) (1.3.0)\n",
            "Requirement already satisfied: MarkupSafe>=2.0 in /usr/local/lib/python3.11/dist-packages (from jinja2->torch>=2.0.0->accelerate) (3.0.2)\n",
            "Requirement already satisfied: charset-normalizer<4,>=2 in /usr/local/lib/python3.11/dist-packages (from requests->huggingface-hub>=0.21.0->accelerate) (3.4.2)\n",
            "Requirement already satisfied: idna<4,>=2.5 in /usr/local/lib/python3.11/dist-packages (from requests->huggingface-hub>=0.21.0->accelerate) (3.10)\n",
            "Requirement already satisfied: urllib3<3,>=1.21.1 in /usr/local/lib/python3.11/dist-packages (from requests->huggingface-hub>=0.21.0->accelerate) (2.4.0)\n",
            "Requirement already satisfied: certifi>=2017.4.17 in /usr/local/lib/python3.11/dist-packages (from requests->huggingface-hub>=0.21.0->accelerate) (2025.4.26)\n"
          ]
        }
      ],
      "source": [
        "!pip install accelerate bitsandbytes"
      ]
    },
    {
      "cell_type": "code",
      "execution_count": 2,
      "metadata": {
        "id": "0NO52P-uFZp5"
      },
      "outputs": [],
      "source": [
        "# import packages\n",
        "\n",
        "from transformers import AutoTokenizer, AutoModelForCausalLM\n",
        "import torch"
      ]
    },
    {
      "cell_type": "code",
      "execution_count": 3,
      "metadata": {
        "id": "RlPHC5d1FZp6"
      },
      "outputs": [],
      "source": [
        "device = torch.device(\"cuda\" if torch.cuda.is_available() else \"cpu\")"
      ]
    },
    {
      "cell_type": "code",
      "execution_count": 4,
      "metadata": {
        "colab": {
          "base_uri": "https://localhost:8080/",
          "height": 191,
          "referenced_widgets": [
            "2ee32bb7bbaa48dab0070dd46eb374a2",
            "6374a7b5af794ad9bc294c4bc748cd2f",
            "cc4b4c25a92849baba3e8897a7216b7e",
            "13fb93ac2c844e5f88f7bebc4e4e18a2",
            "1c60f43df9e94a2d8fd383c540ba9033",
            "12923d8db7544672a036b787f1c4007d",
            "29cdde8ae15b47ceb12a4a30a3d81663",
            "0d29a4c5c93642fcaa80c0f7f5e0b9b6",
            "3f8d79756e154b0bac9384e745d8f3cd",
            "f8cf186b077c40a99ab193e1a988eb73",
            "7443a1dce6e64aca94c18fb099f85789"
          ]
        },
        "id": "1Y_ANZRYFZp6",
        "outputId": "a45ded89-15e0-4a45-93e0-faf6ea457d60"
      },
      "outputs": [
        {
          "output_type": "stream",
          "name": "stderr",
          "text": [
            "/usr/local/lib/python3.11/dist-packages/huggingface_hub/utils/_auth.py:94: UserWarning: \n",
            "The secret `HF_TOKEN` does not exist in your Colab secrets.\n",
            "To authenticate with the Hugging Face Hub, create a token in your settings tab (https://huggingface.co/settings/tokens), set it as secret in your Google Colab and restart your session.\n",
            "You will be able to reuse this secret in all of your notebooks.\n",
            "Please note that authentication is recommended but still optional to access public models or datasets.\n",
            "  warnings.warn(\n",
            "The `load_in_4bit` and `load_in_8bit` arguments are deprecated and will be removed in the future versions. Please, pass a `BitsAndBytesConfig` object in `quantization_config` argument instead.\n"
          ]
        },
        {
          "output_type": "display_data",
          "data": {
            "text/plain": [
              "Loading checkpoint shards:   0%|          | 0/4 [00:00<?, ?it/s]"
            ],
            "application/vnd.jupyter.widget-view+json": {
              "version_major": 2,
              "version_minor": 0,
              "model_id": "2ee32bb7bbaa48dab0070dd46eb374a2"
            }
          },
          "metadata": {}
        }
      ],
      "source": [
        "tokenizer_instruct = AutoTokenizer.from_pretrained(\"Qwen/Qwen2.5-7B-Instruct\")\n",
        "model_instruct = AutoModelForCausalLM.from_pretrained(\n",
        "    \"Qwen/Qwen2.5-7B-Instruct\",\n",
        "    load_in_4bit=True,\n",
        "    device_map=\"auto\",\n",
        "    bnb_4bit_use_double_quant=True,\n",
        "    bnb_4bit_quant_type=\"nf4\",\n",
        "    bnb_4bit_compute_dtype=torch.float16,\n",
        ")\n"
      ]
    },
    {
      "cell_type": "code",
      "execution_count": 5,
      "metadata": {
        "id": "8X_xE7HbFZp7"
      },
      "outputs": [],
      "source": [
        "tokenizer_lm = AutoTokenizer.from_pretrained(\"openai-community/openai-gpt\")\n",
        "model_lm = AutoModelForCausalLM.from_pretrained(\"openai-community/openai-gpt\")"
      ]
    },
    {
      "cell_type": "code",
      "execution_count": 6,
      "metadata": {
        "colab": {
          "base_uri": "https://localhost:8080/"
        },
        "id": "g0SBPWBFFZp7",
        "outputId": "a791c21e-bc6f-438d-cf83-ce87449aee4d"
      },
      "outputs": [
        {
          "output_type": "stream",
          "name": "stderr",
          "text": [
            "The attention mask is not set and cannot be inferred from input because pad token is same as eos token. As a consequence, you may observe unexpected behavior. Please pass your input's `attention_mask` to obtain reliable results.\n"
          ]
        },
        {
          "output_type": "stream",
          "name": "stdout",
          "text": [
            "Instruction-tuned model's prediction:  Complete this sentence into a short fantasy story consisting of 2-3 sentences and use synonyms for repeated words: One day Alice fell asleep in the forest. Then ...  One day Alice fell asleep in the forest. Then... she drifted into a realm of enchantment,\n",
            "GPT-2's prediction:  complete this sentence into a short fantasy story consisting of 2 - 3 sentences and use synonyms for repeated words : one day alice fell asleep in the forest . then . . . \n",
            " \" i 'm sorry , \" alice said , \" i did n't mean to interrupt . \" \n",
            "\n"
          ]
        }
      ],
      "source": [
        "instruction_text = 'Complete this sentence into a short fantasy story consisting of 2-3 sentences and use synonyms for repeated words: One day Alice fell asleep in the forest. Then ... '\n",
        "input_ids_instruct = tokenizer_instruct.encode(instruction_text, return_tensors=\"pt\").to(device)\n",
        "input_ids_lm = tokenizer_lm.encode(instruction_text, return_tensors=\"pt\").to(device)\n",
        "\n",
        "model_instruct.to(\"cuda\")\n",
        "prediction_instruct = model_instruct.generate(\n",
        "    input_ids_instruct\n",
        ")\n",
        "print(\"Instruction-tuned model's prediction: \", tokenizer_instruct.decode(prediction_instruct[0], skip_special_tokens=True))\n",
        "\n",
        "model_lm.to(\"cuda\")\n",
        "prediction_lm = model_lm.generate(\n",
        "    input_ids_lm\n",
        ")\n",
        "print(\"GPT-2's prediction: \", tokenizer_lm.decode(prediction_lm[0], skip_special_tokens=True))"
      ]
    },
    {
      "cell_type": "markdown",
      "metadata": {
        "id": "DCdlNaeJFZp7"
      },
      "source": [
        "The distinctions above focused on distinctions in the *content* of the fine-tuning, i.e., the content of the input-output demonstrations in the datasets used for the supervised fine-tuning.\n",
        "\n",
        "Additionally, the lecture introduced different *methods* of efficient supervised fine-tuning, which is especially important for large LMs that take a lot of resources to train.\n",
        "The QA fine-tuning that we did in homework 1 was naive fine-tuning. That is, during the fine-tuning, all parameters were updated. However, as explained in the lecture, the more common state-of-the-art approach to fine-tuning is *parameter-efficient*, i.e., only a *selected* subset of the pretrained model parameters, or a *small set of new parameters* is updated.\n",
        "\n",
        "The following code provides an simple example of vanilla selective fine-tuning where only the last transformer block and the last layer (i.e., LM head) of GPT-2 would be finetuned, and all other layers are frozen (❄️). Concretely, this means that we don't want to compute gradients of parameters that are frozen, and we do not want to change their values. Usually parameters are (un)frozen by-layer / component.\n",
        "\n",
        "Of course, the same approach can be used for (un)freezing any other subset of layers, in any other `transformers` model. For this, it is useful to know how to inspect and access different components of a pretrained model, as was briefly shown in [sheet 3.1](https://cogsciprag.github.io/Understanding-LLMs-course/tutorials/03a-tokenization-transformers.html#transformers).\n",
        "\n",
        "> Optionally, you can reuse the code from the homework to fine-tune this partially frozen model on the QA task from the homework. Do your results change?"
      ]
    },
    {
      "cell_type": "code",
      "execution_count": 7,
      "metadata": {
        "colab": {
          "base_uri": "https://localhost:8080/"
        },
        "id": "6ImmKH0JFZp8",
        "outputId": "9a8bd3c3-779d-4b0b-b25c-53101aec466b"
      },
      "outputs": [
        {
          "output_type": "stream",
          "name": "stdout",
          "text": [
            "OpenAIGPTLMHeadModel(\n",
            "  (transformer): OpenAIGPTModel(\n",
            "    (tokens_embed): Embedding(40478, 768)\n",
            "    (positions_embed): Embedding(512, 768)\n",
            "    (drop): Dropout(p=0.1, inplace=False)\n",
            "    (h): ModuleList(\n",
            "      (0-11): 12 x Block(\n",
            "        (attn): Attention(\n",
            "          (c_attn): Conv1D(nf=2304, nx=768)\n",
            "          (c_proj): Conv1D(nf=768, nx=768)\n",
            "          (attn_dropout): Dropout(p=0.1, inplace=False)\n",
            "          (resid_dropout): Dropout(p=0.1, inplace=False)\n",
            "        )\n",
            "        (ln_1): LayerNorm((768,), eps=1e-05, elementwise_affine=True)\n",
            "        (mlp): MLP(\n",
            "          (c_fc): Conv1D(nf=3072, nx=768)\n",
            "          (c_proj): Conv1D(nf=768, nx=3072)\n",
            "          (act): NewGELUActivation()\n",
            "          (dropout): Dropout(p=0.1, inplace=False)\n",
            "        )\n",
            "        (ln_2): LayerNorm((768,), eps=1e-05, elementwise_affine=True)\n",
            "      )\n",
            "    )\n",
            "  )\n",
            "  (lm_head): Linear(in_features=768, out_features=40478, bias=False)\n",
            ")\n"
          ]
        }
      ],
      "source": [
        "# first we inspect the model's configuration\n",
        "print(model_lm)"
      ]
    },
    {
      "cell_type": "code",
      "execution_count": 8,
      "metadata": {
        "colab": {
          "base_uri": "https://localhost:8080/"
        },
        "id": "WvaUJQeTFZp8",
        "outputId": "9b29e229-5ed0-45a0-c56a-684617e7fd9f"
      },
      "outputs": [
        {
          "output_type": "stream",
          "name": "stdout",
          "text": [
            "transformer.tokens_embed.weight\n",
            "transformer.positions_embed.weight\n",
            "transformer.h.0.attn.c_attn.weight\n",
            "transformer.h.0.attn.c_attn.bias\n",
            "transformer.h.0.attn.c_proj.weight\n",
            "transformer.h.0.attn.c_proj.bias\n",
            "transformer.h.0.ln_1.weight\n",
            "transformer.h.0.ln_1.bias\n",
            "transformer.h.0.mlp.c_fc.weight\n",
            "transformer.h.0.mlp.c_fc.bias\n",
            "transformer.h.0.mlp.c_proj.weight\n",
            "transformer.h.0.mlp.c_proj.bias\n",
            "transformer.h.0.ln_2.weight\n",
            "transformer.h.0.ln_2.bias\n",
            "transformer.h.1.attn.c_attn.weight\n",
            "transformer.h.1.attn.c_attn.bias\n",
            "transformer.h.1.attn.c_proj.weight\n",
            "transformer.h.1.attn.c_proj.bias\n",
            "transformer.h.1.ln_1.weight\n",
            "transformer.h.1.ln_1.bias\n",
            "transformer.h.1.mlp.c_fc.weight\n",
            "transformer.h.1.mlp.c_fc.bias\n",
            "transformer.h.1.mlp.c_proj.weight\n",
            "transformer.h.1.mlp.c_proj.bias\n",
            "transformer.h.1.ln_2.weight\n",
            "transformer.h.1.ln_2.bias\n",
            "transformer.h.2.attn.c_attn.weight\n",
            "transformer.h.2.attn.c_attn.bias\n",
            "transformer.h.2.attn.c_proj.weight\n",
            "transformer.h.2.attn.c_proj.bias\n",
            "transformer.h.2.ln_1.weight\n",
            "transformer.h.2.ln_1.bias\n",
            "transformer.h.2.mlp.c_fc.weight\n",
            "transformer.h.2.mlp.c_fc.bias\n",
            "transformer.h.2.mlp.c_proj.weight\n",
            "transformer.h.2.mlp.c_proj.bias\n",
            "transformer.h.2.ln_2.weight\n",
            "transformer.h.2.ln_2.bias\n",
            "transformer.h.3.attn.c_attn.weight\n",
            "transformer.h.3.attn.c_attn.bias\n",
            "transformer.h.3.attn.c_proj.weight\n",
            "transformer.h.3.attn.c_proj.bias\n",
            "transformer.h.3.ln_1.weight\n",
            "transformer.h.3.ln_1.bias\n",
            "transformer.h.3.mlp.c_fc.weight\n",
            "transformer.h.3.mlp.c_fc.bias\n",
            "transformer.h.3.mlp.c_proj.weight\n",
            "transformer.h.3.mlp.c_proj.bias\n",
            "transformer.h.3.ln_2.weight\n",
            "transformer.h.3.ln_2.bias\n",
            "transformer.h.4.attn.c_attn.weight\n",
            "transformer.h.4.attn.c_attn.bias\n",
            "transformer.h.4.attn.c_proj.weight\n",
            "transformer.h.4.attn.c_proj.bias\n",
            "transformer.h.4.ln_1.weight\n",
            "transformer.h.4.ln_1.bias\n",
            "transformer.h.4.mlp.c_fc.weight\n",
            "transformer.h.4.mlp.c_fc.bias\n",
            "transformer.h.4.mlp.c_proj.weight\n",
            "transformer.h.4.mlp.c_proj.bias\n",
            "transformer.h.4.ln_2.weight\n",
            "transformer.h.4.ln_2.bias\n",
            "transformer.h.5.attn.c_attn.weight\n",
            "transformer.h.5.attn.c_attn.bias\n",
            "transformer.h.5.attn.c_proj.weight\n",
            "transformer.h.5.attn.c_proj.bias\n",
            "transformer.h.5.ln_1.weight\n",
            "transformer.h.5.ln_1.bias\n",
            "transformer.h.5.mlp.c_fc.weight\n",
            "transformer.h.5.mlp.c_fc.bias\n",
            "transformer.h.5.mlp.c_proj.weight\n",
            "transformer.h.5.mlp.c_proj.bias\n",
            "transformer.h.5.ln_2.weight\n",
            "transformer.h.5.ln_2.bias\n",
            "transformer.h.6.attn.c_attn.weight\n",
            "transformer.h.6.attn.c_attn.bias\n",
            "transformer.h.6.attn.c_proj.weight\n",
            "transformer.h.6.attn.c_proj.bias\n",
            "transformer.h.6.ln_1.weight\n",
            "transformer.h.6.ln_1.bias\n",
            "transformer.h.6.mlp.c_fc.weight\n",
            "transformer.h.6.mlp.c_fc.bias\n",
            "transformer.h.6.mlp.c_proj.weight\n",
            "transformer.h.6.mlp.c_proj.bias\n",
            "transformer.h.6.ln_2.weight\n",
            "transformer.h.6.ln_2.bias\n",
            "transformer.h.7.attn.c_attn.weight\n",
            "transformer.h.7.attn.c_attn.bias\n",
            "transformer.h.7.attn.c_proj.weight\n",
            "transformer.h.7.attn.c_proj.bias\n",
            "transformer.h.7.ln_1.weight\n",
            "transformer.h.7.ln_1.bias\n",
            "transformer.h.7.mlp.c_fc.weight\n",
            "transformer.h.7.mlp.c_fc.bias\n",
            "transformer.h.7.mlp.c_proj.weight\n",
            "transformer.h.7.mlp.c_proj.bias\n",
            "transformer.h.7.ln_2.weight\n",
            "transformer.h.7.ln_2.bias\n",
            "transformer.h.8.attn.c_attn.weight\n",
            "transformer.h.8.attn.c_attn.bias\n",
            "transformer.h.8.attn.c_proj.weight\n",
            "transformer.h.8.attn.c_proj.bias\n",
            "transformer.h.8.ln_1.weight\n",
            "transformer.h.8.ln_1.bias\n",
            "transformer.h.8.mlp.c_fc.weight\n",
            "transformer.h.8.mlp.c_fc.bias\n",
            "transformer.h.8.mlp.c_proj.weight\n",
            "transformer.h.8.mlp.c_proj.bias\n",
            "transformer.h.8.ln_2.weight\n",
            "transformer.h.8.ln_2.bias\n",
            "transformer.h.9.attn.c_attn.weight\n",
            "transformer.h.9.attn.c_attn.bias\n",
            "transformer.h.9.attn.c_proj.weight\n",
            "transformer.h.9.attn.c_proj.bias\n",
            "transformer.h.9.ln_1.weight\n",
            "transformer.h.9.ln_1.bias\n",
            "transformer.h.9.mlp.c_fc.weight\n",
            "transformer.h.9.mlp.c_fc.bias\n",
            "transformer.h.9.mlp.c_proj.weight\n",
            "transformer.h.9.mlp.c_proj.bias\n",
            "transformer.h.9.ln_2.weight\n",
            "transformer.h.9.ln_2.bias\n",
            "transformer.h.10.attn.c_attn.weight\n",
            "transformer.h.10.attn.c_attn.bias\n",
            "transformer.h.10.attn.c_proj.weight\n",
            "transformer.h.10.attn.c_proj.bias\n",
            "transformer.h.10.ln_1.weight\n",
            "transformer.h.10.ln_1.bias\n",
            "transformer.h.10.mlp.c_fc.weight\n",
            "transformer.h.10.mlp.c_fc.bias\n",
            "transformer.h.10.mlp.c_proj.weight\n",
            "transformer.h.10.mlp.c_proj.bias\n",
            "transformer.h.10.ln_2.weight\n",
            "transformer.h.10.ln_2.bias\n",
            "transformer.h.11.attn.c_attn.weight\n",
            "transformer.h.11.attn.c_attn.bias\n",
            "transformer.h.11.attn.c_proj.weight\n",
            "transformer.h.11.attn.c_proj.bias\n",
            "transformer.h.11.ln_1.weight\n",
            "transformer.h.11.ln_1.bias\n",
            "transformer.h.11.mlp.c_fc.weight\n",
            "transformer.h.11.mlp.c_fc.bias\n",
            "transformer.h.11.mlp.c_proj.weight\n",
            "transformer.h.11.mlp.c_proj.bias\n",
            "transformer.h.11.ln_2.weight\n",
            "transformer.h.11.ln_2.bias\n"
          ]
        }
      ],
      "source": [
        "# first, we can inspect the model's configuration and named parameters\n",
        "for name, _ in model_lm.named_parameters():\n",
        "    print(name)"
      ]
    },
    {
      "cell_type": "code",
      "execution_count": 9,
      "metadata": {
        "id": "kDLmgQebFZp8"
      },
      "outputs": [],
      "source": [
        "# next, we define which layers NOT to freeze\n",
        "# (of course, we can do this vice versa and define which layers to freeze)\n",
        "\n",
        "layers_to_unfreeze = [\"transformer.h.11\", \"transformer.ln_f.weight\", \"transformer.ln_f.bias\"]\n",
        "\n",
        "# iterate over model's parameters\n",
        "# note that, by default, in train mode, all parameters are set to require grad = True (i.e., unfrozen)\n",
        "for name, param in model_lm.named_parameters():\n",
        "     # check that these parameters are not in the layers_to_unfreeze list\n",
        "     if all([not name.startswith(n) for n in layers_to_unfreeze]):\n",
        "        # if not, freeze these parameters\n",
        "        param.requires_grad = False"
      ]
    },
    {
      "cell_type": "code",
      "execution_count": 10,
      "metadata": {
        "colab": {
          "base_uri": "https://localhost:8080/"
        },
        "id": "AKSjKt3RFZp8",
        "outputId": "17511c37-8521-43ef-a225-1734feb07c65"
      },
      "outputs": [
        {
          "output_type": "stream",
          "name": "stdout",
          "text": [
            "The model has 7,087,872 trainable parameters\n"
          ]
        }
      ],
      "source": [
        "# now we check how many parameters are trainable\n",
        "params = [p for p in model_lm.parameters() if p.requires_grad]\n",
        "print(f'The model has {sum(p.numel() for p in params):,} trainable parameters')"
      ]
    },
    {
      "cell_type": "code",
      "source": [
        "params = [ p for p in model_lm.parameters()]\n",
        "print(f'The model has {sum(p.numel() for p in params):,} total parameters')"
      ],
      "metadata": {
        "colab": {
          "base_uri": "https://localhost:8080/"
        },
        "id": "hT-hdmUeKQAG",
        "outputId": "992fa5d5-b2d4-4743-c7a7-8cf84a7137a2"
      },
      "execution_count": 11,
      "outputs": [
        {
          "output_type": "stream",
          "name": "stdout",
          "text": [
            "The model has 116,534,784 total parameters\n"
          ]
        }
      ]
    },
    {
      "cell_type": "markdown",
      "metadata": {
        "id": "gaMoWDt4FZp9"
      },
      "source": [
        "> <strong><span style=&ldquo;color:#D83D2B;&rdquo;>Exercise 4.1.2: PEFT</span></strong>\n",
        ">\n",
        "> 1. Compare the number above with the number of trainable parameters in the original model. What changed? How do you expect this to affect fine-tuning results?\n",
        ">  Only ~7M parameters out of ~116M are trained, so  training is faster, more efficient for specific subset of tasks, less compute-intensive.\n",
        "> 2. Suppose that we wanted to use rank $r=4$ LoRA for fine-tuning the decoder self-attention block of GPT-2. How many parameters would the lower rank matrices A and B have (see slides 27-29 for reference)?"
      ]
    },
    {
      "cell_type": "markdown",
      "metadata": {
        "id": "pxnlQu4_FZp9"
      },
      "source": [
        "Click below to see the solution"
      ]
    },
    {
      "cell_type": "markdown",
      "metadata": {
        "id": "DGCQNp9VFZp9"
      },
      "source": [
        "````{toggle}\n",
        "> 1. Number of trainable parameters before freezing: 124 million, after freezing: 7 million. Although intuitively, one might think that the performance will be worse when fewer parameters are fine-tuned, PEFT has turned out to be efficient and even have further advantages over fine-tuning all parameters, e.g. with regard to catastrophic forgetting.\n",
        "> 2. The attention weight matrix has a size of 768×2304, so the lower rank matrices have the dimensions 768×4 and 4×2304.\n",
        "```"
      ]
    },
    {
      "cell_type": "markdown",
      "metadata": {
        "id": "6ql0duGyFZp9"
      },
      "source": [
        "### LoRA fine-tuning in practice\n",
        "\n",
        "As for full supervised fine-tuning that we have already seen, `transformers` provides high-level wrappers for conducting LoRA finetuning.\n",
        "Below is an example of setting up the fine-tuning of a 7B model, focusing on the parts that are specific to LoRA. Other parts of the training pipeline (e.g., loading and preparing the data) would be used as usual."
      ]
    },
    {
      "cell_type": "code",
      "execution_count": null,
      "metadata": {
        "colab": {
          "base_uri": "https://localhost:8080/",
          "height": 49,
          "referenced_widgets": [
            "ef5bdf96a387489599dbae8b463ae970",
            "f0bebbc8ff2844329ebbf8f442e4db72",
            "3aea8b09f0a14560be239cf16ef8539f",
            "da5690fdd23a438e98b9f030965bcb36",
            "78617157de834d9fbe965a65932b5415",
            "62f27925168949caa07db012ba0078f7",
            "87c7db740aa445afaf5059ff095c64a7",
            "e021a151cdfd4f8eac226965ef293200",
            "afc9740ad5464cb2963ec82f579211c2",
            "062658158e0446168b943857a8105fed",
            "63de9a7b70de4d188fa2f2948589a91d"
          ]
        },
        "id": "VSlSYTIGFZp9",
        "outputId": "b691c3ad-d01d-4ae2-baba-de34f6af1629"
      },
      "outputs": [
        {
          "output_type": "display_data",
          "data": {
            "text/plain": [
              "Loading checkpoint shards:   0%|          | 0/4 [00:00<?, ?it/s]"
            ],
            "application/vnd.jupyter.widget-view+json": {
              "version_major": 2,
              "version_minor": 0,
              "model_id": "ef5bdf96a387489599dbae8b463ae970"
            }
          },
          "metadata": {}
        }
      ],
      "source": [
        "from peft import LoraConfig, get_peft_model\n",
        "\n",
        "# first, we have to create a config object\n",
        "config = LoraConfig(\n",
        "    r=64, # LORA rank; hyperparam, subject to change\n",
        "    lora_alpha=16, # alpha/rank is used; higher value will lead to higher weight of lora params over frozen params\n",
        "    lora_dropout=0.1,\n",
        "    bias=\"none\",\n",
        "    task_type=\"CAUSAL_LM\",\n",
        "    target_modules=[ # this depends on the model and what you want to fine-tune; if set to \"all-linear\", performance might be similar to QLoRA fine-tuning\n",
        "        \"q_proj\",  # all Linear layers for OLMo\n",
        "        \"k_proj\",\n",
        "        \"v_proj\",\n",
        "        \"o_proj\",\n",
        "        \"gate_proj\",\n",
        "        \"up_proj\",\n",
        "        \"down_proj\",\n",
        "        \"lm_head\",\n",
        "    ],\n",
        ")\n",
        "\n",
        "# next, we have to create PEFT model wrapper around a base model we want to finetune\n",
        "base_model = AutoModelForCausalLM.from_pretrained(\"Qwen/Qwen2.5-7B-Instruct\")\n",
        "lora_model = get_peft_model(base_model, config)\n",
        "\n",
        "lora_model.to(\"cuda\")\n",
        "# next, we would set up TrainingArguments and Trainer as usual (see sheet 2.5)\n",
        "training_args = TrainingArguments(\n",
        "    output_dir=\"lora_model_out\",\n",
        "    report_to = \"none\",\n",
        "    push_to_hub=False,\n",
        ")\n",
        "\n",
        "trainer = Trainer(\n",
        "    training_args,\n",
        "    model=lora_model,\n",
        "    # lora can make use of more recent or even custom optimizers, such as AdamW8bit that are more efficient and can save memory even more\n",
        "    optim=\"paged_adamw_8bit\",\n",
        "\n",
        ")"
      ]
    },
    {
      "cell_type": "code",
      "execution_count": null,
      "metadata": {
        "id": "sy0dvgsIFZp9"
      },
      "outputs": [],
      "source": [
        "from transformers import AutoModelForCausalLM\n",
        "from peft import PeftModel\n",
        "# once the model is trained, usually, only the trained adapters are saved.\n",
        "# To use the full fine-tuned model that has been saved, they have to be loaded and merged back in to the base model.\n",
        "peft_model_id = \"path/to/adapters\"\n",
        "model = PeftModel.from_pretrained(base_model, peft_model_id)\n",
        "# this function does not keep the adapters separately in the memory and removes latencies at inference time\n",
        "model.merge_and_unload()\n",
        "# to keep the adapters separately, we can use the following function\n",
        "model = PeftModel.from_pretrained(base_model, peft_model_id)\n",
        "model.merge_adapter()\n",
        "# unmerge the LoRA layers from the base model\n",
        "model.unmerge_adapter()"
      ]
    },
    {
      "cell_type": "markdown",
      "metadata": {
        "id": "wWCbn4b1FZp9"
      },
      "source": [
        "You can find details on all the settings you can change within LoRA configuration [here](https://huggingface.co/docs/peft/package_reference/lora#peft.LoraConfig)."
      ]
    },
    {
      "cell_type": "markdown",
      "metadata": {
        "id": "NoiE9hAxFZp9"
      },
      "source": [
        "### Outlook: PEFT in practice\n",
        "\n",
        "Below, more optional resources for the other types of fine-tuning introduced in the lecture can be found.\n",
        "\n",
        "* [Blog post on QLoRA with `transformers`](https://huggingface.co/blog/4bit-transformers-bitsandbytes)\n",
        "* [Overview blogpost on PEFT with `transformers`](https://huggingface.co/blog/peft)\n",
        "* [PEFT package based on transformers](https://huggingface.co/docs/peft/en/index)\n",
        "* [QLoRA paper](https://arxiv.org/pdf/2305.14314)"
      ]
    },
    {
      "cell_type": "markdown",
      "metadata": {
        "id": "dVY4Ej-fFZp9"
      },
      "source": [
        "## RL fine-tuning\n",
        "\n",
        "Reinforcement learning is often introduced a separate type of machine learning, in addition to supervised and unsupervised learning. Reinforcement learning broadly defines the field of study and the methods for training agents to learn to take actions that (optimally) achieve a goal, based on experience in the environment. It can be seen as the computational formalization of trial-and-error learning.\n",
        "\n",
        "The key difference to supervised learning is that the agent (the terms \"model\", \"LM\" and \"agent\" will be used interchangeably in this section) learns which actions are useful for achieving the goal itself, rather than being shown the \"ground truth\" optimal actions as in supervised learning. The task of the developer is, therefore, to correctly specify the goal, and the agent will \"discover\" a way to achieve it.\n",
        "In the formal framework which underpins RL (namely, MDPs), the goal is represented via the *reward function*. This function assigns high rewards to desired outcomes, and low rewards to undesired ones, therefore implicitly representing a goal.\n",
        "It is important to note that, in general, the approach of RL allows to specify what the developer want the agent to learn to do (i.e., the goal), but *not necessarily how*, exactly. Correct specification of the goal is a far from trivial task and a lot of current research goes into understanding how to specify these goals in the field of *alignment* (more on this in future sessions).\n",
        "\n",
        "Using RL for fine-tuning LLMs is one of the main methodological innovations that seems to have led to the impressive performance of SOTA LLMs. In particular, RL allows to fine-tune LLMs towards human preferences and commericial usability, because its mechanics lend itself to training a model based on a more abstract signal whether an output is good or bad (i.e., let it discover how to generate output that recevies a \"good\" reward!), rather than based on particular demonstrations. This is especially useful because the objectives of fine-tuning of SOTA LLMs often include aspects that are very difficult to specify via specific demonstrations, like being *helpful, honest, harmless* ([Bai et al., 2022](https://arxiv.org/pdf/2204.05862)).\n",
        "To this end, instead of using supervised learning, *human feedback* can be used as a reward signal to fine-tune the model.\n",
        "This is why the fine-tuning technique in question  is called Reinforcement Learning from Human Feedback (RLHF).\n",
        "\n",
        "Below, practical aspects of the core components of RLHF are discussed. These core components are (see [this](https://cdn.openai.com/instruction-following/draft-20220126f/methods.svg) figure for an overview):\n",
        "* the policy (i.e., the backbone LLM),\n",
        "* the supervised fine-tuning data (SFT) and training,\n",
        "* the reward modeling data and the resulting reward model,\n",
        "* and, finally the RL training objective (commonly, the PPO algorithm) and the dataset for fine-tuning.\n",
        "\n",
        "As with standard LM training, there are packages which implement some of the steps required for training for us. We will look at the `transformers` based package [`trl`](https://huggingface.co/docs/trl/en/index)."
      ]
    },
    {
      "cell_type": "markdown",
      "metadata": {
        "id": "H0gBPIVuFZp9"
      },
      "source": [
        "### Policy\n",
        "\n",
        "As the policy, a pretrained, sufficintly large LM is usually chosen. For instance, Llama offers a suite of models where both the initial LM, i.e., the *base* model and the resulting fine-tuned model is provided. For Llama-2 ([Touvron et al. (2022)](https://arxiv.org/pdf/2307.09288)), the paper provides some information about the details of the training and the architecture of the models.\n",
        "\n",
        "Under state-of-the-art models, usually LMs of at least >=1B parameters are used as policies for further fine-tuning. The intuitive reason is that RLHF is mostly used for creating more general-purpose assistants rather than task-specific models, and therefore, the initial model should have rather large capacity and perform well on a wide range of tasks (which, as we know, tends to come with [scale](https://arxiv.org/pdf/2001.08361)). In other words, the base model should be good -- otherwise: \"Garbage in, garbage out\" (i.e., it might be very difficult if not impossible to fix a bad base model through fine-tuning).\n",
        "\n",
        "Of course, it is absolutely possible to use RLHF for task-specific fine-tuning, e.g., early work fine-tuned a model for [summarization](https://arxiv.org/pdf/2009.01325)."
      ]
    },
    {
      "cell_type": "markdown",
      "metadata": {
        "id": "x5z8Tdt7FZp-"
      },
      "source": [
        "### Supervised fine-tuning\n",
        "\n",
        "This step is a \"standard\" supervised fine-tuning (SFT) step that is performed as we have discussed above. Some RL-tuned models are closed source, so it is unknown whether any of the PEFT techniques is used; others are open-source and might report their fine-tuning approach.\n",
        "\n",
        "While the specific methodological details might vary, the conceptual point behind SFT is two-fold: (1) models are often instruction-tuned for turning into actually useful assistants and (2) (more importantly) the model is \"nudged\" towards outputting human-demonstrated (and therefore, human-preferred) texts for the ultimate goal of the fine-tuning (e.g., being helpful, harmless, honest). This makes subsequent RL-tuning more efficient. Intuitively, this is because the space of actions (i.e., any possible completion, given a prompt!) which the agent has to explore is quite giagantic, and the agent might make quite a lot of errors before \"stumbling\" upon high-reward actions. Through SFT, the agent is already biased towards the higher-reward space of actions.\n",
        "Therefore, the SFT dataset usually consists of examples of target outputs written by human annotators. This step is also often called *behavioral cloning*."
      ]
    },
    {
      "cell_type": "markdown",
      "metadata": {
        "id": "MP1MrOo5FZp-"
      },
      "source": [
        "> <strong><span style=&ldquo;color:#D83D2B;&rdquo;>Exercise 4.1.3: Supervised fine-tuning for RL</span></strong>\n",
        ">\n",
        "> 1. What would an SFT dataset look like for fine-tuning a model for summarization?\n",
        "> There should be an input from a text data and an output written by a human.\n",
        "> 2. What apects do you think are important to keep in mind when performing SFT? (Think: what sorts of examples should human annotators see? What should they be instructed to do? Feel free to also use information from the OpenAI [blogpost](https://openai.com/index/chatgpt/) for inspiration)\n",
        "> Prompts should be clear, concise and unambigious. They should be honest- meaning they should be accurate and shouldn't give false information. They shouldn't be biased, give opinions or mislead people without a disclaimer on sensitive topics that require expert view.\n",
        "> 3. Below is an example of using the `trl` library for the [SFT step](https://huggingface.co/docs/trl/en/sft_trainer#quickstart). Please go through the code and make sure you understand it. Look at the docs for the training arguments class which is used by default by the SFTTrainer [here](https://huggingface.co/docs/transformers/main_classes/trainer#transformers.TrainingArguments). By default, for how many epochs is the model trained?"
      ]
    },
    {
      "cell_type": "markdown",
      "metadata": {
        "id": "IyEM-0TFFZp-"
      },
      "source": [
        "Click below to see the solution"
      ]
    },
    {
      "cell_type": "markdown",
      "metadata": {
        "id": "psqPpOCuFZp-"
      },
      "source": [
        "```{toggle}\n",
        "> 1. For summarization, a dataset for supervised fine-tuning would have to include text and good summaries of them.\n",
        "> 2. Aspects that are to be kept in mind are, for example, truthfulness of answers, length of answers, potentially harmful content (although filtering this out is one of the task that RL will help with), and answers should generally make sense (since nonsensical answers will alienate annotators).\n",
        "> 3. By default, the model is trained for 3 epochs.\n",
        "```"
      ]
    },
    {
      "cell_type": "code",
      "execution_count": null,
      "metadata": {
        "id": "1qajErSVFZp-"
      },
      "outputs": [],
      "source": [
        "# uncomment and run on Colab / install the package in your enironment if you haven't yet\n",
        "# !pip install trl"
      ]
    },
    {
      "cell_type": "code",
      "execution_count": null,
      "metadata": {
        "id": "W9D0KuenFZp-"
      },
      "outputs": [],
      "source": [
        "from datasets import load_dataset\n",
        "from trl import SFTTrainer, SFTConfig\n",
        "\n",
        "# load dataset\n",
        "# you can inspect it to get a sense of its contents and formatting\n",
        "dataset = load_dataset(\"CarperAI/openai_summarize_tldr\", split=\"valid\")\n",
        "# load base model\n",
        "model = AutoModelForCausalLM.from_pretrained(\"facebook/opt-350m\")\n",
        "\n",
        "# define a function that formats the prompts\n",
        "# NOTE: the formatting of examples is extremely important for successful training and deployment for a given task\n",
        "# for instance, the use of special tokens and prompt formatting should be consistent with the task, the model (if it already uses special tokens)\n",
        "# and should be used in consistent ways in further training\n",
        "\n",
        "def formatting_prompts_func(example):\n",
        "    # This can be any formatting function that corresponds to the desired task\n",
        "    return {\"text\": f\"Text: {example['prompt']}\\n Summary: {example['label']}\"}\n",
        "\n",
        "# apply the formatting function to the dataset\n",
        "formatted_dataset = dataset.map(formatting_prompts_func).rename_column(\"label\", \"completion\")\n",
        "\n",
        "# set up the training config\n",
        "sft_config = SFTConfig(\n",
        "    per_device_train_batch_size=8,\n",
        "    max_seq_length=256,\n",
        "    # completion_only_loss=False,\n",
        "    dataset_text_field=\"text\",\n",
        "    report_to=\"none\",\n",
        "    logging_steps=1,\n",
        ")\n",
        "\n",
        "trainer = SFTTrainer(\n",
        "    args=sft_config,\n",
        "    model=model,\n",
        "    train_dataset=formatted_dataset,\n",
        ")\n",
        "\n",
        "trainer.train()\n",
        "\n",
        "# If one wants to pass custom training arguments, an example of doing so is here: https://github.com/huggingface/trl/blob/main/examples/scripts/sft.py"
      ]
    },
    {
      "cell_type": "markdown",
      "metadata": {
        "id": "lC1kKBETFZp-"
      },
      "source": [
        "### Reward modeling\n",
        "\n",
        "A core component of RL fine-tuning is the reward model. There are various ways of obtaining a reward model. The perhaps most intuitive one, as discussed in the lecture, is obtaining human feedback as the reward signal. Since having humans give online feedback to an LM for thousands of samples is costly and cumbersome, instead, a reward model is trained on human preferences. For training such a reward model, human annotations are collected. As discussed in the lecture, these annotations can take different forms.\n",
        "\n",
        "Below, we will look at an example based on simple binary comparisons, where human annotators were shown two outputs of the LM sampled for the same input $x$ and had to indicate which of them they preferred (e.g., output $y_1$ over $y_2$).\n",
        "Specifically, the reward model is usually initialized from a pretrained LLM (maybe even the same one as the base LM of the policy), and fine-tuned with a specific *head* to output numerical scores. It is usually trained to maximize the difference in predicted scores scores $r$ between the preferred and the rejected answer in a pair. Formally, the model is trained with the following loss:\n",
        "\n",
        "$$L(\\theta) = -\\frac{1}{N}\\mathbb{E}_{(x, y_1, y_2) \\sim D} [log \\; (\\sigma (r_{\\theta} (x, y_1) - r_{\\theta}(x, y_2)))] $$\n",
        "\n",
        "This form of human annotations has proven especially useful for eliciting human intuitions for such difficult-to-capture concepts like \"helpfulness\". It is much easier for humans to decide which of two options they prefer than, e.g., to consistently assign scalar 1-10 scores to outputs.\n",
        "\n",
        "> <strong><span style=&ldquo;color:#D83D2B;&rdquo;>Exercise 4.1.4: Reward modeling</span></strong>\n",
        ">\n",
        "> 1. Consider [this]([Anthropic/hh-rlhf](https://huggingface.co/datasets/Anthropic/hh-rlhf)) well-known dataset from Anthropic for training helpful and harmless assistants. Pick a specific sample. For this sample, which text corresponds to $x, y_1, y_2$?\n",
        "> 2. An example of a model trained with the approach above can be found [here](https://huggingface.co/reciprocate/openllama-13b_rm_oasst-hh). Feel free to explore the repository, if you want. We will not test this model since it is quite large.\n",
        "\n",
        "\n"
      ]
    },
    {
      "cell_type": "markdown",
      "metadata": {
        "id": "Djy8z8DNFZp-"
      },
      "source": [
        "Click below to see the solution"
      ]
    },
    {
      "cell_type": "markdown",
      "metadata": {
        "id": "2aseMYyjFZp-"
      },
      "source": [
        "```{toggle}\n",
        "> 1. $x$ is the input and $y_1, y_2$ are the outputs (whose nature depends on the chosen sample).\n",
        "```"
      ]
    },
    {
      "cell_type": "code",
      "execution_count": null,
      "metadata": {
        "id": "3tHiw4hcFZp-"
      },
      "outputs": [],
      "source": [
        "However, there are also alternative ways of providing rewards. For instance, some work has used other models to provide feedback, an approach that is called [RLAIF](https://arxiv.org/pdf/2212.08073) (RL from AI feedback).\n",
        "Alternatively, more task-specific reward models can be constructed. For instance, if one wants to use RL-tuning for training a summarization model, the score for evaluating summaries (ROUGE) can be used as the numerical reward. If one wants to train a model for generating positive-sentiment texts only, one can train a reward model on labelled sentiment classification data like, e.g., the IMDB dataset.\n",
        "\n",
        "> <strong><span style=&ldquo;color:#D83D2B;&rdquo;>Exercise 4.1.5: Task-specific reward modeling</span></strong>\n",
        "> 1. The code below provides an example loading a trained reward model. This model was trained on movie reviews, in particular to assign high scores to positive reviews and low scores to negative reviews, as described above. Please look at the code and make sure to understand it. Test it on a few of your own intuitive examples; do the scores (ordinally) correspond to your intuition?"
      ]
    },
    {
      "cell_type": "code",
      "execution_count": null,
      "metadata": {
        "id": "56_g5AeHFZp-"
      },
      "outputs": [],
      "source": [
        "from datasets import load_dataset\n",
        "from transformers import (\n",
        "    AutoTokenizer,\n",
        "    AutoModelForSequenceClassification,\n",
        ")\n",
        "import torch"
      ]
    },
    {
      "cell_type": "code",
      "execution_count": null,
      "metadata": {
        "id": "euQOkLpwFZp_"
      },
      "outputs": [],
      "source": [
        "# Load reward model and its tokenizer\n",
        "reward_tokenizer = AutoTokenizer.from_pretrained(\"lvwerra/distilbert-imdb\")\n",
        "reward_model = AutoModelForSequenceClassification.from_pretrained(\"lvwerra/distilbert-imdb\")"
      ]
    },
    {
      "cell_type": "code",
      "execution_count": null,
      "metadata": {
        "id": "99B9M5_dFZqJ"
      },
      "outputs": [],
      "source": [
        "# Run an example from the IMDB train split to see how the reward model works\n",
        "positive_sentence = \"\" #### YOUR EXAMPLE HERE ####\n",
        "negative_sentence = \"\" #### YOUR EXAMPLE HERE ####\n",
        "\n",
        "input_pos = reward_tokenizer(positive_sentence, return_tensors='pt')\n",
        "input_neg = reward_tokenizer(negative_sentence, return_tensors='pt')\n",
        "\n",
        "reward_pos = reward_model(**input_pos)\n",
        "reward_neg = reward_model(**input_neg)\n",
        "\n",
        "print(\"Reward for positive sentence: \", reward_pos)\n",
        "print(\"Reward for negative sentence: \", reward_neg)"
      ]
    },
    {
      "cell_type": "markdown",
      "metadata": {
        "id": "Bjp-oM0oFZqK"
      },
      "source": [
        "### PPO training\n",
        "\n",
        "Once the SFT model and the reward model are available, the final step is to fine-tune the SFT model with RL. For this, a dataset to fine-tune on is needed again. Depedning on the model, sometimes the same dataset as for SFT used, sometimes a similar dataset with other inputs is used. Note that now the dataset doesn't need any labels, but only the inputs (i.e., initial \"states\") based on which the model will generate predictions (i.e., actions) which, in turn, will be assigned rewards (by the reward model which represents the environment).\n",
        "\n",
        "There are different algorithms for training the policy. One currently common choice is the Proximal Policy Optimization ([PPO](https://arxiv.org/pdf/1707.06347)). Its components were developed in order to stabilize policy updates and speed up convergence. However, there is a core shared idea between PPO and other algorithms in the category of *policy-gradient* methods.\n",
        "Specifically, the theorem behind this class of methods shows that the policy can be trained with a loss based on \"trials and errors\" (i.e., based on sampling; this objective has been shown to update the policy in such a way that, by following it, the agent is expected to receive higher rewards). Specifically, for a training step, we can sample actions, retrieve their log probability under the current policy, get rewards for these actions, and calculate weight updates based on the product of log probability and the reward.\n",
        "\n",
        "Note that choosing *hyperparameters* for successful RL fine-tuning is very important. While there are no proven results, the community best practice seems to indicate that the batch size should be relatively large, and the training should be quite short (e.g., only one epoch) to avoid undesired effects. Some of these details can be found, e.g., in the Llama-2 report.\n",
        "\n",
        "> <strong><span style=&ldquo;color:#D83D2B;&rdquo;>Exercise 4.1.6: RL training</span></strong>\n",
        ">\n",
        "> 1. Suppose you train an LM for summarization and have a suitable reward model and dataset of input texts. Consider the last sentence of the explanation above. Please provide a specific details of such a training step with this summarization example (in words).\n",
        "> 2. An example of using the `trl` library for training a model to generate positive model reviews (using the reward model above!) with PPO can be found [here](https://github.com/huggingface/trl/blob/main/examples/notebooks/gpt2-sentiment.ipynb). Please look at the code and try to understand all of it! Please ask questions or research if anything is unclear, this approach might be relevant for your own future exercise ;)"
      ]
    },
    {
      "cell_type": "markdown",
      "metadata": {
        "id": "hXTkCjPhFZqK"
      },
      "source": [
        "Click below to see the solution"
      ]
    },
    {
      "cell_type": "markdown",
      "metadata": {
        "id": "bjhaAB5cFZqK"
      },
      "source": [
        "```{toggle}\n",
        "> 1. For reference about typical hyperparameter settings: This is what the Llama report tells about RLHF training details: \"Training Details. We train for one epoch over the training data. In earlier experiments, we found that training longer can lead to over-fitting. We use the same optimizer parameters as for the base model. The maximum learning rate is 5 × 10−6 for the 70B parameter Llama 2-Chat and 1 × 10−5 for the rest. The learning rate is decreased on a cosine learning rate schedule, down to 10% of the maximum learning rate. We use a warm-up of 3% of the total number of steps, with a minimum of 5. The effective batch size is kept fixed at 512 pairs, or 1024 rows per batch.“\n",
        "```"
      ]
    },
    {
      "cell_type": "markdown",
      "metadata": {
        "id": "JvqHEJfBFZqK"
      },
      "source": [
        "### Optional outlook\n",
        "\n",
        "RL fine-tuning is an active area of research, so there are many developments and new methods. Below are some optional resources if you want to know more.\n",
        "* [Rafailov et al. (2023) Direct Preference Optimization: Your Language Model is Secretly a Reward Model](https://arxiv.org/pdf/2305.18290)\n",
        "* [Gao et al. (2022) Scaling Laws for Reward Model Overoptimization](https://arxiv.org/pdf/2210.10760)"
      ]
    }
  ],
  "metadata": {
    "kernelspec": {
      "display_name": "Python 3",
      "name": "python3"
    },
    "language_info": {
      "codemirror_mode": {
        "name": "ipython",
        "version": 3
      },
      "file_extension": ".py",
      "mimetype": "text/x-python",
      "name": "python",
      "nbconvert_exporter": "python",
      "pygments_lexer": "ipython3",
      "version": "3.10.14"
    },
    "colab": {
      "provenance": [],
      "gpuType": "T4"
    },
    "accelerator": "GPU",
    "widgets": {
      "application/vnd.jupyter.widget-state+json": {
        "2ee32bb7bbaa48dab0070dd46eb374a2": {
          "model_module": "@jupyter-widgets/controls",
          "model_name": "HBoxModel",
          "model_module_version": "1.5.0",
          "state": {
            "_dom_classes": [],
            "_model_module": "@jupyter-widgets/controls",
            "_model_module_version": "1.5.0",
            "_model_name": "HBoxModel",
            "_view_count": null,
            "_view_module": "@jupyter-widgets/controls",
            "_view_module_version": "1.5.0",
            "_view_name": "HBoxView",
            "box_style": "",
            "children": [
              "IPY_MODEL_6374a7b5af794ad9bc294c4bc748cd2f",
              "IPY_MODEL_cc4b4c25a92849baba3e8897a7216b7e",
              "IPY_MODEL_13fb93ac2c844e5f88f7bebc4e4e18a2"
            ],
            "layout": "IPY_MODEL_1c60f43df9e94a2d8fd383c540ba9033"
          }
        },
        "6374a7b5af794ad9bc294c4bc748cd2f": {
          "model_module": "@jupyter-widgets/controls",
          "model_name": "HTMLModel",
          "model_module_version": "1.5.0",
          "state": {
            "_dom_classes": [],
            "_model_module": "@jupyter-widgets/controls",
            "_model_module_version": "1.5.0",
            "_model_name": "HTMLModel",
            "_view_count": null,
            "_view_module": "@jupyter-widgets/controls",
            "_view_module_version": "1.5.0",
            "_view_name": "HTMLView",
            "description": "",
            "description_tooltip": null,
            "layout": "IPY_MODEL_12923d8db7544672a036b787f1c4007d",
            "placeholder": "​",
            "style": "IPY_MODEL_29cdde8ae15b47ceb12a4a30a3d81663",
            "value": "Loading checkpoint shards: 100%"
          }
        },
        "cc4b4c25a92849baba3e8897a7216b7e": {
          "model_module": "@jupyter-widgets/controls",
          "model_name": "FloatProgressModel",
          "model_module_version": "1.5.0",
          "state": {
            "_dom_classes": [],
            "_model_module": "@jupyter-widgets/controls",
            "_model_module_version": "1.5.0",
            "_model_name": "FloatProgressModel",
            "_view_count": null,
            "_view_module": "@jupyter-widgets/controls",
            "_view_module_version": "1.5.0",
            "_view_name": "ProgressView",
            "bar_style": "success",
            "description": "",
            "description_tooltip": null,
            "layout": "IPY_MODEL_0d29a4c5c93642fcaa80c0f7f5e0b9b6",
            "max": 4,
            "min": 0,
            "orientation": "horizontal",
            "style": "IPY_MODEL_3f8d79756e154b0bac9384e745d8f3cd",
            "value": 4
          }
        },
        "13fb93ac2c844e5f88f7bebc4e4e18a2": {
          "model_module": "@jupyter-widgets/controls",
          "model_name": "HTMLModel",
          "model_module_version": "1.5.0",
          "state": {
            "_dom_classes": [],
            "_model_module": "@jupyter-widgets/controls",
            "_model_module_version": "1.5.0",
            "_model_name": "HTMLModel",
            "_view_count": null,
            "_view_module": "@jupyter-widgets/controls",
            "_view_module_version": "1.5.0",
            "_view_name": "HTMLView",
            "description": "",
            "description_tooltip": null,
            "layout": "IPY_MODEL_f8cf186b077c40a99ab193e1a988eb73",
            "placeholder": "​",
            "style": "IPY_MODEL_7443a1dce6e64aca94c18fb099f85789",
            "value": " 4/4 [01:12&lt;00:00, 17.49s/it]"
          }
        },
        "1c60f43df9e94a2d8fd383c540ba9033": {
          "model_module": "@jupyter-widgets/base",
          "model_name": "LayoutModel",
          "model_module_version": "1.2.0",
          "state": {
            "_model_module": "@jupyter-widgets/base",
            "_model_module_version": "1.2.0",
            "_model_name": "LayoutModel",
            "_view_count": null,
            "_view_module": "@jupyter-widgets/base",
            "_view_module_version": "1.2.0",
            "_view_name": "LayoutView",
            "align_content": null,
            "align_items": null,
            "align_self": null,
            "border": null,
            "bottom": null,
            "display": null,
            "flex": null,
            "flex_flow": null,
            "grid_area": null,
            "grid_auto_columns": null,
            "grid_auto_flow": null,
            "grid_auto_rows": null,
            "grid_column": null,
            "grid_gap": null,
            "grid_row": null,
            "grid_template_areas": null,
            "grid_template_columns": null,
            "grid_template_rows": null,
            "height": null,
            "justify_content": null,
            "justify_items": null,
            "left": null,
            "margin": null,
            "max_height": null,
            "max_width": null,
            "min_height": null,
            "min_width": null,
            "object_fit": null,
            "object_position": null,
            "order": null,
            "overflow": null,
            "overflow_x": null,
            "overflow_y": null,
            "padding": null,
            "right": null,
            "top": null,
            "visibility": null,
            "width": null
          }
        },
        "12923d8db7544672a036b787f1c4007d": {
          "model_module": "@jupyter-widgets/base",
          "model_name": "LayoutModel",
          "model_module_version": "1.2.0",
          "state": {
            "_model_module": "@jupyter-widgets/base",
            "_model_module_version": "1.2.0",
            "_model_name": "LayoutModel",
            "_view_count": null,
            "_view_module": "@jupyter-widgets/base",
            "_view_module_version": "1.2.0",
            "_view_name": "LayoutView",
            "align_content": null,
            "align_items": null,
            "align_self": null,
            "border": null,
            "bottom": null,
            "display": null,
            "flex": null,
            "flex_flow": null,
            "grid_area": null,
            "grid_auto_columns": null,
            "grid_auto_flow": null,
            "grid_auto_rows": null,
            "grid_column": null,
            "grid_gap": null,
            "grid_row": null,
            "grid_template_areas": null,
            "grid_template_columns": null,
            "grid_template_rows": null,
            "height": null,
            "justify_content": null,
            "justify_items": null,
            "left": null,
            "margin": null,
            "max_height": null,
            "max_width": null,
            "min_height": null,
            "min_width": null,
            "object_fit": null,
            "object_position": null,
            "order": null,
            "overflow": null,
            "overflow_x": null,
            "overflow_y": null,
            "padding": null,
            "right": null,
            "top": null,
            "visibility": null,
            "width": null
          }
        },
        "29cdde8ae15b47ceb12a4a30a3d81663": {
          "model_module": "@jupyter-widgets/controls",
          "model_name": "DescriptionStyleModel",
          "model_module_version": "1.5.0",
          "state": {
            "_model_module": "@jupyter-widgets/controls",
            "_model_module_version": "1.5.0",
            "_model_name": "DescriptionStyleModel",
            "_view_count": null,
            "_view_module": "@jupyter-widgets/base",
            "_view_module_version": "1.2.0",
            "_view_name": "StyleView",
            "description_width": ""
          }
        },
        "0d29a4c5c93642fcaa80c0f7f5e0b9b6": {
          "model_module": "@jupyter-widgets/base",
          "model_name": "LayoutModel",
          "model_module_version": "1.2.0",
          "state": {
            "_model_module": "@jupyter-widgets/base",
            "_model_module_version": "1.2.0",
            "_model_name": "LayoutModel",
            "_view_count": null,
            "_view_module": "@jupyter-widgets/base",
            "_view_module_version": "1.2.0",
            "_view_name": "LayoutView",
            "align_content": null,
            "align_items": null,
            "align_self": null,
            "border": null,
            "bottom": null,
            "display": null,
            "flex": null,
            "flex_flow": null,
            "grid_area": null,
            "grid_auto_columns": null,
            "grid_auto_flow": null,
            "grid_auto_rows": null,
            "grid_column": null,
            "grid_gap": null,
            "grid_row": null,
            "grid_template_areas": null,
            "grid_template_columns": null,
            "grid_template_rows": null,
            "height": null,
            "justify_content": null,
            "justify_items": null,
            "left": null,
            "margin": null,
            "max_height": null,
            "max_width": null,
            "min_height": null,
            "min_width": null,
            "object_fit": null,
            "object_position": null,
            "order": null,
            "overflow": null,
            "overflow_x": null,
            "overflow_y": null,
            "padding": null,
            "right": null,
            "top": null,
            "visibility": null,
            "width": null
          }
        },
        "3f8d79756e154b0bac9384e745d8f3cd": {
          "model_module": "@jupyter-widgets/controls",
          "model_name": "ProgressStyleModel",
          "model_module_version": "1.5.0",
          "state": {
            "_model_module": "@jupyter-widgets/controls",
            "_model_module_version": "1.5.0",
            "_model_name": "ProgressStyleModel",
            "_view_count": null,
            "_view_module": "@jupyter-widgets/base",
            "_view_module_version": "1.2.0",
            "_view_name": "StyleView",
            "bar_color": null,
            "description_width": ""
          }
        },
        "f8cf186b077c40a99ab193e1a988eb73": {
          "model_module": "@jupyter-widgets/base",
          "model_name": "LayoutModel",
          "model_module_version": "1.2.0",
          "state": {
            "_model_module": "@jupyter-widgets/base",
            "_model_module_version": "1.2.0",
            "_model_name": "LayoutModel",
            "_view_count": null,
            "_view_module": "@jupyter-widgets/base",
            "_view_module_version": "1.2.0",
            "_view_name": "LayoutView",
            "align_content": null,
            "align_items": null,
            "align_self": null,
            "border": null,
            "bottom": null,
            "display": null,
            "flex": null,
            "flex_flow": null,
            "grid_area": null,
            "grid_auto_columns": null,
            "grid_auto_flow": null,
            "grid_auto_rows": null,
            "grid_column": null,
            "grid_gap": null,
            "grid_row": null,
            "grid_template_areas": null,
            "grid_template_columns": null,
            "grid_template_rows": null,
            "height": null,
            "justify_content": null,
            "justify_items": null,
            "left": null,
            "margin": null,
            "max_height": null,
            "max_width": null,
            "min_height": null,
            "min_width": null,
            "object_fit": null,
            "object_position": null,
            "order": null,
            "overflow": null,
            "overflow_x": null,
            "overflow_y": null,
            "padding": null,
            "right": null,
            "top": null,
            "visibility": null,
            "width": null
          }
        },
        "7443a1dce6e64aca94c18fb099f85789": {
          "model_module": "@jupyter-widgets/controls",
          "model_name": "DescriptionStyleModel",
          "model_module_version": "1.5.0",
          "state": {
            "_model_module": "@jupyter-widgets/controls",
            "_model_module_version": "1.5.0",
            "_model_name": "DescriptionStyleModel",
            "_view_count": null,
            "_view_module": "@jupyter-widgets/base",
            "_view_module_version": "1.2.0",
            "_view_name": "StyleView",
            "description_width": ""
          }
        },
        "ef5bdf96a387489599dbae8b463ae970": {
          "model_module": "@jupyter-widgets/controls",
          "model_name": "HBoxModel",
          "model_module_version": "1.5.0",
          "state": {
            "_dom_classes": [],
            "_model_module": "@jupyter-widgets/controls",
            "_model_module_version": "1.5.0",
            "_model_name": "HBoxModel",
            "_view_count": null,
            "_view_module": "@jupyter-widgets/controls",
            "_view_module_version": "1.5.0",
            "_view_name": "HBoxView",
            "box_style": "",
            "children": [
              "IPY_MODEL_f0bebbc8ff2844329ebbf8f442e4db72",
              "IPY_MODEL_3aea8b09f0a14560be239cf16ef8539f",
              "IPY_MODEL_da5690fdd23a438e98b9f030965bcb36"
            ],
            "layout": "IPY_MODEL_78617157de834d9fbe965a65932b5415"
          }
        },
        "f0bebbc8ff2844329ebbf8f442e4db72": {
          "model_module": "@jupyter-widgets/controls",
          "model_name": "HTMLModel",
          "model_module_version": "1.5.0",
          "state": {
            "_dom_classes": [],
            "_model_module": "@jupyter-widgets/controls",
            "_model_module_version": "1.5.0",
            "_model_name": "HTMLModel",
            "_view_count": null,
            "_view_module": "@jupyter-widgets/controls",
            "_view_module_version": "1.5.0",
            "_view_name": "HTMLView",
            "description": "",
            "description_tooltip": null,
            "layout": "IPY_MODEL_62f27925168949caa07db012ba0078f7",
            "placeholder": "​",
            "style": "IPY_MODEL_87c7db740aa445afaf5059ff095c64a7",
            "value": "Loading checkpoint shards:  25%"
          }
        },
        "3aea8b09f0a14560be239cf16ef8539f": {
          "model_module": "@jupyter-widgets/controls",
          "model_name": "FloatProgressModel",
          "model_module_version": "1.5.0",
          "state": {
            "_dom_classes": [],
            "_model_module": "@jupyter-widgets/controls",
            "_model_module_version": "1.5.0",
            "_model_name": "FloatProgressModel",
            "_view_count": null,
            "_view_module": "@jupyter-widgets/controls",
            "_view_module_version": "1.5.0",
            "_view_name": "ProgressView",
            "bar_style": "",
            "description": "",
            "description_tooltip": null,
            "layout": "IPY_MODEL_e021a151cdfd4f8eac226965ef293200",
            "max": 4,
            "min": 0,
            "orientation": "horizontal",
            "style": "IPY_MODEL_afc9740ad5464cb2963ec82f579211c2",
            "value": 1
          }
        },
        "da5690fdd23a438e98b9f030965bcb36": {
          "model_module": "@jupyter-widgets/controls",
          "model_name": "HTMLModel",
          "model_module_version": "1.5.0",
          "state": {
            "_dom_classes": [],
            "_model_module": "@jupyter-widgets/controls",
            "_model_module_version": "1.5.0",
            "_model_name": "HTMLModel",
            "_view_count": null,
            "_view_module": "@jupyter-widgets/controls",
            "_view_module_version": "1.5.0",
            "_view_name": "HTMLView",
            "description": "",
            "description_tooltip": null,
            "layout": "IPY_MODEL_062658158e0446168b943857a8105fed",
            "placeholder": "​",
            "style": "IPY_MODEL_63de9a7b70de4d188fa2f2948589a91d",
            "value": " 1/4 [00:16&lt;00:48, 16.00s/it]"
          }
        },
        "78617157de834d9fbe965a65932b5415": {
          "model_module": "@jupyter-widgets/base",
          "model_name": "LayoutModel",
          "model_module_version": "1.2.0",
          "state": {
            "_model_module": "@jupyter-widgets/base",
            "_model_module_version": "1.2.0",
            "_model_name": "LayoutModel",
            "_view_count": null,
            "_view_module": "@jupyter-widgets/base",
            "_view_module_version": "1.2.0",
            "_view_name": "LayoutView",
            "align_content": null,
            "align_items": null,
            "align_self": null,
            "border": null,
            "bottom": null,
            "display": null,
            "flex": null,
            "flex_flow": null,
            "grid_area": null,
            "grid_auto_columns": null,
            "grid_auto_flow": null,
            "grid_auto_rows": null,
            "grid_column": null,
            "grid_gap": null,
            "grid_row": null,
            "grid_template_areas": null,
            "grid_template_columns": null,
            "grid_template_rows": null,
            "height": null,
            "justify_content": null,
            "justify_items": null,
            "left": null,
            "margin": null,
            "max_height": null,
            "max_width": null,
            "min_height": null,
            "min_width": null,
            "object_fit": null,
            "object_position": null,
            "order": null,
            "overflow": null,
            "overflow_x": null,
            "overflow_y": null,
            "padding": null,
            "right": null,
            "top": null,
            "visibility": null,
            "width": null
          }
        },
        "62f27925168949caa07db012ba0078f7": {
          "model_module": "@jupyter-widgets/base",
          "model_name": "LayoutModel",
          "model_module_version": "1.2.0",
          "state": {
            "_model_module": "@jupyter-widgets/base",
            "_model_module_version": "1.2.0",
            "_model_name": "LayoutModel",
            "_view_count": null,
            "_view_module": "@jupyter-widgets/base",
            "_view_module_version": "1.2.0",
            "_view_name": "LayoutView",
            "align_content": null,
            "align_items": null,
            "align_self": null,
            "border": null,
            "bottom": null,
            "display": null,
            "flex": null,
            "flex_flow": null,
            "grid_area": null,
            "grid_auto_columns": null,
            "grid_auto_flow": null,
            "grid_auto_rows": null,
            "grid_column": null,
            "grid_gap": null,
            "grid_row": null,
            "grid_template_areas": null,
            "grid_template_columns": null,
            "grid_template_rows": null,
            "height": null,
            "justify_content": null,
            "justify_items": null,
            "left": null,
            "margin": null,
            "max_height": null,
            "max_width": null,
            "min_height": null,
            "min_width": null,
            "object_fit": null,
            "object_position": null,
            "order": null,
            "overflow": null,
            "overflow_x": null,
            "overflow_y": null,
            "padding": null,
            "right": null,
            "top": null,
            "visibility": null,
            "width": null
          }
        },
        "87c7db740aa445afaf5059ff095c64a7": {
          "model_module": "@jupyter-widgets/controls",
          "model_name": "DescriptionStyleModel",
          "model_module_version": "1.5.0",
          "state": {
            "_model_module": "@jupyter-widgets/controls",
            "_model_module_version": "1.5.0",
            "_model_name": "DescriptionStyleModel",
            "_view_count": null,
            "_view_module": "@jupyter-widgets/base",
            "_view_module_version": "1.2.0",
            "_view_name": "StyleView",
            "description_width": ""
          }
        },
        "e021a151cdfd4f8eac226965ef293200": {
          "model_module": "@jupyter-widgets/base",
          "model_name": "LayoutModel",
          "model_module_version": "1.2.0",
          "state": {
            "_model_module": "@jupyter-widgets/base",
            "_model_module_version": "1.2.0",
            "_model_name": "LayoutModel",
            "_view_count": null,
            "_view_module": "@jupyter-widgets/base",
            "_view_module_version": "1.2.0",
            "_view_name": "LayoutView",
            "align_content": null,
            "align_items": null,
            "align_self": null,
            "border": null,
            "bottom": null,
            "display": null,
            "flex": null,
            "flex_flow": null,
            "grid_area": null,
            "grid_auto_columns": null,
            "grid_auto_flow": null,
            "grid_auto_rows": null,
            "grid_column": null,
            "grid_gap": null,
            "grid_row": null,
            "grid_template_areas": null,
            "grid_template_columns": null,
            "grid_template_rows": null,
            "height": null,
            "justify_content": null,
            "justify_items": null,
            "left": null,
            "margin": null,
            "max_height": null,
            "max_width": null,
            "min_height": null,
            "min_width": null,
            "object_fit": null,
            "object_position": null,
            "order": null,
            "overflow": null,
            "overflow_x": null,
            "overflow_y": null,
            "padding": null,
            "right": null,
            "top": null,
            "visibility": null,
            "width": null
          }
        },
        "afc9740ad5464cb2963ec82f579211c2": {
          "model_module": "@jupyter-widgets/controls",
          "model_name": "ProgressStyleModel",
          "model_module_version": "1.5.0",
          "state": {
            "_model_module": "@jupyter-widgets/controls",
            "_model_module_version": "1.5.0",
            "_model_name": "ProgressStyleModel",
            "_view_count": null,
            "_view_module": "@jupyter-widgets/base",
            "_view_module_version": "1.2.0",
            "_view_name": "StyleView",
            "bar_color": null,
            "description_width": ""
          }
        },
        "062658158e0446168b943857a8105fed": {
          "model_module": "@jupyter-widgets/base",
          "model_name": "LayoutModel",
          "model_module_version": "1.2.0",
          "state": {
            "_model_module": "@jupyter-widgets/base",
            "_model_module_version": "1.2.0",
            "_model_name": "LayoutModel",
            "_view_count": null,
            "_view_module": "@jupyter-widgets/base",
            "_view_module_version": "1.2.0",
            "_view_name": "LayoutView",
            "align_content": null,
            "align_items": null,
            "align_self": null,
            "border": null,
            "bottom": null,
            "display": null,
            "flex": null,
            "flex_flow": null,
            "grid_area": null,
            "grid_auto_columns": null,
            "grid_auto_flow": null,
            "grid_auto_rows": null,
            "grid_column": null,
            "grid_gap": null,
            "grid_row": null,
            "grid_template_areas": null,
            "grid_template_columns": null,
            "grid_template_rows": null,
            "height": null,
            "justify_content": null,
            "justify_items": null,
            "left": null,
            "margin": null,
            "max_height": null,
            "max_width": null,
            "min_height": null,
            "min_width": null,
            "object_fit": null,
            "object_position": null,
            "order": null,
            "overflow": null,
            "overflow_x": null,
            "overflow_y": null,
            "padding": null,
            "right": null,
            "top": null,
            "visibility": null,
            "width": null
          }
        },
        "63de9a7b70de4d188fa2f2948589a91d": {
          "model_module": "@jupyter-widgets/controls",
          "model_name": "DescriptionStyleModel",
          "model_module_version": "1.5.0",
          "state": {
            "_model_module": "@jupyter-widgets/controls",
            "_model_module_version": "1.5.0",
            "_model_name": "DescriptionStyleModel",
            "_view_count": null,
            "_view_module": "@jupyter-widgets/base",
            "_view_module_version": "1.2.0",
            "_view_name": "StyleView",
            "description_width": ""
          }
        }
      }
    }
  },
  "nbformat": 4,
  "nbformat_minor": 0
}
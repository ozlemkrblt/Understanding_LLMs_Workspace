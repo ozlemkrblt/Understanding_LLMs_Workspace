{
  "cells": [
    {
      "cell_type": "markdown",
      "metadata": {
        "id": "view-in-github",
        "colab_type": "text"
      },
      "source": [
        "<a href=\"https://colab.research.google.com/github/ozlemkrblt/Understanding_LLMs_Workspace/blob/main/understanding-llms/tutorials/01-introduction.ipynb\" target=\"_parent\"><img src=\"https://colab.research.google.com/assets/colab-badge.svg\" alt=\"Open In Colab\"/></a>"
      ]
    },
    {
      "cell_type": "markdown",
      "metadata": {
        "id": "H3S_GSA0K5Hn"
      },
      "source": [
        "Sheet 1.1: Practical set-up & Training data\n",
        "========================\n",
        "\n",
        "**Author**: Polina Tsvilodub"
      ]
    },
    {
      "cell_type": "markdown",
      "metadata": {
        "id": "AyeHlJXjK5Ht"
      },
      "source": [
        "\n",
        "This page contains materials for the first tutorial session.\n",
        "\n",
        "The learning goals for the first tutorial are:\n",
        "\n",
        "* preparing the Python requirements for practical exercises in the upcoming tutorials,\n",
        "* test-running a few lines of code,\n",
        "* familiarization with a few coding best practices,\n",
        "* understanding key processing steps and terms of the first building block for training any language model -- the training data.\n",
        "\n",
        "**Please try to complete the first block of this tutorial sheet (i.e., installation of requirements) AHEAD of the tutorial session**, ideally, while you have a stable internet connection. This way we can try to solve any problems that might have come up with the installation during the tutorial on Friday."
      ]
    },
    {
      "cell_type": "markdown",
      "metadata": {
        "id": "aWr2fCVAK5Hu"
      },
      "source": [
        "## Installing requirements\n",
        "\n",
        "Throughout the semester, we will use Python, PyTorch and various packages for practical work. Both the in-tutorial exercise sheets and homework will require you to execute Python code yourself.\n",
        "Please follow the steps below to set up the requirements (i.e., most packages required for completing exercises) that we will use in the course. We will most likely install more packages as we go during the semester, though.\n",
        "\n",
        "You can do so either on your own machine, or by using [Google Colab](https://colab.research.google.com/). You can easily access the latter option by pressing the Colab icon at the top of the webook's page. Depending on your choice, please follow the respective requirement installation steps below.\n",
        "\n",
        "Please note that working with language models is quite compute-intensive. That is, their weight require a lot of disk space, and most importantly, a relatively performant GPU, both for inference and for training. For most purposes of this course, using Colab is the recommended option, unless you have a performant GPU on your laptop. However, there are two additional resources we will take advantage of: [bwJupyter](https://www.bwjupyter.de/), a server provided by the state of Baden-Württemberg, and the API provided by NVIDIA. More on both services below."
      ]
    },
    {
      "cell_type": "markdown",
      "metadata": {
        "id": "OYatmDXuK5Hu"
      },
      "source": [
        "### Colab\n",
        "\n",
        "The advantage of using Colab is that you don't need to install software on your own machine; i.e., it is a safer option if you are not very comfortable with using Python on your own machine. Colab is a  platform provided by Google for free, and it also provides limited access to GPU computation (which will be useful for working with language models). Using it only requires a Google account.\n",
        "\n",
        "For using a GPU on Colab, before executing your code, navigate to Runtime > Change runtime type > GPU > Save. Please note that the provided Colab computational resources are free, so please be mindful when using them. Further, Colab monitors GPU usage, so if it is used a lot very frequently, the user might not be able to access GPU run times for a while.\n",
        "\n",
        "Colab already provides Python as well as a number of basic packages. If you choose to use it, you will only need to install the more specific packages. Note that you will have to so *every time* you open a new Colab runtime. To test that you can access requirements for the class, please open this notebook in Colab (see above), uncomment and run the following line:"
      ]
    },
    {
      "cell_type": "code",
      "execution_count": 1,
      "metadata": {
        "id": "5B85MxX2K5Hv",
        "outputId": "c286e860-6a87-4c1b-83d1-61ca94c37a09",
        "colab": {
          "base_uri": "https://localhost:8080/"
        }
      },
      "outputs": [
        {
          "output_type": "stream",
          "name": "stdout",
          "text": [
            "Requirement already satisfied: torch in /usr/local/lib/python3.11/dist-packages (2.6.0+cu124)\n",
            "Requirement already satisfied: transformers in /usr/local/lib/python3.11/dist-packages (4.51.3)\n",
            "Collecting datasets\n",
            "  Downloading datasets-3.6.0-py3-none-any.whl.metadata (19 kB)\n",
            "Collecting langchain-community\n",
            "  Downloading langchain_community-0.3.23-py3-none-any.whl.metadata (2.5 kB)\n",
            "Collecting langchain_nvidia_ai_endpoints==0.3.9\n",
            "  Downloading langchain_nvidia_ai_endpoints-0.3.9-py3-none-any.whl.metadata (11 kB)\n",
            "Collecting python-dotenv==1.1.0\n",
            "  Downloading python_dotenv-1.1.0-py3-none-any.whl.metadata (24 kB)\n",
            "Collecting torchrl\n",
            "  Downloading torchrl-0.8.0-cp311-cp311-manylinux_2_28_x86_64.whl.metadata (41 kB)\n",
            "\u001b[2K     \u001b[90m━━━━━━━━━━━━━━━━━━━━━━━━━━━━━━━━━━━━━━━━\u001b[0m \u001b[32m41.2/41.2 kB\u001b[0m \u001b[31m1.2 MB/s\u001b[0m eta \u001b[36m0:00:00\u001b[0m\n",
            "\u001b[?25hCollecting llama-index\n",
            "  Downloading llama_index-0.12.34-py3-none-any.whl.metadata (12 kB)\n",
            "Collecting bertviz\n",
            "  Downloading bertviz-1.4.0-py3-none-any.whl.metadata (19 kB)\n",
            "Collecting wikipedia\n",
            "  Downloading wikipedia-1.4.0.tar.gz (27 kB)\n",
            "  Preparing metadata (setup.py) ... \u001b[?25l\u001b[?25hdone\n",
            "Requirement already satisfied: aiohttp<4.0.0,>=3.9.1 in /usr/local/lib/python3.11/dist-packages (from langchain_nvidia_ai_endpoints==0.3.9) (3.11.15)\n",
            "Requirement already satisfied: langchain-core<0.4,>=0.3.0 in /usr/local/lib/python3.11/dist-packages (from langchain_nvidia_ai_endpoints==0.3.9) (0.3.56)\n",
            "Requirement already satisfied: filelock in /usr/local/lib/python3.11/dist-packages (from torch) (3.18.0)\n",
            "Requirement already satisfied: typing-extensions>=4.10.0 in /usr/local/lib/python3.11/dist-packages (from torch) (4.13.2)\n",
            "Requirement already satisfied: networkx in /usr/local/lib/python3.11/dist-packages (from torch) (3.4.2)\n",
            "Requirement already satisfied: jinja2 in /usr/local/lib/python3.11/dist-packages (from torch) (3.1.6)\n",
            "Requirement already satisfied: fsspec in /usr/local/lib/python3.11/dist-packages (from torch) (2025.3.2)\n",
            "Collecting nvidia-cuda-nvrtc-cu12==12.4.127 (from torch)\n",
            "  Downloading nvidia_cuda_nvrtc_cu12-12.4.127-py3-none-manylinux2014_x86_64.whl.metadata (1.5 kB)\n",
            "Collecting nvidia-cuda-runtime-cu12==12.4.127 (from torch)\n",
            "  Downloading nvidia_cuda_runtime_cu12-12.4.127-py3-none-manylinux2014_x86_64.whl.metadata (1.5 kB)\n",
            "Collecting nvidia-cuda-cupti-cu12==12.4.127 (from torch)\n",
            "  Downloading nvidia_cuda_cupti_cu12-12.4.127-py3-none-manylinux2014_x86_64.whl.metadata (1.6 kB)\n",
            "Collecting nvidia-cudnn-cu12==9.1.0.70 (from torch)\n",
            "  Downloading nvidia_cudnn_cu12-9.1.0.70-py3-none-manylinux2014_x86_64.whl.metadata (1.6 kB)\n",
            "Collecting nvidia-cublas-cu12==12.4.5.8 (from torch)\n",
            "  Downloading nvidia_cublas_cu12-12.4.5.8-py3-none-manylinux2014_x86_64.whl.metadata (1.5 kB)\n",
            "Collecting nvidia-cufft-cu12==11.2.1.3 (from torch)\n",
            "  Downloading nvidia_cufft_cu12-11.2.1.3-py3-none-manylinux2014_x86_64.whl.metadata (1.5 kB)\n",
            "Collecting nvidia-curand-cu12==10.3.5.147 (from torch)\n",
            "  Downloading nvidia_curand_cu12-10.3.5.147-py3-none-manylinux2014_x86_64.whl.metadata (1.5 kB)\n",
            "Collecting nvidia-cusolver-cu12==11.6.1.9 (from torch)\n",
            "  Downloading nvidia_cusolver_cu12-11.6.1.9-py3-none-manylinux2014_x86_64.whl.metadata (1.6 kB)\n",
            "Collecting nvidia-cusparse-cu12==12.3.1.170 (from torch)\n",
            "  Downloading nvidia_cusparse_cu12-12.3.1.170-py3-none-manylinux2014_x86_64.whl.metadata (1.6 kB)\n",
            "Requirement already satisfied: nvidia-cusparselt-cu12==0.6.2 in /usr/local/lib/python3.11/dist-packages (from torch) (0.6.2)\n",
            "Requirement already satisfied: nvidia-nccl-cu12==2.21.5 in /usr/local/lib/python3.11/dist-packages (from torch) (2.21.5)\n",
            "Requirement already satisfied: nvidia-nvtx-cu12==12.4.127 in /usr/local/lib/python3.11/dist-packages (from torch) (12.4.127)\n",
            "Collecting nvidia-nvjitlink-cu12==12.4.127 (from torch)\n",
            "  Downloading nvidia_nvjitlink_cu12-12.4.127-py3-none-manylinux2014_x86_64.whl.metadata (1.5 kB)\n",
            "Requirement already satisfied: triton==3.2.0 in /usr/local/lib/python3.11/dist-packages (from torch) (3.2.0)\n",
            "Requirement already satisfied: sympy==1.13.1 in /usr/local/lib/python3.11/dist-packages (from torch) (1.13.1)\n",
            "Requirement already satisfied: mpmath<1.4,>=1.1.0 in /usr/local/lib/python3.11/dist-packages (from sympy==1.13.1->torch) (1.3.0)\n",
            "Requirement already satisfied: huggingface-hub<1.0,>=0.30.0 in /usr/local/lib/python3.11/dist-packages (from transformers) (0.30.2)\n",
            "Requirement already satisfied: numpy>=1.17 in /usr/local/lib/python3.11/dist-packages (from transformers) (2.0.2)\n",
            "Requirement already satisfied: packaging>=20.0 in /usr/local/lib/python3.11/dist-packages (from transformers) (24.2)\n",
            "Requirement already satisfied: pyyaml>=5.1 in /usr/local/lib/python3.11/dist-packages (from transformers) (6.0.2)\n",
            "Requirement already satisfied: regex!=2019.12.17 in /usr/local/lib/python3.11/dist-packages (from transformers) (2024.11.6)\n",
            "Requirement already satisfied: requests in /usr/local/lib/python3.11/dist-packages (from transformers) (2.32.3)\n",
            "Requirement already satisfied: tokenizers<0.22,>=0.21 in /usr/local/lib/python3.11/dist-packages (from transformers) (0.21.1)\n",
            "Requirement already satisfied: safetensors>=0.4.3 in /usr/local/lib/python3.11/dist-packages (from transformers) (0.5.3)\n",
            "Requirement already satisfied: tqdm>=4.27 in /usr/local/lib/python3.11/dist-packages (from transformers) (4.67.1)\n",
            "Requirement already satisfied: pyarrow>=15.0.0 in /usr/local/lib/python3.11/dist-packages (from datasets) (18.1.0)\n",
            "Collecting dill<0.3.9,>=0.3.0 (from datasets)\n",
            "  Downloading dill-0.3.8-py3-none-any.whl.metadata (10 kB)\n",
            "Requirement already satisfied: pandas in /usr/local/lib/python3.11/dist-packages (from datasets) (2.2.2)\n",
            "Collecting xxhash (from datasets)\n",
            "  Downloading xxhash-3.5.0-cp311-cp311-manylinux_2_17_x86_64.manylinux2014_x86_64.whl.metadata (12 kB)\n",
            "Collecting multiprocess<0.70.17 (from datasets)\n",
            "  Downloading multiprocess-0.70.16-py311-none-any.whl.metadata (7.2 kB)\n",
            "Collecting fsspec (from torch)\n",
            "  Downloading fsspec-2025.3.0-py3-none-any.whl.metadata (11 kB)\n",
            "Requirement already satisfied: langchain<1.0.0,>=0.3.24 in /usr/local/lib/python3.11/dist-packages (from langchain-community) (0.3.24)\n",
            "Requirement already satisfied: SQLAlchemy<3,>=1.4 in /usr/local/lib/python3.11/dist-packages (from langchain-community) (2.0.40)\n",
            "Requirement already satisfied: tenacity!=8.4.0,<10,>=8.1.0 in /usr/local/lib/python3.11/dist-packages (from langchain-community) (9.1.2)\n",
            "Collecting dataclasses-json<0.7,>=0.5.7 (from langchain-community)\n",
            "  Downloading dataclasses_json-0.6.7-py3-none-any.whl.metadata (25 kB)\n",
            "Collecting pydantic-settings<3.0.0,>=2.4.0 (from langchain-community)\n",
            "  Downloading pydantic_settings-2.9.1-py3-none-any.whl.metadata (3.8 kB)\n",
            "Requirement already satisfied: langsmith<0.4,>=0.1.125 in /usr/local/lib/python3.11/dist-packages (from langchain-community) (0.3.39)\n",
            "Collecting httpx-sse<1.0.0,>=0.4.0 (from langchain-community)\n",
            "  Downloading httpx_sse-0.4.0-py3-none-any.whl.metadata (9.0 kB)\n",
            "Requirement already satisfied: cloudpickle in /usr/local/lib/python3.11/dist-packages (from torchrl) (3.1.1)\n",
            "Collecting tensordict<0.9.0,>=0.8.1 (from torchrl)\n",
            "  Downloading tensordict-0.8.2-cp311-cp311-manylinux_2_28_x86_64.whl.metadata (9.2 kB)\n",
            "Collecting llama-index-agent-openai<0.5,>=0.4.0 (from llama-index)\n",
            "  Downloading llama_index_agent_openai-0.4.7-py3-none-any.whl.metadata (438 bytes)\n",
            "Collecting llama-index-cli<0.5,>=0.4.1 (from llama-index)\n",
            "  Downloading llama_index_cli-0.4.1-py3-none-any.whl.metadata (1.5 kB)\n",
            "Collecting llama-index-core<0.13,>=0.12.34 (from llama-index)\n",
            "  Downloading llama_index_core-0.12.34.post1-py3-none-any.whl.metadata (2.4 kB)\n",
            "Collecting llama-index-embeddings-openai<0.4,>=0.3.0 (from llama-index)\n",
            "  Downloading llama_index_embeddings_openai-0.3.1-py3-none-any.whl.metadata (684 bytes)\n",
            "Collecting llama-index-indices-managed-llama-cloud>=0.4.0 (from llama-index)\n",
            "  Downloading llama_index_indices_managed_llama_cloud-0.6.11-py3-none-any.whl.metadata (3.6 kB)\n",
            "Collecting llama-index-llms-openai<0.4,>=0.3.0 (from llama-index)\n",
            "  Downloading llama_index_llms_openai-0.3.38-py3-none-any.whl.metadata (3.3 kB)\n",
            "Collecting llama-index-multi-modal-llms-openai<0.5,>=0.4.0 (from llama-index)\n",
            "  Downloading llama_index_multi_modal_llms_openai-0.4.3-py3-none-any.whl.metadata (726 bytes)\n",
            "Collecting llama-index-program-openai<0.4,>=0.3.0 (from llama-index)\n",
            "  Downloading llama_index_program_openai-0.3.1-py3-none-any.whl.metadata (764 bytes)\n",
            "Collecting llama-index-question-gen-openai<0.4,>=0.3.0 (from llama-index)\n",
            "  Downloading llama_index_question_gen_openai-0.3.0-py3-none-any.whl.metadata (783 bytes)\n",
            "Collecting llama-index-readers-file<0.5,>=0.4.0 (from llama-index)\n",
            "  Downloading llama_index_readers_file-0.4.7-py3-none-any.whl.metadata (5.4 kB)\n",
            "Collecting llama-index-readers-llama-parse>=0.4.0 (from llama-index)\n",
            "  Downloading llama_index_readers_llama_parse-0.4.0-py3-none-any.whl.metadata (3.6 kB)\n",
            "Requirement already satisfied: nltk>3.8.1 in /usr/local/lib/python3.11/dist-packages (from llama-index) (3.9.1)\n",
            "Collecting boto3 (from bertviz)\n",
            "  Downloading boto3-1.38.11-py3-none-any.whl.metadata (6.6 kB)\n",
            "Requirement already satisfied: sentencepiece in /usr/local/lib/python3.11/dist-packages (from bertviz) (0.2.0)\n",
            "Requirement already satisfied: beautifulsoup4 in /usr/local/lib/python3.11/dist-packages (from wikipedia) (4.13.4)\n",
            "Requirement already satisfied: aiohappyeyeballs>=2.3.0 in /usr/local/lib/python3.11/dist-packages (from aiohttp<4.0.0,>=3.9.1->langchain_nvidia_ai_endpoints==0.3.9) (2.6.1)\n",
            "Requirement already satisfied: aiosignal>=1.1.2 in /usr/local/lib/python3.11/dist-packages (from aiohttp<4.0.0,>=3.9.1->langchain_nvidia_ai_endpoints==0.3.9) (1.3.2)\n",
            "Requirement already satisfied: attrs>=17.3.0 in /usr/local/lib/python3.11/dist-packages (from aiohttp<4.0.0,>=3.9.1->langchain_nvidia_ai_endpoints==0.3.9) (25.3.0)\n",
            "Requirement already satisfied: frozenlist>=1.1.1 in /usr/local/lib/python3.11/dist-packages (from aiohttp<4.0.0,>=3.9.1->langchain_nvidia_ai_endpoints==0.3.9) (1.6.0)\n",
            "Requirement already satisfied: multidict<7.0,>=4.5 in /usr/local/lib/python3.11/dist-packages (from aiohttp<4.0.0,>=3.9.1->langchain_nvidia_ai_endpoints==0.3.9) (6.4.3)\n",
            "Requirement already satisfied: propcache>=0.2.0 in /usr/local/lib/python3.11/dist-packages (from aiohttp<4.0.0,>=3.9.1->langchain_nvidia_ai_endpoints==0.3.9) (0.3.1)\n",
            "Requirement already satisfied: yarl<2.0,>=1.17.0 in /usr/local/lib/python3.11/dist-packages (from aiohttp<4.0.0,>=3.9.1->langchain_nvidia_ai_endpoints==0.3.9) (1.20.0)\n",
            "Collecting marshmallow<4.0.0,>=3.18.0 (from dataclasses-json<0.7,>=0.5.7->langchain-community)\n",
            "  Downloading marshmallow-3.26.1-py3-none-any.whl.metadata (7.3 kB)\n",
            "Collecting typing-inspect<1,>=0.4.0 (from dataclasses-json<0.7,>=0.5.7->langchain-community)\n",
            "  Downloading typing_inspect-0.9.0-py3-none-any.whl.metadata (1.5 kB)\n",
            "Requirement already satisfied: langchain-text-splitters<1.0.0,>=0.3.8 in /usr/local/lib/python3.11/dist-packages (from langchain<1.0.0,>=0.3.24->langchain-community) (0.3.8)\n",
            "Requirement already satisfied: pydantic<3.0.0,>=2.7.4 in /usr/local/lib/python3.11/dist-packages (from langchain<1.0.0,>=0.3.24->langchain-community) (2.11.4)\n",
            "Requirement already satisfied: jsonpatch<2.0,>=1.33 in /usr/local/lib/python3.11/dist-packages (from langchain-core<0.4,>=0.3.0->langchain_nvidia_ai_endpoints==0.3.9) (1.33)\n",
            "Requirement already satisfied: httpx<1,>=0.23.0 in /usr/local/lib/python3.11/dist-packages (from langsmith<0.4,>=0.1.125->langchain-community) (0.28.1)\n",
            "Requirement already satisfied: orjson<4.0.0,>=3.9.14 in /usr/local/lib/python3.11/dist-packages (from langsmith<0.4,>=0.1.125->langchain-community) (3.10.18)\n",
            "Requirement already satisfied: requests-toolbelt<2.0.0,>=1.0.0 in /usr/local/lib/python3.11/dist-packages (from langsmith<0.4,>=0.1.125->langchain-community) (1.0.0)\n",
            "Requirement already satisfied: zstandard<0.24.0,>=0.23.0 in /usr/local/lib/python3.11/dist-packages (from langsmith<0.4,>=0.1.125->langchain-community) (0.23.0)\n",
            "Requirement already satisfied: openai>=1.14.0 in /usr/local/lib/python3.11/dist-packages (from llama-index-agent-openai<0.5,>=0.4.0->llama-index) (1.76.2)\n",
            "Collecting banks<3,>=2.0.0 (from llama-index-core<0.13,>=0.12.34->llama-index)\n",
            "  Downloading banks-2.1.2-py3-none-any.whl.metadata (12 kB)\n",
            "Requirement already satisfied: deprecated>=1.2.9.3 in /usr/local/lib/python3.11/dist-packages (from llama-index-core<0.13,>=0.12.34->llama-index) (1.2.18)\n",
            "Collecting dirtyjson<2,>=1.0.8 (from llama-index-core<0.13,>=0.12.34->llama-index)\n",
            "  Downloading dirtyjson-1.0.8-py3-none-any.whl.metadata (11 kB)\n",
            "Collecting filetype<2,>=1.2.0 (from llama-index-core<0.13,>=0.12.34->llama-index)\n",
            "  Downloading filetype-1.2.0-py2.py3-none-any.whl.metadata (6.5 kB)\n",
            "Requirement already satisfied: nest-asyncio<2,>=1.5.8 in /usr/local/lib/python3.11/dist-packages (from llama-index-core<0.13,>=0.12.34->llama-index) (1.6.0)\n",
            "Requirement already satisfied: pillow>=9.0.0 in /usr/local/lib/python3.11/dist-packages (from llama-index-core<0.13,>=0.12.34->llama-index) (11.2.1)\n",
            "Collecting tiktoken>=0.7.0 (from llama-index-core<0.13,>=0.12.34->llama-index)\n",
            "  Downloading tiktoken-0.9.0-cp311-cp311-manylinux_2_17_x86_64.manylinux2014_x86_64.whl.metadata (6.7 kB)\n",
            "Requirement already satisfied: wrapt in /usr/local/lib/python3.11/dist-packages (from llama-index-core<0.13,>=0.12.34->llama-index) (1.17.2)\n",
            "Collecting llama-cloud<0.2.0,>=0.1.13 (from llama-index-indices-managed-llama-cloud>=0.4.0->llama-index)\n",
            "  Downloading llama_cloud-0.1.20-py3-none-any.whl.metadata (914 bytes)\n",
            "Collecting pypdf<6.0.0,>=5.1.0 (from llama-index-readers-file<0.5,>=0.4.0->llama-index)\n",
            "  Downloading pypdf-5.4.0-py3-none-any.whl.metadata (7.3 kB)\n",
            "Collecting striprtf<0.0.27,>=0.0.26 (from llama-index-readers-file<0.5,>=0.4.0->llama-index)\n",
            "  Downloading striprtf-0.0.26-py3-none-any.whl.metadata (2.1 kB)\n",
            "Requirement already satisfied: soupsieve>1.2 in /usr/local/lib/python3.11/dist-packages (from beautifulsoup4->wikipedia) (2.7)\n",
            "Collecting llama-parse>=0.5.0 (from llama-index-readers-llama-parse>=0.4.0->llama-index)\n",
            "  Downloading llama_parse-0.6.21-py3-none-any.whl.metadata (6.9 kB)\n",
            "Requirement already satisfied: click in /usr/local/lib/python3.11/dist-packages (from nltk>3.8.1->llama-index) (8.1.8)\n",
            "Requirement already satisfied: joblib in /usr/local/lib/python3.11/dist-packages (from nltk>3.8.1->llama-index) (1.4.2)\n",
            "Requirement already satisfied: typing-inspection>=0.4.0 in /usr/local/lib/python3.11/dist-packages (from pydantic-settings<3.0.0,>=2.4.0->langchain-community) (0.4.0)\n",
            "Requirement already satisfied: charset-normalizer<4,>=2 in /usr/local/lib/python3.11/dist-packages (from requests->transformers) (3.4.1)\n",
            "Requirement already satisfied: idna<4,>=2.5 in /usr/local/lib/python3.11/dist-packages (from requests->transformers) (3.10)\n",
            "Requirement already satisfied: urllib3<3,>=1.21.1 in /usr/local/lib/python3.11/dist-packages (from requests->transformers) (2.4.0)\n",
            "Requirement already satisfied: certifi>=2017.4.17 in /usr/local/lib/python3.11/dist-packages (from requests->transformers) (2025.4.26)\n",
            "Requirement already satisfied: greenlet>=1 in /usr/local/lib/python3.11/dist-packages (from SQLAlchemy<3,>=1.4->langchain-community) (3.2.1)\n",
            "Requirement already satisfied: importlib_metadata in /usr/local/lib/python3.11/dist-packages (from tensordict<0.9.0,>=0.8.1->torchrl) (8.7.0)\n",
            "Collecting botocore<1.39.0,>=1.38.11 (from boto3->bertviz)\n",
            "  Downloading botocore-1.38.11-py3-none-any.whl.metadata (5.7 kB)\n",
            "Collecting jmespath<2.0.0,>=0.7.1 (from boto3->bertviz)\n",
            "  Downloading jmespath-1.0.1-py3-none-any.whl.metadata (7.6 kB)\n",
            "Collecting s3transfer<0.13.0,>=0.12.0 (from boto3->bertviz)\n",
            "  Downloading s3transfer-0.12.0-py3-none-any.whl.metadata (1.7 kB)\n",
            "Requirement already satisfied: MarkupSafe>=2.0 in /usr/local/lib/python3.11/dist-packages (from jinja2->torch) (3.0.2)\n",
            "Requirement already satisfied: python-dateutil>=2.8.2 in /usr/local/lib/python3.11/dist-packages (from pandas->datasets) (2.9.0.post0)\n",
            "Requirement already satisfied: pytz>=2020.1 in /usr/local/lib/python3.11/dist-packages (from pandas->datasets) (2025.2)\n",
            "Requirement already satisfied: tzdata>=2022.7 in /usr/local/lib/python3.11/dist-packages (from pandas->datasets) (2025.2)\n",
            "Collecting griffe (from banks<3,>=2.0.0->llama-index-core<0.13,>=0.12.34->llama-index)\n",
            "  Downloading griffe-1.7.3-py3-none-any.whl.metadata (5.0 kB)\n",
            "Requirement already satisfied: platformdirs in /usr/local/lib/python3.11/dist-packages (from banks<3,>=2.0.0->llama-index-core<0.13,>=0.12.34->llama-index) (4.3.7)\n",
            "Requirement already satisfied: anyio in /usr/local/lib/python3.11/dist-packages (from httpx<1,>=0.23.0->langsmith<0.4,>=0.1.125->langchain-community) (4.9.0)\n",
            "Requirement already satisfied: httpcore==1.* in /usr/local/lib/python3.11/dist-packages (from httpx<1,>=0.23.0->langsmith<0.4,>=0.1.125->langchain-community) (1.0.9)\n",
            "Requirement already satisfied: h11>=0.16 in /usr/local/lib/python3.11/dist-packages (from httpcore==1.*->httpx<1,>=0.23.0->langsmith<0.4,>=0.1.125->langchain-community) (0.16.0)\n",
            "Requirement already satisfied: jsonpointer>=1.9 in /usr/local/lib/python3.11/dist-packages (from jsonpatch<2.0,>=1.33->langchain-core<0.4,>=0.3.0->langchain_nvidia_ai_endpoints==0.3.9) (3.0.0)\n",
            "Collecting llama-cloud-services>=0.6.21 (from llama-parse>=0.5.0->llama-index-readers-llama-parse>=0.4.0->llama-index)\n",
            "  Downloading llama_cloud_services-0.6.21-py3-none-any.whl.metadata (3.4 kB)\n",
            "Requirement already satisfied: distro<2,>=1.7.0 in /usr/local/lib/python3.11/dist-packages (from openai>=1.14.0->llama-index-agent-openai<0.5,>=0.4.0->llama-index) (1.9.0)\n",
            "Requirement already satisfied: jiter<1,>=0.4.0 in /usr/local/lib/python3.11/dist-packages (from openai>=1.14.0->llama-index-agent-openai<0.5,>=0.4.0->llama-index) (0.9.0)\n",
            "Requirement already satisfied: sniffio in /usr/local/lib/python3.11/dist-packages (from openai>=1.14.0->llama-index-agent-openai<0.5,>=0.4.0->llama-index) (1.3.1)\n",
            "Requirement already satisfied: annotated-types>=0.6.0 in /usr/local/lib/python3.11/dist-packages (from pydantic<3.0.0,>=2.7.4->langchain<1.0.0,>=0.3.24->langchain-community) (0.7.0)\n",
            "Requirement already satisfied: pydantic-core==2.33.2 in /usr/local/lib/python3.11/dist-packages (from pydantic<3.0.0,>=2.7.4->langchain<1.0.0,>=0.3.24->langchain-community) (2.33.2)\n",
            "Requirement already satisfied: six>=1.5 in /usr/local/lib/python3.11/dist-packages (from python-dateutil>=2.8.2->pandas->datasets) (1.17.0)\n",
            "Collecting mypy-extensions>=0.3.0 (from typing-inspect<1,>=0.4.0->dataclasses-json<0.7,>=0.5.7->langchain-community)\n",
            "  Downloading mypy_extensions-1.1.0-py3-none-any.whl.metadata (1.1 kB)\n",
            "Requirement already satisfied: zipp>=3.20 in /usr/local/lib/python3.11/dist-packages (from importlib_metadata->tensordict<0.9.0,>=0.8.1->torchrl) (3.21.0)\n",
            "Collecting llama-cloud<0.2.0,>=0.1.13 (from llama-index-indices-managed-llama-cloud>=0.4.0->llama-index)\n",
            "  Downloading llama_cloud-0.1.19-py3-none-any.whl.metadata (902 bytes)\n",
            "Collecting colorama>=0.4 (from griffe->banks<3,>=2.0.0->llama-index-core<0.13,>=0.12.34->llama-index)\n",
            "  Downloading colorama-0.4.6-py2.py3-none-any.whl.metadata (17 kB)\n",
            "Downloading langchain_nvidia_ai_endpoints-0.3.9-py3-none-any.whl (41 kB)\n",
            "\u001b[2K   \u001b[90m━━━━━━━━━━━━━━━━━━━━━━━━━━━━━━━━━━━━━━━━\u001b[0m \u001b[32m41.3/41.3 kB\u001b[0m \u001b[31m2.9 MB/s\u001b[0m eta \u001b[36m0:00:00\u001b[0m\n",
            "\u001b[?25hDownloading python_dotenv-1.1.0-py3-none-any.whl (20 kB)\n",
            "Downloading nvidia_cublas_cu12-12.4.5.8-py3-none-manylinux2014_x86_64.whl (363.4 MB)\n",
            "\u001b[2K   \u001b[90m━━━━━━━━━━━━━━━━━━━━━━━━━━━━━━━━━━━━━━━━\u001b[0m \u001b[32m363.4/363.4 MB\u001b[0m \u001b[31m4.5 MB/s\u001b[0m eta \u001b[36m0:00:00\u001b[0m\n",
            "\u001b[?25hDownloading nvidia_cuda_cupti_cu12-12.4.127-py3-none-manylinux2014_x86_64.whl (13.8 MB)\n",
            "\u001b[2K   \u001b[90m━━━━━━━━━━━━━━━━━━━━━━━━━━━━━━━━━━━━━━━━\u001b[0m \u001b[32m13.8/13.8 MB\u001b[0m \u001b[31m100.3 MB/s\u001b[0m eta \u001b[36m0:00:00\u001b[0m\n",
            "\u001b[?25hDownloading nvidia_cuda_nvrtc_cu12-12.4.127-py3-none-manylinux2014_x86_64.whl (24.6 MB)\n",
            "\u001b[2K   \u001b[90m━━━━━━━━━━━━━━━━━━━━━━━━━━━━━━━━━━━━━━━━\u001b[0m \u001b[32m24.6/24.6 MB\u001b[0m \u001b[31m70.9 MB/s\u001b[0m eta \u001b[36m0:00:00\u001b[0m\n",
            "\u001b[?25hDownloading nvidia_cuda_runtime_cu12-12.4.127-py3-none-manylinux2014_x86_64.whl (883 kB)\n",
            "\u001b[2K   \u001b[90m━━━━━━━━━━━━━━━━━━━━━━━━━━━━━━━━━━━━━━━━\u001b[0m \u001b[32m883.7/883.7 kB\u001b[0m \u001b[31m43.0 MB/s\u001b[0m eta \u001b[36m0:00:00\u001b[0m\n",
            "\u001b[?25hDownloading nvidia_cudnn_cu12-9.1.0.70-py3-none-manylinux2014_x86_64.whl (664.8 MB)\n",
            "\u001b[2K   \u001b[90m━━━━━━━━━━━━━━━━━━━━━━━━━━━━━━━━━━━━━━━━\u001b[0m \u001b[32m664.8/664.8 MB\u001b[0m \u001b[31m2.8 MB/s\u001b[0m eta \u001b[36m0:00:00\u001b[0m\n",
            "\u001b[?25hDownloading nvidia_cufft_cu12-11.2.1.3-py3-none-manylinux2014_x86_64.whl (211.5 MB)\n",
            "\u001b[2K   \u001b[90m━━━━━━━━━━━━━━━━━━━━━━━━━━━━━━━━━━━━━━━━\u001b[0m \u001b[32m211.5/211.5 MB\u001b[0m \u001b[31m7.1 MB/s\u001b[0m eta \u001b[36m0:00:00\u001b[0m\n",
            "\u001b[?25hDownloading nvidia_curand_cu12-10.3.5.147-py3-none-manylinux2014_x86_64.whl (56.3 MB)\n",
            "\u001b[2K   \u001b[90m━━━━━━━━━━━━━━━━━━━━━━━━━━━━━━━━━━━━━━━━\u001b[0m \u001b[32m56.3/56.3 MB\u001b[0m \u001b[31m12.7 MB/s\u001b[0m eta \u001b[36m0:00:00\u001b[0m\n",
            "\u001b[?25hDownloading nvidia_cusolver_cu12-11.6.1.9-py3-none-manylinux2014_x86_64.whl (127.9 MB)\n",
            "\u001b[2K   \u001b[90m━━━━━━━━━━━━━━━━━━━━━━━━━━━━━━━━━━━━━━━━\u001b[0m \u001b[32m127.9/127.9 MB\u001b[0m \u001b[31m7.4 MB/s\u001b[0m eta \u001b[36m0:00:00\u001b[0m\n",
            "\u001b[?25hDownloading nvidia_cusparse_cu12-12.3.1.170-py3-none-manylinux2014_x86_64.whl (207.5 MB)\n",
            "\u001b[2K   \u001b[90m━━━━━━━━━━━━━━━━━━━━━━━━━━━━━━━━━━━━━━━━\u001b[0m \u001b[32m207.5/207.5 MB\u001b[0m \u001b[31m6.2 MB/s\u001b[0m eta \u001b[36m0:00:00\u001b[0m\n",
            "\u001b[?25hDownloading nvidia_nvjitlink_cu12-12.4.127-py3-none-manylinux2014_x86_64.whl (21.1 MB)\n",
            "\u001b[2K   \u001b[90m━━━━━━━━━━━━━━━━━━━━━━━━━━━━━━━━━━━━━━━━\u001b[0m \u001b[32m21.1/21.1 MB\u001b[0m \u001b[31m83.9 MB/s\u001b[0m eta \u001b[36m0:00:00\u001b[0m\n",
            "\u001b[?25hDownloading datasets-3.6.0-py3-none-any.whl (491 kB)\n",
            "\u001b[2K   \u001b[90m━━━━━━━━━━━━━━━━━━━━━━━━━━━━━━━━━━━━━━━━\u001b[0m \u001b[32m491.5/491.5 kB\u001b[0m \u001b[31m26.7 MB/s\u001b[0m eta \u001b[36m0:00:00\u001b[0m\n",
            "\u001b[?25hDownloading langchain_community-0.3.23-py3-none-any.whl (2.5 MB)\n",
            "\u001b[2K   \u001b[90m━━━━━━━━━━━━━━━━━━━━━━━━━━━━━━━━━━━━━━━━\u001b[0m \u001b[32m2.5/2.5 MB\u001b[0m \u001b[31m70.6 MB/s\u001b[0m eta \u001b[36m0:00:00\u001b[0m\n",
            "\u001b[?25hDownloading torchrl-0.8.0-cp311-cp311-manylinux_2_28_x86_64.whl (1.2 MB)\n",
            "\u001b[2K   \u001b[90m━━━━━━━━━━━━━━━━━━━━━━━━━━━━━━━━━━━━━━━━\u001b[0m \u001b[32m1.2/1.2 MB\u001b[0m \u001b[31m51.3 MB/s\u001b[0m eta \u001b[36m0:00:00\u001b[0m\n",
            "\u001b[?25hDownloading llama_index-0.12.34-py3-none-any.whl (7.0 kB)\n",
            "Downloading bertviz-1.4.0-py3-none-any.whl (157 kB)\n",
            "\u001b[2K   \u001b[90m━━━━━━━━━━━━━━━━━━━━━━━━━━━━━━━━━━━━━━━━\u001b[0m \u001b[32m157.6/157.6 kB\u001b[0m \u001b[31m11.4 MB/s\u001b[0m eta \u001b[36m0:00:00\u001b[0m\n",
            "\u001b[?25hDownloading dataclasses_json-0.6.7-py3-none-any.whl (28 kB)\n",
            "Downloading dill-0.3.8-py3-none-any.whl (116 kB)\n",
            "\u001b[2K   \u001b[90m━━━━━━━━━━━━━━━━━━━━━━━━━━━━━━━━━━━━━━━━\u001b[0m \u001b[32m116.3/116.3 kB\u001b[0m \u001b[31m8.2 MB/s\u001b[0m eta \u001b[36m0:00:00\u001b[0m\n",
            "\u001b[?25hDownloading fsspec-2025.3.0-py3-none-any.whl (193 kB)\n",
            "\u001b[2K   \u001b[90m━━━━━━━━━━━━━━━━━━━━━━━━━━━━━━━━━━━━━━━━\u001b[0m \u001b[32m193.6/193.6 kB\u001b[0m \u001b[31m13.2 MB/s\u001b[0m eta \u001b[36m0:00:00\u001b[0m\n",
            "\u001b[?25hDownloading httpx_sse-0.4.0-py3-none-any.whl (7.8 kB)\n",
            "Downloading llama_index_agent_openai-0.4.7-py3-none-any.whl (14 kB)\n",
            "Downloading llama_index_cli-0.4.1-py3-none-any.whl (28 kB)\n",
            "Downloading llama_index_core-0.12.34.post1-py3-none-any.whl (7.7 MB)\n",
            "\u001b[2K   \u001b[90m━━━━━━━━━━━━━━━━━━━━━━━━━━━━━━━━━━━━━━━━\u001b[0m \u001b[32m7.7/7.7 MB\u001b[0m \u001b[31m104.1 MB/s\u001b[0m eta \u001b[36m0:00:00\u001b[0m\n",
            "\u001b[?25hDownloading llama_index_embeddings_openai-0.3.1-py3-none-any.whl (6.2 kB)\n",
            "Downloading llama_index_indices_managed_llama_cloud-0.6.11-py3-none-any.whl (14 kB)\n",
            "Downloading llama_index_llms_openai-0.3.38-py3-none-any.whl (23 kB)\n",
            "Downloading llama_index_multi_modal_llms_openai-0.4.3-py3-none-any.whl (5.9 kB)\n",
            "Downloading llama_index_program_openai-0.3.1-py3-none-any.whl (5.3 kB)\n",
            "Downloading llama_index_question_gen_openai-0.3.0-py3-none-any.whl (2.9 kB)\n",
            "Downloading llama_index_readers_file-0.4.7-py3-none-any.whl (40 kB)\n",
            "\u001b[2K   \u001b[90m━━━━━━━━━━━━━━━━━━━━━━━━━━━━━━━━━━━━━━━━\u001b[0m \u001b[32m40.8/40.8 kB\u001b[0m \u001b[31m2.6 MB/s\u001b[0m eta \u001b[36m0:00:00\u001b[0m\n",
            "\u001b[?25hDownloading llama_index_readers_llama_parse-0.4.0-py3-none-any.whl (2.5 kB)\n",
            "Downloading multiprocess-0.70.16-py311-none-any.whl (143 kB)\n",
            "\u001b[2K   \u001b[90m━━━━━━━━━━━━━━━━━━━━━━━━━━━━━━━━━━━━━━━━\u001b[0m \u001b[32m143.5/143.5 kB\u001b[0m \u001b[31m8.9 MB/s\u001b[0m eta \u001b[36m0:00:00\u001b[0m\n",
            "\u001b[?25hDownloading pydantic_settings-2.9.1-py3-none-any.whl (44 kB)\n",
            "\u001b[2K   \u001b[90m━━━━━━━━━━━━━━━━━━━━━━━━━━━━━━━━━━━━━━━━\u001b[0m \u001b[32m44.4/44.4 kB\u001b[0m \u001b[31m3.2 MB/s\u001b[0m eta \u001b[36m0:00:00\u001b[0m\n",
            "\u001b[?25hDownloading tensordict-0.8.2-cp311-cp311-manylinux_2_28_x86_64.whl (414 kB)\n",
            "\u001b[2K   \u001b[90m━━━━━━━━━━━━━━━━━━━━━━━━━━━━━━━━━━━━━━━━\u001b[0m \u001b[32m414.3/414.3 kB\u001b[0m \u001b[31m25.7 MB/s\u001b[0m eta \u001b[36m0:00:00\u001b[0m\n",
            "\u001b[?25hDownloading boto3-1.38.11-py3-none-any.whl (139 kB)\n",
            "\u001b[2K   \u001b[90m━━━━━━━━━━━━━━━━━━━━━━━━━━━━━━━━━━━━━━━━\u001b[0m \u001b[32m139.9/139.9 kB\u001b[0m \u001b[31m10.8 MB/s\u001b[0m eta \u001b[36m0:00:00\u001b[0m\n",
            "\u001b[?25hDownloading xxhash-3.5.0-cp311-cp311-manylinux_2_17_x86_64.manylinux2014_x86_64.whl (194 kB)\n",
            "\u001b[2K   \u001b[90m━━━━━━━━━━━━━━━━━━━━━━━━━━━━━━━━━━━━━━━━\u001b[0m \u001b[32m194.8/194.8 kB\u001b[0m \u001b[31m14.2 MB/s\u001b[0m eta \u001b[36m0:00:00\u001b[0m\n",
            "\u001b[?25hDownloading banks-2.1.2-py3-none-any.whl (28 kB)\n",
            "Downloading botocore-1.38.11-py3-none-any.whl (13.5 MB)\n",
            "\u001b[2K   \u001b[90m━━━━━━━━━━━━━━━━━━━━━━━━━━━━━━━━━━━━━━━━\u001b[0m \u001b[32m13.5/13.5 MB\u001b[0m \u001b[31m100.3 MB/s\u001b[0m eta \u001b[36m0:00:00\u001b[0m\n",
            "\u001b[?25hDownloading dirtyjson-1.0.8-py3-none-any.whl (25 kB)\n",
            "Downloading filetype-1.2.0-py2.py3-none-any.whl (19 kB)\n",
            "Downloading jmespath-1.0.1-py3-none-any.whl (20 kB)\n",
            "Downloading llama_parse-0.6.21-py3-none-any.whl (4.9 kB)\n",
            "Downloading marshmallow-3.26.1-py3-none-any.whl (50 kB)\n",
            "\u001b[2K   \u001b[90m━━━━━━━━━━━━━━━━━━━━━━━━━━━━━━━━━━━━━━━━\u001b[0m \u001b[32m50.9/50.9 kB\u001b[0m \u001b[31m3.9 MB/s\u001b[0m eta \u001b[36m0:00:00\u001b[0m\n",
            "\u001b[?25hDownloading pypdf-5.4.0-py3-none-any.whl (302 kB)\n",
            "\u001b[2K   \u001b[90m━━━━━━━━━━━━━━━━━━━━━━━━━━━━━━━━━━━━━━━━\u001b[0m \u001b[32m302.3/302.3 kB\u001b[0m \u001b[31m19.4 MB/s\u001b[0m eta \u001b[36m0:00:00\u001b[0m\n",
            "\u001b[?25hDownloading s3transfer-0.12.0-py3-none-any.whl (84 kB)\n",
            "\u001b[2K   \u001b[90m━━━━━━━━━━━━━━━━━━━━━━━━━━━━━━━━━━━━━━━━\u001b[0m \u001b[32m84.8/84.8 kB\u001b[0m \u001b[31m6.1 MB/s\u001b[0m eta \u001b[36m0:00:00\u001b[0m\n",
            "\u001b[?25hDownloading striprtf-0.0.26-py3-none-any.whl (6.9 kB)\n",
            "Downloading tiktoken-0.9.0-cp311-cp311-manylinux_2_17_x86_64.manylinux2014_x86_64.whl (1.2 MB)\n",
            "\u001b[2K   \u001b[90m━━━━━━━━━━━━━━━━━━━━━━━━━━━━━━━━━━━━━━━━\u001b[0m \u001b[32m1.2/1.2 MB\u001b[0m \u001b[31m56.0 MB/s\u001b[0m eta \u001b[36m0:00:00\u001b[0m\n",
            "\u001b[?25hDownloading typing_inspect-0.9.0-py3-none-any.whl (8.8 kB)\n",
            "Downloading llama_cloud_services-0.6.21-py3-none-any.whl (37 kB)\n",
            "Downloading llama_cloud-0.1.19-py3-none-any.whl (263 kB)\n",
            "\u001b[2K   \u001b[90m━━━━━━━━━━━━━━━━━━━━━━━━━━━━━━━━━━━━━━━━\u001b[0m \u001b[32m263.6/263.6 kB\u001b[0m \u001b[31m16.8 MB/s\u001b[0m eta \u001b[36m0:00:00\u001b[0m\n",
            "\u001b[?25hDownloading mypy_extensions-1.1.0-py3-none-any.whl (5.0 kB)\n",
            "Downloading griffe-1.7.3-py3-none-any.whl (129 kB)\n",
            "\u001b[2K   \u001b[90m━━━━━━━━━━━━━━━━━━━━━━━━━━━━━━━━━━━━━━━━\u001b[0m \u001b[32m129.3/129.3 kB\u001b[0m \u001b[31m8.8 MB/s\u001b[0m eta \u001b[36m0:00:00\u001b[0m\n",
            "\u001b[?25hDownloading colorama-0.4.6-py2.py3-none-any.whl (25 kB)\n",
            "Building wheels for collected packages: wikipedia\n",
            "  Building wheel for wikipedia (setup.py) ... \u001b[?25l\u001b[?25hdone\n",
            "  Created wheel for wikipedia: filename=wikipedia-1.4.0-py3-none-any.whl size=11678 sha256=fd7dc26e0ef81b5a6d179b94d7bc7b7eebb19c0b3e87c8ecac8ea7e2b8d918b2\n",
            "  Stored in directory: /root/.cache/pip/wheels/8f/ab/cb/45ccc40522d3a1c41e1d2ad53b8f33a62f394011ec38cd71c6\n",
            "Successfully built wikipedia\n",
            "Installing collected packages: striprtf, filetype, dirtyjson, xxhash, python-dotenv, pypdf, nvidia-nvjitlink-cu12, nvidia-curand-cu12, nvidia-cufft-cu12, nvidia-cuda-runtime-cu12, nvidia-cuda-nvrtc-cu12, nvidia-cuda-cupti-cu12, nvidia-cublas-cu12, mypy-extensions, marshmallow, jmespath, httpx-sse, fsspec, dill, colorama, wikipedia, typing-inspect, tiktoken, nvidia-cusparse-cu12, nvidia-cudnn-cu12, multiprocess, griffe, botocore, s3transfer, pydantic-settings, nvidia-cusolver-cu12, llama-cloud, dataclasses-json, banks, llama-index-core, datasets, boto3, tensordict, llama-index-readers-file, llama-index-llms-openai, llama-index-indices-managed-llama-cloud, llama-index-embeddings-openai, llama-cloud-services, langchain_nvidia_ai_endpoints, bertviz, torchrl, llama-parse, llama-index-multi-modal-llms-openai, llama-index-cli, llama-index-agent-openai, llama-index-readers-llama-parse, llama-index-program-openai, langchain-community, llama-index-question-gen-openai, llama-index\n",
            "  Attempting uninstall: nvidia-nvjitlink-cu12\n",
            "    Found existing installation: nvidia-nvjitlink-cu12 12.5.82\n",
            "    Uninstalling nvidia-nvjitlink-cu12-12.5.82:\n",
            "      Successfully uninstalled nvidia-nvjitlink-cu12-12.5.82\n",
            "  Attempting uninstall: nvidia-curand-cu12\n",
            "    Found existing installation: nvidia-curand-cu12 10.3.6.82\n",
            "    Uninstalling nvidia-curand-cu12-10.3.6.82:\n",
            "      Successfully uninstalled nvidia-curand-cu12-10.3.6.82\n",
            "  Attempting uninstall: nvidia-cufft-cu12\n",
            "    Found existing installation: nvidia-cufft-cu12 11.2.3.61\n",
            "    Uninstalling nvidia-cufft-cu12-11.2.3.61:\n",
            "      Successfully uninstalled nvidia-cufft-cu12-11.2.3.61\n",
            "  Attempting uninstall: nvidia-cuda-runtime-cu12\n",
            "    Found existing installation: nvidia-cuda-runtime-cu12 12.5.82\n",
            "    Uninstalling nvidia-cuda-runtime-cu12-12.5.82:\n",
            "      Successfully uninstalled nvidia-cuda-runtime-cu12-12.5.82\n",
            "  Attempting uninstall: nvidia-cuda-nvrtc-cu12\n",
            "    Found existing installation: nvidia-cuda-nvrtc-cu12 12.5.82\n",
            "    Uninstalling nvidia-cuda-nvrtc-cu12-12.5.82:\n",
            "      Successfully uninstalled nvidia-cuda-nvrtc-cu12-12.5.82\n",
            "  Attempting uninstall: nvidia-cuda-cupti-cu12\n",
            "    Found existing installation: nvidia-cuda-cupti-cu12 12.5.82\n",
            "    Uninstalling nvidia-cuda-cupti-cu12-12.5.82:\n",
            "      Successfully uninstalled nvidia-cuda-cupti-cu12-12.5.82\n",
            "  Attempting uninstall: nvidia-cublas-cu12\n",
            "    Found existing installation: nvidia-cublas-cu12 12.5.3.2\n",
            "    Uninstalling nvidia-cublas-cu12-12.5.3.2:\n",
            "      Successfully uninstalled nvidia-cublas-cu12-12.5.3.2\n",
            "  Attempting uninstall: fsspec\n",
            "    Found existing installation: fsspec 2025.3.2\n",
            "    Uninstalling fsspec-2025.3.2:\n",
            "      Successfully uninstalled fsspec-2025.3.2\n",
            "  Attempting uninstall: nvidia-cusparse-cu12\n",
            "    Found existing installation: nvidia-cusparse-cu12 12.5.1.3\n",
            "    Uninstalling nvidia-cusparse-cu12-12.5.1.3:\n",
            "      Successfully uninstalled nvidia-cusparse-cu12-12.5.1.3\n",
            "  Attempting uninstall: nvidia-cudnn-cu12\n",
            "    Found existing installation: nvidia-cudnn-cu12 9.3.0.75\n",
            "    Uninstalling nvidia-cudnn-cu12-9.3.0.75:\n",
            "      Successfully uninstalled nvidia-cudnn-cu12-9.3.0.75\n",
            "  Attempting uninstall: nvidia-cusolver-cu12\n",
            "    Found existing installation: nvidia-cusolver-cu12 11.6.3.83\n",
            "    Uninstalling nvidia-cusolver-cu12-11.6.3.83:\n",
            "      Successfully uninstalled nvidia-cusolver-cu12-11.6.3.83\n",
            "\u001b[31mERROR: pip's dependency resolver does not currently take into account all the packages that are installed. This behaviour is the source of the following dependency conflicts.\n",
            "gcsfs 2025.3.2 requires fsspec==2025.3.2, but you have fsspec 2025.3.0 which is incompatible.\u001b[0m\u001b[31m\n",
            "\u001b[0mSuccessfully installed banks-2.1.2 bertviz-1.4.0 boto3-1.38.11 botocore-1.38.11 colorama-0.4.6 dataclasses-json-0.6.7 datasets-3.6.0 dill-0.3.8 dirtyjson-1.0.8 filetype-1.2.0 fsspec-2025.3.0 griffe-1.7.3 httpx-sse-0.4.0 jmespath-1.0.1 langchain-community-0.3.23 langchain_nvidia_ai_endpoints-0.3.9 llama-cloud-0.1.19 llama-cloud-services-0.6.21 llama-index-0.12.34 llama-index-agent-openai-0.4.7 llama-index-cli-0.4.1 llama-index-core-0.12.34.post1 llama-index-embeddings-openai-0.3.1 llama-index-indices-managed-llama-cloud-0.6.11 llama-index-llms-openai-0.3.38 llama-index-multi-modal-llms-openai-0.4.3 llama-index-program-openai-0.3.1 llama-index-question-gen-openai-0.3.0 llama-index-readers-file-0.4.7 llama-index-readers-llama-parse-0.4.0 llama-parse-0.6.21 marshmallow-3.26.1 multiprocess-0.70.16 mypy-extensions-1.1.0 nvidia-cublas-cu12-12.4.5.8 nvidia-cuda-cupti-cu12-12.4.127 nvidia-cuda-nvrtc-cu12-12.4.127 nvidia-cuda-runtime-cu12-12.4.127 nvidia-cudnn-cu12-9.1.0.70 nvidia-cufft-cu12-11.2.1.3 nvidia-curand-cu12-10.3.5.147 nvidia-cusolver-cu12-11.6.1.9 nvidia-cusparse-cu12-12.3.1.170 nvidia-nvjitlink-cu12-12.4.127 pydantic-settings-2.9.1 pypdf-5.4.0 python-dotenv-1.1.0 s3transfer-0.12.0 striprtf-0.0.26 tensordict-0.8.2 tiktoken-0.9.0 torchrl-0.8.0 typing-inspect-0.9.0 wikipedia-1.4.0 xxhash-3.5.0\n"
          ]
        }
      ],
      "source": [
        " !pip install torch transformers datasets langchain-community langchain_nvidia_ai_endpoints==0.3.9 python-dotenv==1.1.0 torchrl llama-index bertviz wikipedia"
      ]
    },
    {
      "cell_type": "markdown",
      "metadata": {
        "id": "XyexPfesK5Hx"
      },
      "source": [
        "Alternatively, if you want, you can also download the requirements file [here](https://github.com/CogSciPrag/Understanding-LLMs-course/tree/main/understanding-llms/tutorials/files/requirements.txt) and install from it by running `!pip install -r requirements.txt`."
      ]
    },
    {
      "cell_type": "markdown",
      "metadata": {
        "id": "Xc4QGMx5K5Hx"
      },
      "source": [
        "### Local installation\n",
        "\n",
        "Using your computer for local execution of all practical exercises might be a more advanced option. If you do so, we strongly encourage you to create an environment (e.g., with Conda) before installing any packages. Furthermore, ideally, check if you have a GPU suitable for deep learning because using a GPU will significantly speed up the work with language models. You can do so by checking your computer specs and finding out whether your GPU works with CUDA, MPS or ROCm. If you don't have a suitable GPU, you can use Colab for tasks that require GPU access. Finally, please note that we will download some pretrained models and some datasets which will occupy some of your local storage.\n",
        "\n",
        "If you choose to use your own machine, please do the following steps:\n",
        "* install Python >= 3.10\n",
        "* create an environment (optional but recommended)\n",
        "* download the requirements file [here](https://github.com/CogSciPrag/Understanding-LLMs-course/tree/main/understanding-llms/tutorials/files/requirements.txt)\n",
        "* if you have a deep learning supporting GPU:\n",
        "  * please check [here](https://pytorch.org/get-started/locally/) which PyTorch version you need in order to use the GPU\n",
        "  * please modify the first line of the requirements file to reflect the PyTorch version suitable for your machine (if needed)\n",
        "  * please install the requirements from the requirements file (e.g., run: `pip install -r requirements.txt` once pip is available in your environment; adjust path to file if needed)\n",
        "* if you do NOT have a deep learning supporting GPU:\n",
        "  * please install the requirements from the requirements file (e.g., run: `pip install -r requirements.txt` once pip is available in your environment; adjust path to file if needed)"
      ]
    },
    {
      "cell_type": "markdown",
      "metadata": {
        "id": "geMslxzmK5Hy"
      },
      "source": [
        "### bwJupyter\n",
        "\n",
        "This is a compute service provided by the state of Baden-Württemberg, specifically for educational purposes. It hosts a Jupyter Notebook server and also provides access to GPUs, as documented [here](https://www.bwjupyter.de/english/65.php). However, the available resources are very limited: only 2GB drive space and 8GB RAM per user. Although the available GPUs are large, there seems to be a cap of 6GB vRAM (GPU memory) per user. Therefore, we might only make use of this service for selected purposes.\n",
        "\n",
        "Nevertheless, please try accessing the server with your **uni email** [here](https://hub.bwjupyter.de/hub/login?next=%2Fhub%2F). We will need it later in the course."
      ]
    },
    {
      "cell_type": "markdown",
      "metadata": {
        "id": "pbA-omgeK5Hy"
      },
      "source": [
        "### NVIDIA API\n",
        "\n",
        "NVIDIA hosts an API that provides to many state-of-the-art LLMs. This means, NVIDIA servers host these LLMs, and we can retrieve predictions from these models (i.e., *run inference* on them) by submitting an input to the API, without having to download the weights and run the entire LLM ourselves. The API can be accessed by signing up for an account. However, there are also limitations when using an API; for instance, we cannot access the internal model representations or conditional probabilities, or train the models. Therefore, we will make use of the API in later sessions which rather rely on prompting.\n",
        "Detailed instructions on how to sign up and use the API can be found [here](https://maxschmaltz.github.io//Course-LLM-based-Assistants/infos/llm_inference_guide/README.html)."
      ]
    },
    {
      "cell_type": "markdown",
      "metadata": {
        "id": "A3ww0hpqK5Hz"
      },
      "source": [
        "## Verifying requirement installation\n",
        "\n",
        "Please run the following code cells to make sure that the key requirements were installed successfully. If errors occur and you cannot solve them ahead of the tutorial, please don't be shy and let us know in the first tutorial!"
      ]
    },
    {
      "cell_type": "code",
      "execution_count": 2,
      "metadata": {
        "id": "UmRAR8cLK5Hz"
      },
      "outputs": [],
      "source": [
        "# import packages\n",
        "\n",
        "import torch\n",
        "from transformers import AutoTokenizer\n",
        "from langchain.tools import WikipediaQueryRun\n",
        "from langchain_community.utilities import WikipediaAPIWrapper"
      ]
    },
    {
      "cell_type": "code",
      "execution_count": 3,
      "metadata": {
        "id": "t1n2NHcvK5Hz",
        "outputId": "08911490-9c36-4865-a318-92486d915bac",
        "colab": {
          "base_uri": "https://localhost:8080/"
        }
      },
      "outputs": [
        {
          "output_type": "stream",
          "name": "stdout",
          "text": [
            "Device: cpu\n"
          ]
        }
      ],
      "source": [
        "# check available computation device\n",
        "# if you have a local GPU or if you are using a GPU on Colab, the following code should return \"CUDA\"\n",
        "# if you are on Mac and have an > M1 chip, the following code should return \"MPS\"\n",
        "# otherwise, it should return \"CPU\"\n",
        "\n",
        "if torch.cuda.is_available():\n",
        "    device = torch.device(\"cuda\")\n",
        "    print(f\"Device: {device}\")\n",
        "elif torch.backends.mps.is_available():\n",
        "    device = torch.device(\"mps\")\n",
        "    print(f\"Device: {device}\")\n",
        "else:\n",
        "    device = torch.device(\"cpu\")\n",
        "    print(f\"Device: {device}\")"
      ]
    },
    {
      "cell_type": "code",
      "execution_count": 4,
      "metadata": {
        "id": "_MX_jHuRK5Hz",
        "outputId": "a60f53bc-7029-43e1-83bb-6833445b21e2",
        "colab": {
          "base_uri": "https://localhost:8080/"
        }
      },
      "outputs": [
        {
          "output_type": "stream",
          "name": "stdout",
          "text": [
            "tensor([[0.0055, 0.9467, 0.0623],\n",
            "        [0.0511, 0.9671, 0.8434],\n",
            "        [0.0631, 0.9221, 0.9521],\n",
            "        [0.6457, 0.1124, 0.6728],\n",
            "        [0.6472, 0.5355, 0.6931]])\n",
            "Shape of tensor x: torch.Size([5, 3])\n",
            "Device of tensor x: cpu\n",
            "tensor([[1., 1., 1.],\n",
            "        [1., 1., 1.],\n",
            "        [1., 1., 1.],\n",
            "        [1., 1., 1.],\n",
            "        [1., 1., 1.]])\n",
            "tensor([[0.0055, 0.9467, 0.0623],\n",
            "        [0.0511, 0.9671, 0.8434],\n",
            "        [0.0631, 0.9221, 0.9521],\n",
            "        [0.6457, 0.1124, 0.6728],\n",
            "        [0.6472, 0.5355, 0.6931]])\n",
            "tensor([[1.0144, 1.0144, 1.0144, 1.0144, 1.0144],\n",
            "        [1.8616, 1.8616, 1.8616, 1.8616, 1.8616],\n",
            "        [1.9373, 1.9373, 1.9373, 1.9373, 1.9373],\n",
            "        [1.4309, 1.4309, 1.4309, 1.4309, 1.4309],\n",
            "        [1.8758, 1.8758, 1.8758, 1.8758, 1.8758]])\n",
            "tensor([[1.4127, 1.4127, 1.4127],\n",
            "        [3.4837, 3.4837, 3.4837],\n",
            "        [3.2237, 3.2237, 3.2237]])\n"
          ]
        }
      ],
      "source": [
        "# test PyTorch\n",
        "\n",
        "# randomly initialize a tensor of shape (5, 3)\n",
        "x = torch.rand(5, 3).to(device)\n",
        "print(x)\n",
        "print(\"Shape of tensor x:\", x.shape)\n",
        "print(\"Device of tensor x:\", x.device)\n",
        "\n",
        "# initialize a tensor of shape (5, 3) with ones\n",
        "y = torch.ones(5, 3).to(device)\n",
        "print(y)\n",
        "\n",
        "# multiply x and y in a pointwise manner\n",
        "z = x * y\n",
        "print(z)\n",
        "\n",
        "# note that to do a matrix multiplication between x and y, we need to transpose\n",
        "# either matrix x or y because the inner dimensions must match\n",
        "z1 = x @ y.T\n",
        "print(z1)\n",
        "\n",
        "# or:\n",
        "z2 = x.T @ y\n",
        "print(z2)\n",
        "# and note that the result of z1 and z2 are not the same and have different shapes"
      ]
    },
    {
      "cell_type": "code",
      "execution_count": 5,
      "metadata": {
        "id": "6JXZ4sx9K5H0",
        "outputId": "aec5cb98-dfab-43d2-8764-8decc5c4a2b5",
        "colab": {
          "base_uri": "https://localhost:8080/",
          "height": 122
        }
      },
      "outputs": [
        {
          "output_type": "execute_result",
          "data": {
            "text/plain": [
              "'Page: Attention Is All You Need\\nSummary: \"Attention Is All You Need\" is a 2017 landmark research paper in machine learning authored by eight scientists working at Google. The paper introduced a new deep learning architecture known as the transformer, based on the attention mechanism proposed in 2014 by Bahdanau et al. It is considered a foundational paper in modern artificial intelligence, and a main contributor to the AI boom, as the transformer approach has become the main architecture of a wide variety of AI, such as large language models. At the time, the focus of the research was on improving Seq2seq techniques for machine translation, but the authors go further in the paper, foreseeing the technique\\'s potential for other tasks like question answering and what is now known as multimodal Generative AI.\\nThe paper\\'s title is a reference to the song \"All You Need Is Love\" by the Beatles. The name \"Transformer\" was picked because Jakob Uszkoreit, one of the paper\\'s authors, liked the sound of that word.\\nAn early design document was titled \"Transformers: Iterative Self-Attention and Processing for Various Tasks\", and included an illustration of six characters from the Transformers franchise. The team was named Team Transformer.\\nSome early examples that the team tried their Transformer architecture on included English-to-German translation, generating Wikipedia articles on \"The Transformer\", and parsing. These convinced the team that the Transformer is a general purpose language model, and not just good for translation.\\nAs of 2025, the paper has been cited more than 173,000 times, placing it among top ten most-cited papers of the 21st century.\\n\\nPage: All You Need Is Kill\\nSummary: All You Need Is Kill is a Japanese science fiction light novel by Hiroshi Sakurazaka with illustrations by Yoshitoshi Abe. The book was published in Japanese by Shueisha under their Super Dash Bunko imprint in December 2004, and was later released in English by Viz Media under their Haikasoru imprint. All You Need Is Kill follows a soldier named Keiji Kiriya, who, after dying in a battle with extraterrestrials, is caught in a time loop that makes him live the same day repeatedly, allowing Kiriya to improve his fighting skills.\\nA manga adaptation, written by Ryosuke Takeuchi and illustrated by Takeshi Obata, was serialized in Shueisha\\'s Weekly Young Jump magazine between January and May 2014 and was also published by Viz Media in its Weekly Shonen Jump magazine. In November 2014, the Viz translation was released in a collected edition that included the entire series. A separate graphic novel adaptation, written by Nick Mamatas and illustrated by Lee Ferguson, was released in North America in May 2014. A live-action film adaptation from director Doug Liman starring Tom Cruise and Emily Blunt, titled Edge of Tomorrow, was released in May 2014. The English-language film tie-in edition of the novel also uses this title. An anime film adaptation produced by Studio 4°C has been announced.\\nThe novel was Sakurazaka\\'s breakthrough science fiction novel, earning wide praise from fellow novelists including Yasutaka Tsutsui and Chōhei Kanbayashi and was entered in contention for the Best Japanese Long Work in the 36th Seiun Awards in 2005.\\n\\nPage: Transformer (deep learning architecture)\\nSummary: The transformer is a deep learning architecture that was developed by researchers at Google and is based on the multi-head attention mechanism, which was proposed in the 2017 paper \"Attention Is All You Need\". Text is converted to numerical representations called tokens, and each token is converted into a vector via lookup from a word embedding table. At each layer, each token is then contextualized within the scope of the context window with other (unmasked) tokens via a parallel multi-head attention mechanism, allowing the signal for key tokens to be amplified and less important tokens to be diminished.\\nTransformers have the advantage of having no recurrent units, therefor'"
            ],
            "application/vnd.google.colaboratory.intrinsic+json": {
              "type": "string"
            }
          },
          "metadata": {},
          "execution_count": 5
        }
      ],
      "source": [
        "# testing LangChain\n",
        "\n",
        "# run a Wikipedia query, searching for the article \"Attention is all you need\"\n",
        "# NB: requires an internet connection\n",
        "wikipedia = WikipediaQueryRun(api_wrapper=WikipediaAPIWrapper())\n",
        "wikipedia.run(\"Attention is all you need\")"
      ]
    },
    {
      "cell_type": "code",
      "execution_count": 6,
      "metadata": {
        "id": "O_FIoyyMK5H0",
        "outputId": "af61f7f2-7b41-4e17-fd12-9f1d015b3247",
        "colab": {
          "base_uri": "https://localhost:8080/",
          "height": 299,
          "referenced_widgets": [
            "7666888c43134bea8bfa0645548a76aa",
            "e2bc895977ff40ea8bf2fd281813f8b2",
            "4265c5e9a93c4f10a2c9c8a8729e5ba1",
            "31cb75425f1f406c866bf81e071a6655",
            "5e646bf95ba54d2cbde441bce87bb6ad",
            "32da1951624244b388c7d6615f1df66f",
            "30107a0b7f394f83a122bcb58c09247a",
            "51f6985af7014fa2b07d67459fca8a6f",
            "f66d2f12f5214959b6908ba96392669b",
            "e9ffd9492b2e47bf9ebdd53980e71a71",
            "9278d869d1b14fb2ab7e8128456cca9d",
            "40b658ca1dff49f0a5656440deb3194a",
            "7d78fa15157141cc8fe01a8f5cac6cd8",
            "57e5ebb2fb6448509a1c18fb01d470a0",
            "8709eb69d9224b96ad08608de685bdb1",
            "08196a6416ff401d96b3c60da7fc49ef",
            "c50f4e45b8434c27a2a9a9903beace9b",
            "84c1a96b71d742d8a6fc3a4985658f01",
            "f130482693c54e50941b9155558babba",
            "80f55a7351034fb09fec090feb0346d4",
            "8654c40db7c242aaa0af42611fe75e4e",
            "9d3c2efefd154996880a3f9af5f1669d",
            "8c75b8332ad94ac18f2de1a771e3d8af",
            "dfab0908cb9a46b0801dae50a69cfc61",
            "ac2856bd1aca448fad2915fa9ef3e551",
            "77c14840d13c46f8a1c5bf2ff7268669",
            "df47c85dea044322a76233feb810e307",
            "4af9976a979a4bda86317cc84ba99829",
            "ef1cad26dd484612b81e4cdfbae81295",
            "b198512be22b4dfbbc764369734bcaad",
            "b3edfd1b5c0549c7b7875b7024692094",
            "8a626dc696914b37a43cec441ca5c2c9",
            "e5d5335040474592a6d67f923ea598ff",
            "3dc3347c08374ab296db528aeaa8f408",
            "c903f41336a44c6d9023b7402348fe95",
            "026a8860febf45a4961fbf9ebd29501b",
            "bfe928d198b64ed586ad4dfb404a16be",
            "b7ebe158854748f596d79b4b8f00fc6a",
            "daae172bd1d1405a9b95bf7411bff8e9",
            "815014d33fcb42a5a8b0fc23702d0a9c",
            "776fdbac9e9a4bec8803c0def13ebb12",
            "8ae548da59f147b486ce5c8847de1606",
            "fa12da8cff4643eab586fe2226428001",
            "73e48459733f487394fbf71e5d0e4b09",
            "a67856e1dca543b399e6829497fb6d64",
            "a57fe4e006774164b09d0931d830c1d4",
            "a5dc83748a3341fbbb9f6a447c3287f6",
            "16f1b4cdf42a4ed9a9805cf88a668625",
            "ba7f5dc15df944449cf52f2506297d9a",
            "72fa977b961b4376b8ea2a135fbd3940",
            "34e50aaaa8f449608c08545ff78ddea1",
            "3179ccc270ce47d1842b5cc444ce3640",
            "fcd1af1b65894394ba91574b3a8673c4",
            "b9f8c5b9b47747a59aad6dd95dced42b",
            "6788e219db324ea9bea3d3c4a61cd663"
          ]
        }
      },
      "outputs": [
        {
          "output_type": "stream",
          "name": "stderr",
          "text": [
            "/usr/local/lib/python3.11/dist-packages/huggingface_hub/utils/_auth.py:94: UserWarning: \n",
            "The secret `HF_TOKEN` does not exist in your Colab secrets.\n",
            "To authenticate with the Hugging Face Hub, create a token in your settings tab (https://huggingface.co/settings/tokens), set it as secret in your Google Colab and restart your session.\n",
            "You will be able to reuse this secret in all of your notebooks.\n",
            "Please note that authentication is recommended but still optional to access public models or datasets.\n",
            "  warnings.warn(\n"
          ]
        },
        {
          "output_type": "display_data",
          "data": {
            "text/plain": [
              "tokenizer_config.json:   0%|          | 0.00/26.0 [00:00<?, ?B/s]"
            ],
            "application/vnd.jupyter.widget-view+json": {
              "version_major": 2,
              "version_minor": 0,
              "model_id": "7666888c43134bea8bfa0645548a76aa"
            }
          },
          "metadata": {}
        },
        {
          "output_type": "display_data",
          "data": {
            "text/plain": [
              "config.json:   0%|          | 0.00/665 [00:00<?, ?B/s]"
            ],
            "application/vnd.jupyter.widget-view+json": {
              "version_major": 2,
              "version_minor": 0,
              "model_id": "40b658ca1dff49f0a5656440deb3194a"
            }
          },
          "metadata": {}
        },
        {
          "output_type": "display_data",
          "data": {
            "text/plain": [
              "vocab.json:   0%|          | 0.00/1.04M [00:00<?, ?B/s]"
            ],
            "application/vnd.jupyter.widget-view+json": {
              "version_major": 2,
              "version_minor": 0,
              "model_id": "8c75b8332ad94ac18f2de1a771e3d8af"
            }
          },
          "metadata": {}
        },
        {
          "output_type": "display_data",
          "data": {
            "text/plain": [
              "merges.txt:   0%|          | 0.00/456k [00:00<?, ?B/s]"
            ],
            "application/vnd.jupyter.widget-view+json": {
              "version_major": 2,
              "version_minor": 0,
              "model_id": "3dc3347c08374ab296db528aeaa8f408"
            }
          },
          "metadata": {}
        },
        {
          "output_type": "display_data",
          "data": {
            "text/plain": [
              "tokenizer.json:   0%|          | 0.00/1.36M [00:00<?, ?B/s]"
            ],
            "application/vnd.jupyter.widget-view+json": {
              "version_major": 2,
              "version_minor": 0,
              "model_id": "a67856e1dca543b399e6829497fb6d64"
            }
          },
          "metadata": {}
        },
        {
          "output_type": "stream",
          "name": "stdout",
          "text": [
            "Input IDs: {'input_ids': tensor([[8086, 1463,  318,  477,  345,  761]]), 'attention_mask': tensor([[1, 1, 1, 1, 1, 1]])}\n"
          ]
        }
      ],
      "source": [
        "# testing the package transformers which provides pre-trained language models\n",
        "# and excellent infrastructure around them\n",
        "\n",
        "# download (if not available yet) and load GPT-2 tokenizer\n",
        "tokenizer_gpt2 = AutoTokenizer.from_pretrained(\"gpt2\")\n",
        "text = \"Attention is all you need\"\n",
        "# tokenize the text (i.e., convert the string into a tensor of token IDs)\n",
        "input_ids = tokenizer_gpt2(\n",
        "    text,\n",
        "    return_tensors=\"pt\",\n",
        ").to(device)\n",
        "\n",
        "print(\"Input IDs:\", input_ids)"
      ]
    },
    {
      "cell_type": "markdown",
      "metadata": {
        "id": "FnCPUAJDK5H0"
      },
      "source": [
        "## Best practices for writing code\n",
        "\n",
        "There is a lot of debate around best practices for writing, documenting and formatting Python code and their actual implementation in daily practice, and many people have different personal preferences. We are not committing to a particular side in this debate, but we do care about a few general aspects:\n",
        "* working with clean code\n",
        "* working with understandable code (i.e., commented, with understandable variable names etc)\n",
        "* producing well-documented projects (e.g., supplied with relevant READMEs etc). Think: your work should be structured such that you could look at it in a year and be able to immediately know what you did, how and why.\n",
        "\n",
        "There are a few de facto standard *formatting* practices that help to keep Python code crisp and clean. Please take a look at these and adhere to these as much as you can (as so will we):\n",
        "* [PEP8](https://pep8.org/): style guide for Python code defining e.g., variable naming conventions, how many spaces to use for indentation, how long single lines should be etc.\n",
        "  * Here is an overview [video](https://www.youtube.com/watch?v=D4_s3q038I0) of some of the PEP8 conventions\n",
        "  * There is handy software that reformats your code for you according to some of these conventions. Such software is often seamlessly integrated in IDEs. This includes for instance *Black* or *Ruff* Python formatters. They can be installed as extensions in, e.g., Visual Studio Code.\n",
        "* *docstrings* are comments (strings) that document a specific code object and always directly follow the definition of the object (e.g., directly after `def fct(...)`). They specify the functionality, inputs, outputs and their types. Again, there are slightly different formatting styles for docstrings; please try to be consistent about your formatting.\n",
        "  * One example style of docstrings is [*numpydoc*](https://numpydoc.readthedocs.io/en/latest/format.html#docstring-standard); you might see that the provided code might often use such docstrings."
      ]
    },
    {
      "cell_type": "code",
      "execution_count": 7,
      "metadata": {
        "id": "YlB74hhyK5H0"
      },
      "outputs": [],
      "source": [
        "# example: bad formatting\n",
        "def add(a,b):\n",
        "    return a+b\n",
        "\n",
        "# example: better formatting\n",
        "def add(a, b):\n",
        "    return a + b\n",
        "\n",
        "# example: bad docstring\n",
        "\n",
        "def add(a, b):\n",
        "    \"\"\"a+b\"\"\"\n",
        "    return a + b\n",
        "\n",
        "# example: better docstring\n",
        "def add(a, b):\n",
        "    \"\"\"\n",
        "    Add two numbers.\n",
        "\n",
        "    Args\n",
        "    ----\n",
        "    a: int\n",
        "        First number.\n",
        "    b: int\n",
        "        Second number.\n",
        "\n",
        "    Returns\n",
        "    -------\n",
        "    int: Sum of a and b.\n",
        "    \"\"\"\n",
        "    return a + b"
      ]
    },
    {
      "cell_type": "markdown",
      "metadata": {
        "id": "rowa7C3BK5H1"
      },
      "source": [
        "There are also some hints regarding structuring larger projects and e.g. GitHub repositories (just fyi):\n",
        "\n",
        "* [project structure](https://djnavarro.net/slides-project-structure/#1)\n",
        "* [writing good READMEs](https://www.freecodecamp.org/news/how-to-write-a-good-readme-file/)\n",
        "* [tidy collaboration and git](https://vimeo.com/412835411)\n",
        "\n",
        "These best practices will be useful to you beyond this class and possibly even beyond your studies when collaborating on other coding projects within teams or even by yourself. We do our best to stick to these guidelines ourselves and kindly urge you to do the same when submitting assignments and possibly projects."
      ]
    },
    {
      "cell_type": "markdown",
      "metadata": {
        "id": "zPBrhx3gK5H1"
      },
      "source": [
        "## Understanding training data\n",
        "\n",
        "One of the critical building blocks of any language model (be it an n-gram model or GPT-4) is the **training data**. The contents of the training data determine, for instance, which tokens (e.g., words) the model \"sees\" during training, how often each of them occurs, which language the model learns, but also which potential *biases* the model might inherit (more on this in lecture 9).\n",
        "\n",
        "The goals of this part of the sheet are:\n",
        "* introduce core terms and concepts that we might be using throughout the class, and that are often used in NLP papers\n",
        "* understand core data processing steps used before training LMs\n",
        "* try hands-on loading a dataset and performing basic preprocessing steps\n",
        "\n",
        "Tasks:\n",
        "* read the sections below, try to understand each concept and ask yourself whether you have already heard it, and if so, in which context\n",
        "* complete the exercises\n",
        "* complete the coding exercises where you can load and process a dataset yourself.\n",
        "\n",
        "### Core concepts\n",
        "\n",
        "* **(training) data / dataset** (in the context of LMs): a collection of text data which is used as input to the LM in order to optimize its parameters, so that, ideally, the model learns to perform well on its target task; that is, to predict fluent text. Anything from a single sentence to a book can be considered data; but since learning statistics of natural language is very difficult, usually very large collections of texts (i.e., very large datasets) are used to train LMs. Generalization to other machine learning models: the type of input data might be different (e.g., images and labels for image classification models) but the purpose is the same. Data and dataset are mostly used interchangeably.\n",
        "  * **corpus** [ling.]: \"A corpus is a collection of pieces of language text in electronic form, selected according to external criteria to represent, as far as possible, a language or language variety as a source of data for linguistic research.\" [source](https://user.phil.hhu.de/~bontcheva/SS10CTCL/CTCL-IntroNotes.pdf) For the purposes of NLP, the term corpus is often used interchangeably with the term dataset, especially when referring to collections of literary texts (e.g., the Books corpus) or when sourced from corpora created in linguistics.\n",
        "    * well-known linguistic corpora are, e.g.: the [Brown corpus](http://icame.uib.no/brown/bcm.html), the British National Corpus [BNC](http://www.natcorp.ox.ac.uk/).\n",
        "  * **test / validation data** (general ML concept): the full dataset is sually split into the *training data* (used to optimize the model), and the held-out *validation data* and *test data* (called dataset splits). Validation data is often used to optimize aspects of the model architecture (so-called hyperparameters like optimizer, drop out rate etc). This split is sometimes ommited if no hyperparameter tuning is done. Test data is then used to assess the model's performance on *unseen* data. That is, it is used to approximately answer the question: How well will my trained model perform on completely new inputs? In the context of LMs, all dataset splits are texts.\n",
        "* **cleaning & preprocessing**: this is the step when \"raw\" data (e.g., from the web) is processed so as to massage the data into a format that is optimal for the NLP task which we want to accomplish. This can include, for instance, removing markup tags, lower-casing data, splitting it into single sentences etc.\n",
        "* **annotation**: this step refers to enriching \"raw\" data with additional information like judgements about the quality of data, \"gold standard\" demonstrations of a task (e.g., gold standard answer to a question) etc, usually provided by humans. This is done generate high-quality training datasets which cannot be obtained otherwise.\n",
        "  * most prominently, human annotation is often used in the process of fine-tuning LLMs with RLHF (more on this in lecture 5).\n",
        "* **token**: minimal unit of text which is mapped onto a numerical representation to be readable for the LM. Different types of tokens have been used: single words, single characters, and recently mostly sub-word parts (and most most recently some experiments with tokens that are large multi-word chunks). Note that unique minimal units are assigned different tokens; whenever such a unit occurs in a particular context, the same numerical representation (i.e., token ID) is assigned to that unit. Therefore, the notion of a token in NLP is not completely equivalent to the notion in lingusitics (and there are no types in NLP as opposed to linguistics).  \n",
        "  * tokenization is the process of converting a string to a list or tensor of tokens.\n",
        "  * part of tokenization for training transformers is also creating *attention masks* which \"mask\" certain tokens for the model (i.e., hide it from the model during training). This is done to train models to predict next words based only on preceding context.\n",
        "  * tokenization will be discussed in more detail in the session of week 3.\n",
        "* **vocabulary**: the set of unique tokens used by a particular LM-tookenizer pair. For example, in case of the Llama-2 model, the vocabulary consists of ~32 000 tokens.\n",
        "* **embedding**: a vector representation of a single token (e.g., word2vec). These vector representations are learned in a way optimizing the next token prediction task and, intuitively, can be understood as approximating (some aspects of) the meaning of a word.\n",
        "* **batch**: a set of input samples (i.e., texts) that is passed through the LM during training simultaneously, in parallel, during one training step, before updating the internal model parameters. The **batch size** refers to the number of input samples in the set. The batch size is a common hyperparameter of the LM architectures and might have a significant effect on set-up requirements (a large batch size requires a lot of memory) and the model performance (because model parameters are updated based on the training signal from the entire batch).\n",
        "* **epoch**: an interation over the entire training dataset. Often a model is trained for several epochs, i.e., training iterates over the training set several times.\n",
        "\n",
        "We will likely extend this list and learn about more important aspects as we go on with the class, but this should already equip you with a good foundation for understanding the parts of the LM literature related to data.\n",
        "\n",
        "### Main training data processing steps\n",
        "\n",
        "Before beginning to train the LM, the following steps are commonly completed:\n",
        "\n",
        "1. acquiring the training data: this step involves downloading or collecting the data of your choice onto the machine which will be used for training. Nowadays many datasets for various tasks can be downloaded from [HuggingFace](https://huggingface.co/datasets) or are made available in GitHub repositories.\n",
        "2. exploring and understanding the dataset: it is important to understand what kinds of texts, from which sources, on which topics, with what sentence length, ... the dataset contains. This is crucial because the model will pick up on features of the dataset in a way that might be difficult to fully anticipate (which is good if the features are, e.g., gramamticality of sentences, but bad if it is toxic language).\n",
        "3. creating the desired combination: nowadays training datasets might consist of a mix of different smaller datasets. See the exercise below for more details.\n",
        "4. cleaning: this step involves filtering out or converting non-machine readable or undesired characters, often lower-casing, removal of punctuation or digits or so-called stop-words (very common words like \"a\", \"and\"). However, the last three steps are not very common any more for state-of-the-art LLM training.\n",
        "   * Specifically, the last cleaning steps have been introduced for tasks like, e.g., sentiment classification. Arguably, stopwords and punctuation etc probably don't contribute much task-relevant information, but might rather introduce encoding difficulties. On the other hand, for natural language generation, punctuation, all words as well as other symbols like emojis carry valuable information. Therefore, such preprocessing is not common for LM training.\n",
        "5. splitting the dataset into train, validation, test splits\n",
        "6. prepairing the training split: training texts are often shuffled and sometimes split into shorter texts. Specifically, splitting is required if the length of a text exceeds the maximal *context window size* of the transformer model (i.e., the maximal number of tokens a model can process). In this case, texts are often split into shorter slightly overlapping chunks.\n",
        "7. tokenizing: converting the single texts into lists of tokens, i.e., into lists of numerical IDs. More on tokenization in the session of week 3.\n",
        "8. batching: to speed up training, the model is often fed multiple texts at the same time (i.e., at each training step). To create these batches, often additional steps are needed to ensure that several tokenized texts (i.e., several lists with token IDs) can be represented as one input tensor. These steps are either restricting texts to a maximal common length (and cutting off the rest) or *padding* all the texts to the same length. More on this in the tokenization session.\n",
        "\n",
        "[This article](https://www.geeksforgeeks.org/natural-language-processing-nlp-pipeline/) provides a great and more detailed overview of the steps 1-4 and provides insights into traditional approaches (e.g., feature engineering) which are more common for task-specific models than for foundation language models."
      ]
    },
    {
      "cell_type": "markdown",
      "metadata": {
        "id": "qz948LQCK5H1"
      },
      "source": [
        "> <strong><span style=&ldquo;color:#D83D2B;&rdquo;>Exercise 1.1.: Massaging a Twitter dataset</span></strong>\n",
        ">\n",
        "> Below are a few code blocks for implementing some data processing steps on an example dataset of [tweets about financial news](https://huggingface.co/datasets/zeroshot/twitter-financial-news-sentiment), downloaded from HuggingFace. We will use the `datasets` [package](https://huggingface.co/docs/datasets/en/tutorial) to work with the dataset. Originally, the dataset is intended for sentiment classification, but we will just use the tweets from the column \"text\".\n",
        ">\n",
        "> 1. Please go through the code and complete it in slots which say \"#### YOUR CODE HERE\". Refer to the comments and hints for instructions about what the code is supposed to do. Make sure to try to understand every line!\n",
        ">\n",
        "> 2. What is prominent about the dataset? Are the processing steps adequate if you wanted to train a Twitter bot which could write tweets on this data? Specifically, do you think the resulting cleaned sentences are sensible, good training examples to learn to generate text, and, more specifically, tweets?"
      ]
    },
    {
      "cell_type": "code",
      "execution_count": 9,
      "metadata": {
        "id": "b1zXzoP7K5H1",
        "outputId": "8f872dfb-e8f5-425c-bcb6-90e7e8128b2c",
        "colab": {
          "base_uri": "https://localhost:8080/",
          "height": 721,
          "referenced_widgets": [
            "7b07ffdb8a5842c3970b367de51394b0",
            "7857bc4b5d5847b990f1f0ef244dc5cc",
            "fa2c2116f1154285aaf132c4dcbfcbe9",
            "d5daeabf00264fb38ba641e786737ed9",
            "ce33f664601f432f9977e962cf22663b",
            "9305fbe05ea84180a20ed2a8636a1b69",
            "e383bc0443bf4c4a840fd67247b844c3",
            "f01778ec224b446388e8f671eeafefbb",
            "ecfcc538cb4446ba98c7ca706eeb3304",
            "f5f1025a8f924e79b9f73a1e27a9b0c1",
            "adef70b47c37472ab165bc9dc6ffc196",
            "6a8da515c37547298b8dd4a87fb9149a",
            "51f3067fac6842839520f75477f5d8e7",
            "b6b60c9459b7424daf77ced6dd117998",
            "e53b0e0f2b344b2c9a6e43ca5b91c7fe",
            "adb4ed6443454e419f8d7087525dd2be",
            "fe4502e9ed0943b494c22069745a87d5",
            "278b4e81e5374d96a243e4452f70df56",
            "8d928dada3a94bbc9612482f2adf4768",
            "5952ed15b4c3458b823a6d799d746f9d",
            "281e3c86291141899226b472fa58a44b",
            "644b7993430748a599f9f6aecafe5e13",
            "f9ffc5eb84434334859076e6de10dd50",
            "4f04bbf6720e4ff490e275aa8ffbe355",
            "28b509d01c834cf8b9c4794ad1edb165",
            "04ff99cd8ade4149a67e09d073f27467",
            "a950676dff9145d7adce329e06df2a08",
            "87c82060f43f444aa92f94245cca7f54",
            "c389a688cedf4b019e666e2be21031cb",
            "6ef2532662d44413a134518c0201d230",
            "48073af66ca24fd19f41c92a607782b8",
            "e0b5b9edec6c48369c63c21b7f8581b7",
            "d81cdf307df949a8b7a2493fd15b906f",
            "9f288755aa8d4bf1b5cbd247613e316e",
            "07ce3276ba2c4f8db6438daa4c441a7e",
            "e1fad3a6618d4de0972d45f8313fa632",
            "9ab1626b086744188b09c8c63dbe924b",
            "265a5756f14440719c97fe1eba9c112a",
            "8f06891ddfd24e52bb068bd6ae9789b9",
            "c6b5ea88a13f40b980d4c6d0e368cd42",
            "47a8b4ec1868468e8a7488e8d5386a6d",
            "eaa0a9fd47aa4a3d9c3c93c7d698b68f",
            "2c06e038543743bc989c1432f6763222",
            "010de7e378b94a3c8a8426d925c27607",
            "dd03d589fe054691b931545da8b6598f",
            "83f3e3d8d24e4591889002574017e9d3",
            "45363e5f7dc649ad866aca79b8e39cde",
            "a3b830d4c3b24f1db7bc83f5a2842d14",
            "dbd36a9d1b384d2f9be353276d80c519",
            "568b534edb694b72b22c3156185d8509",
            "f06c1d082a3c42faa17f8322db0ade89",
            "555d5512c1da4e4aaaf2eda7e9dff9d6",
            "536b3fbd6c484cc887693bebbe86155d",
            "a072ddb7713142448db820c07ac08c10",
            "c6fca28eff4d469c8c2922b813abca93"
          ]
        }
      },
      "outputs": [
        {
          "output_type": "display_data",
          "data": {
            "text/plain": [
              "README.md:   0%|          | 0.00/1.39k [00:00<?, ?B/s]"
            ],
            "application/vnd.jupyter.widget-view+json": {
              "version_major": 2,
              "version_minor": 0,
              "model_id": "7b07ffdb8a5842c3970b367de51394b0"
            }
          },
          "metadata": {}
        },
        {
          "output_type": "display_data",
          "data": {
            "text/plain": [
              "sent_train.csv:   0%|          | 0.00/859k [00:00<?, ?B/s]"
            ],
            "application/vnd.jupyter.widget-view+json": {
              "version_major": 2,
              "version_minor": 0,
              "model_id": "6a8da515c37547298b8dd4a87fb9149a"
            }
          },
          "metadata": {}
        },
        {
          "output_type": "display_data",
          "data": {
            "text/plain": [
              "sent_valid.csv:   0%|          | 0.00/217k [00:00<?, ?B/s]"
            ],
            "application/vnd.jupyter.widget-view+json": {
              "version_major": 2,
              "version_minor": 0,
              "model_id": "f9ffc5eb84434334859076e6de10dd50"
            }
          },
          "metadata": {}
        },
        {
          "output_type": "display_data",
          "data": {
            "text/plain": [
              "Generating train split:   0%|          | 0/9543 [00:00<?, ? examples/s]"
            ],
            "application/vnd.jupyter.widget-view+json": {
              "version_major": 2,
              "version_minor": 0,
              "model_id": "9f288755aa8d4bf1b5cbd247613e316e"
            }
          },
          "metadata": {}
        },
        {
          "output_type": "display_data",
          "data": {
            "text/plain": [
              "Generating validation split:   0%|          | 0/2388 [00:00<?, ? examples/s]"
            ],
            "application/vnd.jupyter.widget-view+json": {
              "version_major": 2,
              "version_minor": 0,
              "model_id": "dd03d589fe054691b931545da8b6598f"
            }
          },
          "metadata": {}
        },
        {
          "output_type": "stream",
          "name": "stdout",
          "text": [
            "{'text': ['$BYND - JPMorgan reels in expectations on Beyond Meat https://t.co/bd0xbFGjkT', '$CCL $RCL - Nomura points to bookings weakness at Carnival and Royal Caribbean https://t.co/yGjpT2ReD3', '$CX - Cemex cut at Credit Suisse, J.P. Morgan on weak building outlook https://t.co/KN1g4AWFIb', '$ESS: BTIG Research cuts to Neutral https://t.co/MCyfTsXc2N', '$FNKO - Funko slides after Piper Jaffray PT cut https://t.co/z37IJmCQzB'], 'label': [0, 0, 0, 0, 0]}\n",
            "['text', 'label']\n",
            "Dataset size: (9543, 2)\n",
            "Average tweet length: 12.17835062349366\n"
          ]
        },
        {
          "output_type": "display_data",
          "data": {
            "text/plain": [
              "<Figure size 640x480 with 1 Axes>"
            ],
            "image/png": "[encoded data removed]"
          },
          "metadata": {}
        }
      ],
      "source": [
        "from datasets import load_dataset\n",
        "import matplotlib.pyplot as plt\n",
        "\n",
        "# 1. load dataset, only training split\n",
        "dataset = load_dataset(\n",
        "    \"zeroshot/twitter-financial-news-sentiment\",\n",
        "    split=\"train\",\n",
        ")\n",
        "\n",
        "# 2. understand dataset\n",
        "# print first 5 examples\n",
        "print(dataset[:5])\n",
        "\n",
        "# print the columns of the dataset\n",
        "print(dataset.column_names)\n",
        "\n",
        "# get the number of examples in the dataset\n",
        "dataset_size = dataset.shape\n",
        "print(f\"Dataset size: {dataset_size}\")\n",
        "\n",
        "# compute the tweet lengths (in words, i.e., split by whitespace)\n",
        "# plot them and compute the average tweet length\n",
        "tweets = dataset[\"text\"]\n",
        "tweet_lengths = [len(tweet.split()) for tweet in tweets]\n",
        "average_tweet_length = sum(tweet_lengths) / len(tweet_lengths)\n",
        "print(f\"Average tweet length: {average_tweet_length}\")\n",
        "\n",
        "# plot a histogram of the tweet lengths\n",
        "plt.hist(tweet_lengths, bins=30, color='skyblue', edgecolor='black')\n",
        "plt.xlabel(\"Tweet length (words)\")\n",
        "plt.ylabel(\"Frequency\")\n",
        "plt.title(\"Distribution of Tweet Lengths\")\n",
        "plt.grid(True)\n",
        "plt.show()"
      ]
    },
    {
      "cell_type": "markdown",
      "metadata": {
        "id": "wPgQicqNK5H2"
      },
      "source": [
        "Click below to see the solution."
      ]
    },
    {
      "cell_type": "code",
      "execution_count": 10,
      "metadata": {
        "tags": [
          "hide-cell"
        ],
        "id": "KpvILDZUK5H2",
        "outputId": "4b0d07de-dc19-411f-958c-6e2975f08972",
        "colab": {
          "base_uri": "https://localhost:8080/",
          "height": 556
        }
      },
      "outputs": [
        {
          "output_type": "stream",
          "name": "stdout",
          "text": [
            "{'text': ['$BYND - JPMorgan reels in expectations on Beyond Meat https://t.co/bd0xbFGjkT', '$CCL $RCL - Nomura points to bookings weakness at Carnival and Royal Caribbean https://t.co/yGjpT2ReD3', '$CX - Cemex cut at Credit Suisse, J.P. Morgan on weak building outlook https://t.co/KN1g4AWFIb', '$ESS: BTIG Research cuts to Neutral https://t.co/MCyfTsXc2N', '$FNKO - Funko slides after Piper Jaffray PT cut https://t.co/z37IJmCQzB'], 'label': [0, 0, 0, 0, 0]}\n",
            "['text', 'label']\n",
            "Dataset size: 9543\n",
            "Average tweet length: 12.17835062349366\n"
          ]
        },
        {
          "output_type": "execute_result",
          "data": {
            "text/plain": [
              "Text(0.5, 0, 'Tweet length')"
            ]
          },
          "metadata": {},
          "execution_count": 10
        },
        {
          "output_type": "display_data",
          "data": {
            "text/plain": [
              "<Figure size 640x480 with 1 Axes>"
            ],
            "image/png": "[encoded data removed]"
          },
          "metadata": {}
        }
      ],
      "source": [
        "from datasets import load_dataset\n",
        "import matplotlib.pyplot as plt\n",
        "\n",
        "# 1. load dataset, only training split\n",
        "dataset = load_dataset(\n",
        "    \"zeroshot/twitter-financial-news-sentiment\",\n",
        "    split=\"train\",\n",
        ")\n",
        "\n",
        "# 2. understand dataset\n",
        "# print first 5 examples\n",
        "print(dataset[:5])\n",
        "\n",
        "# print the columns of the dataset\n",
        "print(dataset.column_names)\n",
        "\n",
        "# get the number of examples in the dataset\n",
        "dataset_size = len(dataset) ### YOUR CODE HERE ###\n",
        "print(f\"Dataset size: {dataset_size}\")\n",
        "\n",
        "# compute the tweet lengths (in words, i.e., split by whitespace)\n",
        "# plot them and compute the average tweet length\n",
        "tweets = dataset[\"text\"]\n",
        "tweet_lengths = [len(tweet.split()) for tweet in tweets] ### YOUR CODE HERE ###\n",
        "average_tweet_length = sum(tweet_lengths) / len(tweet_lengths) ### YOUR CODE HERE ###\n",
        "print(f\"Average tweet length: {average_tweet_length}\")\n",
        "\n",
        "# plot the tweet lengths\n",
        "plt.hist(tweet_lengths, bins=20) ### YOUR CODE HERE ###\n",
        "plt.xlabel(\"Tweet length\")"
      ]
    },
    {
      "cell_type": "markdown",
      "metadata": {
        "id": "4jmcHf83K5H3"
      },
      "source": [
        "```{toggle}\n",
        "> <strong><span style=&ldquo;color:#D83D2B;&rdquo;>Answers Exercise 1.1.: Massaging a Twitter dataset</span></strong>\n",
        ">\n",
        "> 2. The Tweet lenght peaks at 10 tokens, followed by between 10 and 15 tokens. The tweet lenght is almost never larger then 25 tokens. The Average tweet length is 12.17835062349366. This is quite small for tweets.\n",
        "> So if you would train your Twitter bot with this dataset you would receive a bot that answers in very short sentences. If that is what you are looking for, the dataset would be appropiate.\n",
        "```"
      ]
    },
    {
      "cell_type": "code",
      "execution_count": 14,
      "metadata": {
        "id": "iExn3e-xK5H3",
        "outputId": "aef5aa9d-bb9d-4847-f84a-9b421bc9070a",
        "colab": {
          "base_uri": "https://localhost:8080/"
        }
      },
      "outputs": [
        {
          "output_type": "stream",
          "name": "stdout",
          "text": [
            "{'text': ['BYND  JPMorgan reels in expectations on Beyond Meat httpstcobdxbFGjkT', 'CCL RCL  Nomura points to bookings weakness at Carnival and Royal Caribbean httpstcoyGjpTReD'], 'label': [0, 0]}\n"
          ]
        }
      ],
      "source": [
        "# 4. clean tweets: remove non-alphabetic or non-space characters\n",
        "# Hint: you can easily google how to remove non-alphabetic characters in Python\n",
        "\n",
        "\n",
        "def clean_tweet(tweet):\n",
        "    \"\"\"\n",
        "    Remove non-alphabetic or non-space characters from a tweet.\n",
        "\n",
        "    Args\n",
        "    ----\n",
        "    tweet: str\n",
        "        Tweet to clean.\n",
        "\n",
        "    Returns\n",
        "    -------\n",
        "    cleaned_tweet: str\n",
        "        Cleaned tweet without non-alphabetic symbols.\n",
        "    \"\"\"\n",
        "    tweet = \"\".join(\n",
        "        [char for char in tweet if char.isalpha() or char.isspace()]\n",
        "    )\n",
        "    return tweet\n",
        "\n",
        "# apply the preprocessing function to all tweets\n",
        "cleaned_dataset = dataset.map(\n",
        "    lambda example: {\n",
        "        \"text\": clean_tweet(example[\"text\"])\n",
        "    }\n",
        ")\n",
        "\n",
        "# look at a few examples of clean tweets\n",
        "print(cleaned_dataset[:2])"
      ]
    },
    {
      "cell_type": "markdown",
      "metadata": {
        "id": "rCX335EqK5H3"
      },
      "source": [
        "Click below to see the solution."
      ]
    },
    {
      "cell_type": "code",
      "execution_count": 13,
      "metadata": {
        "tags": [
          "hide-cell"
        ],
        "id": "mafa0KrSK5H4",
        "outputId": "a73573a8-1f7d-4a2a-d3e3-71217cfd4d9f",
        "colab": {
          "base_uri": "https://localhost:8080/"
        }
      },
      "outputs": [
        {
          "output_type": "stream",
          "name": "stdout",
          "text": [
            "{'text': ['BYND  JPMorgan reels in expectations on Beyond Meat httpstcobdxbFGjkT'], 'label': [0]}\n"
          ]
        }
      ],
      "source": [
        "# 4. clean tweets: remove non-alphabetic characters\n",
        "# Hint: you can easily google how to remove non-alphabetic characters in Python\n",
        "\n",
        "\n",
        "def clean_tweet(tweet):\n",
        "    \"\"\"\n",
        "    Remove non-alphabetic or non-space characters from a tweet.\n",
        "\n",
        "    Args\n",
        "    ----\n",
        "    tweet: str\n",
        "        Tweet to clean.\n",
        "\n",
        "    Returns\n",
        "    -------\n",
        "    cleaned_tweet: str\n",
        "        Cleaned tweet without non-alphabetic symbols.\n",
        "    \"\"\"\n",
        "    tweet = \"\".join(\n",
        "        [char for char in tweet if char.isalpha() or char.isspace()]\n",
        "    )  ### YOUR CODE HERE ###\n",
        "    return tweet\n",
        "\n",
        "# apply the preprocessing function to all tweets\n",
        "cleaned_dataset = dataset.map(\n",
        "    lambda example: {\n",
        "        \"text\": clean_tweet(example[\"text\"])\n",
        "    }\n",
        ")\n",
        "\n",
        "# look at a few examples of clean tweets\n",
        "print(cleaned_dataset[:1])"
      ]
    },
    {
      "cell_type": "code",
      "execution_count": 15,
      "metadata": {
        "id": "tqv_xgUeK5H4",
        "outputId": "9285b9ac-97d7-43f3-bcf2-b5bb0abd57fc",
        "colab": {
          "base_uri": "https://localhost:8080/"
        }
      },
      "outputs": [
        {
          "output_type": "stream",
          "name": "stdout",
          "text": [
            "Train size: 7634, Test size: 1908\n",
            "Train split examples:  {'text': ['Is ATT Inc NYSET Creating Value For Shareholders', 'Adtalem Global Education  NIPA American University of the Caribbean School of Medicine a httpstcooWxulWEKM', 'Amneal Pharma price target raised to  vs  at SunTrust Robinson Humphrey'], 'label': [2, 2, 1]}\n",
            "Test split examples:  {'text': ['MKD  Molecular Data Starts US IPO Process Subscribe to Seeking Alpha for more httpstcoOncFkzN economy trading business', ' Reasons OrganiGram Should Bounce Back Big Time in ', 'Deluxe delivered record FY revenue'], 'label': [2, 2, 1]}\n"
          ]
        }
      ],
      "source": [
        "# 5. split dataset into training and testing set\n",
        "\n",
        "# select the proportion of the dataset that should be used for training\n",
        "# and the proportion that should be used for testing\n",
        "# commonly train : test is around 80:20\n",
        "train_size = int(0.8 * dataset_size)\n",
        "test_size = int(0.2 * dataset_size)\n",
        "\n",
        "print(f\"Train size: {train_size}, Test size: {test_size}\")\n",
        "\n",
        "# split the dataset into training and testing set\n",
        "# this will create two new sub-datasets with the keys \"train\" and \"test\"\n",
        "cleaned_dataset_split = cleaned_dataset.train_test_split(\n",
        "    test_size=test_size,\n",
        ")\n",
        "\n",
        "print(\"Train split examples: \", cleaned_dataset_split[\"train\"][:3])\n",
        "print(\"Test split examples: \", cleaned_dataset_split[\"test\"][:3])"
      ]
    },
    {
      "cell_type": "markdown",
      "metadata": {
        "id": "4v7-Iu-UK5H4"
      },
      "source": [
        "Click below to see the solution."
      ]
    },
    {
      "cell_type": "code",
      "execution_count": 16,
      "metadata": {
        "tags": [
          "hide-cell"
        ],
        "id": "ByxAtHMAK5H4",
        "outputId": "92c378b9-f156-4aad-f917-8481b530d6fd",
        "colab": {
          "base_uri": "https://localhost:8080/"
        }
      },
      "outputs": [
        {
          "output_type": "stream",
          "name": "stdout",
          "text": [
            "Train size: 7634, Test size: 1909\n",
            "Train split examples:  {'text': ['Liquefied Natural Gas  Magnolia LNG EPC Contract Extended LiquefiedNaturalGas Stock MarketScreener httpstcocRMBIlK', 'Why Passive Investing Might Be Distorting The Market Podcast', 'Ghana Charges ExFinance Minister After Collapse of Bank'], 'label': [1, 2, 2]}\n",
            "Test split examples:  {'text': ['The second pensionrelated UK university strike in two years will affect more than a million students httpstcoqqlbQeKZK', 'Morgan Stanley says forecasting just the next two months let alone  is hard right now httpstcofToNSUFXu', 'EBay Sells StubHub For B'], 'label': [2, 2, 2]}\n"
          ]
        }
      ],
      "source": [
        "# 5. split dataset into training and testing set\n",
        "\n",
        "# select the proportion of the dataset that should be used for training\n",
        "# and the proportion that should be used for testing\n",
        "# commonly train : test is around 80:20\n",
        "train_size = int(0.8 * dataset_size)  ### YOUR CODE HERE ###\n",
        "test_size = dataset_size - train_size  ### YOUR CODE HERE ###\n",
        "\n",
        "print(f\"Train size: {train_size}, Test size: {test_size}\")\n",
        "\n",
        "# split the dataset into training and testing set\n",
        "# this will create two new sub-datasets with the keys \"train\" and \"test\"\n",
        "cleaned_dataset_split = cleaned_dataset.train_test_split(\n",
        "    test_size=test_size,\n",
        ")\n",
        "\n",
        "print(\"Train split examples: \", cleaned_dataset_split[\"train\"][:3])\n",
        "print(\"Test split examples: \", cleaned_dataset_split[\"test\"][:3])"
      ]
    },
    {
      "cell_type": "code",
      "execution_count": 20,
      "metadata": {
        "id": "DOWDsogOK5H4",
        "outputId": "de72ea93-707e-4c40-87d0-4528cf0d224d",
        "colab": {
          "base_uri": "https://localhost:8080/",
          "height": 67,
          "referenced_widgets": [
            "4d21f0107806477d828d1a08a844feeb",
            "63e2ffbf30a24f2498494de915f7696f",
            "0f3eb6e3124c4e2fb9f7c80a98f98a12",
            "b8890621a5c8452f950ced125c1cb7be",
            "c572dd57a5054685b1a6cbc77053b349",
            "c129cddff14344738cebee25bb143a4f",
            "7caa8aaabe044e05a11f209140005307",
            "e9d8849a80a941cabab0ca42c3e2a21a",
            "5bc40f3cb913469684d145cc684cebab",
            "671f50eb49744623bda3d539da4e06af",
            "7a3e5e34185d4abfb7d0487ab48e72e5"
          ]
        }
      },
      "outputs": [
        {
          "output_type": "display_data",
          "data": {
            "text/plain": [
              "Map:   0%|          | 0/7634 [00:00<?, ? examples/s]"
            ],
            "application/vnd.jupyter.widget-view+json": {
              "version_major": 2,
              "version_minor": 0,
              "model_id": "4d21f0107806477d828d1a08a844feeb"
            }
          },
          "metadata": {}
        },
        {
          "output_type": "execute_result",
          "data": {
            "text/plain": [
              "'torch'"
            ],
            "application/vnd.google.colaboratory.intrinsic+json": {
              "type": "string"
            }
          },
          "metadata": {},
          "execution_count": 20
        }
      ],
      "source": [
        "# 7-8. Tokenize and batch the dataset with wrappers provided by the datasets package\n",
        "# for tokeinization, we use the GPT-2 tokenizer (more details for what is going on\n",
        "# under the hood of these wrappers is to come in the next sessions)\n",
        "\n",
        "from transformers import AutoTokenizer\n",
        "\n",
        "tokenizer = AutoTokenizer.from_pretrained(\"gpt2\")\n",
        "\n",
        "def tokenization(example):\n",
        "    \"\"\"\n",
        "    Wrapper around the tokenizer to tokenize the text of an example.\n",
        "\n",
        "    Args\n",
        "    ----\n",
        "    example: dict\n",
        "        Example tweet from the dataset. Key \"text\" contains the tweet.\n",
        "\n",
        "    Returns\n",
        "    -------\n",
        "    dict\n",
        "        Tokenized tweet with token IDs and an attention mask.\n",
        "    \"\"\"\n",
        "    return tokenizer(example[\"text\"]\n",
        "        )\n",
        "\n",
        "# apply the tokenization function to the train dataset\n",
        "preprocessed_train_dataset = cleaned_dataset_split[\"train\"].map(tokenization, batched=True)\n",
        "\n",
        "# datasets provides a handy method to format the dataset for training models with PyTorch\n",
        "# specifically, it makes sure that dataset samples that are loaded from the\n",
        "# dataset are PyTorch tensors. It also selects columns to be used.\n",
        "preprocessed_train_dataset.set_format(\n",
        "    type=\"torch\",\n",
        "    columns=[\"input_ids\", \"attention_mask\", \"label\"]\n",
        ")\n",
        "\n",
        "preprocessed_train_dataset.format['type']"
      ]
    },
    {
      "cell_type": "markdown",
      "metadata": {
        "id": "quivc1i-K5H5"
      },
      "source": [
        "Click below to see the solution."
      ]
    },
    {
      "cell_type": "code",
      "execution_count": null,
      "metadata": {
        "tags": [
          "hide-cell"
        ],
        "id": "ZzzBdlyJK5H5",
        "outputId": "7d2ae3bc-682c-42e6-980a-eab1690a77e8"
      },
      "outputs": [
        {
          "name": "stderr",
          "output_type": "stream",
          "text": [
            "Map: 100%|██████████| 7634/7634 [00:00<00:00, 32869.18 examples/s]\n"
          ]
        },
        {
          "data": {
            "text/plain": [
              "'torch'"
            ]
          },
          "execution_count": 4,
          "metadata": {},
          "output_type": "execute_result"
        }
      ],
      "source": [
        "# 7-8. Tokenize and batch the dataset with wrappers provided by the datasets package\n",
        "# for tokeinization, we use the GPT-2 tokenizer (more details for what is going on\n",
        "# under the hood of these wrappers is to come in the next sessions)\n",
        "\n",
        "from transformers import AutoTokenizer\n",
        "\n",
        "tokenizer = AutoTokenizer.from_pretrained(\"gpt2\")\n",
        "\n",
        "def tokenization(example):\n",
        "    \"\"\"\n",
        "    Wrapper around the tokenizer to tokenize the text of an example.\n",
        "\n",
        "    Args\n",
        "    ----\n",
        "    example: dict\n",
        "        Example tweet from the dataset.\n",
        "\n",
        "    Returns\n",
        "    -------\n",
        "    dict\n",
        "        Tokenized tweet with token IDs and an attention mask.\n",
        "    \"\"\"\n",
        "    return tokenizer(example[\"text\"])\n",
        "\n",
        "# apply the tokenization function to the train dataset\n",
        "preprocessed_train_dataset = cleaned_dataset_split[\"train\"].map(tokenization, batched=True)\n",
        "\n",
        "#\n",
        "preprocessed_train_dataset.set_format(\n",
        "    type=\"torch\",\n",
        "    columns=[\"input_ids\", \"attention_mask\", \"label\"]\n",
        ")\n",
        "preprocessed_train_dataset.format['type']"
      ]
    },
    {
      "cell_type": "code",
      "execution_count": 21,
      "metadata": {
        "id": "wi8TBTGVK5H5",
        "outputId": "044ee844-3317-4691-d508-cb684379aa5e",
        "colab": {
          "base_uri": "https://localhost:8080/"
        }
      },
      "outputs": [
        {
          "output_type": "stream",
          "name": "stdout",
          "text": [
            "{'label': tensor(1), 'input_ids': tensor([   43,  1557,   891,   798, 12068, 14345,   220, 14872, 22703,   406,\n",
            "        10503,   412,  5662, 17453, 24204, 35515,   891,   798, 35364, 39699,\n",
            "        10500,  5991,  3351,   260,   877,  2638,   301,    66,   420, 29138,\n",
            "         3483,    75,    42]), 'attention_mask': tensor([1, 1, 1, 1, 1, 1, 1, 1, 1, 1, 1, 1, 1, 1, 1, 1, 1, 1, 1, 1, 1, 1, 1, 1,\n",
            "        1, 1, 1, 1, 1, 1, 1, 1, 1])}\n",
            "{'label': tensor(2), 'input_ids': tensor([ 5195, 31652,  7488,   278, 24213,  1355,  4307, 24707,   383,  5991,\n",
            "        16036]), 'attention_mask': tensor([1, 1, 1, 1, 1, 1, 1, 1, 1, 1, 1])}\n",
            "{'label': tensor(2), 'input_ids': tensor([41126,  2271, 44620,  1475,    37, 14149,  4139,  2293,  7778,  7512,\n",
            "          286,  5018]), 'attention_mask': tensor([1, 1, 1, 1, 1, 1, 1, 1, 1, 1, 1, 1])}\n",
            "{'label': tensor(2), 'input_ids': tensor([ 2949,  3999,  3142, 24746,  1042,   290,  3252,   389,   783, 14342,\n",
            "         1863,   351,   262, 26920,   615, 19397,  2638,   301,  1073,    41,\n",
            "           52,  8874,    82,    57,    33,    55]), 'attention_mask': tensor([1, 1, 1, 1, 1, 1, 1, 1, 1, 1, 1, 1, 1, 1, 1, 1, 1, 1, 1, 1, 1, 1, 1, 1,\n",
            "        1, 1])}\n",
            "{'label': tensor(1), 'input_ids': tensor([16371, 30011,  2569,  7994,   220, 28628,  5018, 17399,   346,   324,\n",
            "         6123]), 'attention_mask': tensor([1, 1, 1, 1, 1, 1, 1, 1, 1, 1, 1])}\n"
          ]
        }
      ],
      "source": [
        "# finally, to see what the preprocessed dataset looks like\n",
        "# we iterate over the dataset for a few steps, as we would do in training\n",
        "# note: usually a DataLoader would be used to iterate over the dataset for training\n",
        "# we will cover this in the next sessions\n",
        "\n",
        "for i in range(5):\n",
        "    print(preprocessed_train_dataset[i])"
      ]
    },
    {
      "cell_type": "markdown",
      "metadata": {
        "id": "OmIsYew8K5H5"
      },
      "source": [
        "**NOTE**: if you are building your own dataset instead of e.g. loading it via `datasets`, PyTorch provides a class `Dataset` which is easily customizable and essentially allows to explicitly implement functionality that is tucked away in the `datasets` package. Working with it is covered in sheet 2.3 (for next week!)."
      ]
    },
    {
      "cell_type": "markdown",
      "metadata": {
        "id": "sE4iKbXgK5H5"
      },
      "source": [
        "> <strong><span style=&ldquo;color:#D83D2B;&rdquo;>Exercise 1.2.: Understanding The Pile</span></strong>\n",
        ">\n",
        "> To make things more specific, consider [The Pile dataset (Gao et al., 2020)](https://arxiv.org/pdf/2101.00027.pdf). Read trough the abstract and section 1 (Introduction), look at Table 1 (if needed, glimpse at other sections describing what the single names stand for), read section 5.2.\n",
        "> The following exercises are meant to foster understanding and critical thinking about training datasets. Please try to answer the following questions to yourself:\n",
        ">\n",
        "> 1. Which language(s) does The Pile mainly consist of? If an LM is trained on The Pile as it is, how would you expect the LM will perform when completing a text in, e.g., Hungarian?\n",
        "> It is %94.5 in English, while multilingual data is not eliminated. It would perform very poorly in Hungarian, if the model is not using methods such as back translation while being trained, or not specifically designed for the language. Still, using the language's dataset would perform better of course, since the meanings usually get lost in translation.\n",
        "> 2. What is the difference between The Pile and Common Crawl? Why was The Pile introduced?\n",
        "> Because Common Crawl has been effective on training, but recent work has shown that dataset diversity leads to better downstream generalization\n",
        "capability. Additionally, large-scale\n",
        "language models have been shown to effectively\n",
        "acquire knowledge in a novel domain with only\n",
        "relatively small amounts of training data from that\n",
        "domain.These results suggest that by mixing together a large number of smaller, high quality, diverse datasets, we can improve the general\n",
        "cross-domain knowledge and downstream generalization capabilities of the model compared to models trained on only a handful of data sources.Through some analyses, it can be said that the Pile is\n",
        "significantly distinct from pure Common Crawl\n",
        "data. Additionally, evaluations show that the\n",
        "existing GPT-2 and GPT-3 models perform poorly\n",
        "on many components of the Pile, and that models\n",
        "trained on the Pile significantly outperform both\n",
        "raw and filtered Common Crawl model.\n",
        "> 3. What does the \"epochs\" column in Table 1 refer to? What is the idea behind it?\n",
        ">Epochs is the number of passes over each constituent dataset during a full epoch over the Pile. The idea behind it: Since The Pile is made up of datasets of very different sizes, some datasets are so small they would barely be seen by the model in one full pass through the full corpus (i.e., one epoch).\n",
        "So, they increase the number of \"sub-epochs\" for small datasets so they get more exposure.\n",
        "This way, small but important datasets (e.g., math papers, medical data) don’t get drowned out by huge ones like Pile-CC.\n",
        "> 4. What kind of data is missing from the mix reported in Table 1? What do you think the effect of adding such data would be on an LM trained with the data?\n",
        "> The Pile lacks data like spoken language, underrepresented languages, social media content, and multimodal sources, and adding these would improve a model’s conversational, multilingual, and informal language understanding."
      ]
    },
    {
      "cell_type": "markdown",
      "metadata": {
        "id": "6oftTqUAK5H5"
      },
      "source": [
        "Click below to see the solution."
      ]
    },
    {
      "cell_type": "markdown",
      "metadata": {
        "id": "rIKK2aTXK5H5"
      },
      "source": [
        "```{toggle}\n",
        "<strong><span style=&ldquo;color:#D83D2B;&rdquo;>Answers Exercise 1.2.: Understanding The Pile</span></strong>\n",
        ">\n",
        ">1.   The majority of the data is english. Additionally is consists in 14 languages. Nonetheless, the main criteria for multilanguage data was the existence of english data. Therefore Hungarian text completion is probably not possible.\n",
        ">2.  Common crawl consists in a large amount of raw data, which can result in a poor quality. Because it is favourable to uses a mixtures of many diverse datasets of high quality and from different fields, the Pile was introduced. Furthermore common crawl is part if The Pile changed into PIle-CC while using jusText on Web Archive files for extraction to receive a higher quality.\n",
        ">3. Epochs are the number of passes over each constituent dataset during a full epoch over the Pile. Therefore smaller datasets can pass the dataset more often the large datasets resulting in a better diversion.\n",
        ">4. The standard diviation of the document could give inforation whether the dataset has strong outliers. It can give an impression whether the dataset is biased in some way or not.\n",
        "```"
      ]
    },
    {
      "cell_type": "markdown",
      "metadata": {
        "id": "7VjMLQ5DK5H6"
      },
      "source": [
        "### Dataset documentation\n",
        "\n",
        "Although datasets are a crucial part of the NLP pipeline, unfortunately, there are very few or no established practices for *documenting* shared datasets or *reporting* the datasets which are used to traing published models. This results in issues of reproducibility of the training because details about the data are unknown, biases of models due to under- or misrepresentation in the data and other issues. This paper (a completely optional read) provides an overview as well as suggestions for improving the situation in the area of machine learning:\n",
        "\n",
        "[Jo & Gebru (2020). Lessons from Archives: Strategies for Collecting Sociocultural Data in Machine Learning](https://dl.acm.org/doi/pdf/10.1145/3351095.3372829)"
      ]
    }
  ],
  "metadata": {
    "kernelspec": {
      "display_name": "npNLG",
      "language": "python",
      "name": "python3"
    },
    "language_info": {
      "codemirror_mode": {
        "name": "ipython",
        "version": 3
      },
      "file_extension": ".py",
      "mimetype": "text/x-python",
      "name": "python",
      "nbconvert_exporter": "python",
      "pygments_lexer": "ipython3",
      "version": "3.10.14"
    },
    "colab": {
      "provenance": [],
      "include_colab_link": true
    }
  },
  "nbformat": 4,
  "nbformat_minor": 0
}

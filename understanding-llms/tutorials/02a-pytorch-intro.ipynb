{
  "cells": [
    {
      "cell_type": "markdown",
      "metadata": {
        "id": "view-in-github",
        "colab_type": "text"
      },
      "source": [
        "<a href=\"https://colab.research.google.com/github/ozlemkrblt/Understanding_LLMs_Workspace/blob/main/understanding-llms/tutorials/02a-pytorch-intro.ipynb\" target=\"_parent\"><img src=\"https://colab.research.google.com/assets/colab-badge.svg\" alt=\"Open In Colab\"/></a>"
      ]
    },
    {
      "cell_type": "markdown",
      "metadata": {
        "id": "4XFSlMuQ1GdE"
      },
      "source": [
        "Sheet 2.1: PyTorch essentials\n",
        "=============================\n",
        "\n",
        "**Author:** Michael Franke\n",
        "\n"
      ]
    },
    {
      "cell_type": "markdown",
      "metadata": {
        "id": "I4U_kNAL1GdI"
      },
      "source": [
        "This work sheet introduces the basics of PyTorch.\n",
        "If you want to install PyTorch locally on your machine, follow [these instructions](https://pytorch.org/get-started/locally/).\n",
        "If installed, import the library to make it usable:\n",
        "\n"
      ]
    },
    {
      "cell_type": "code",
      "execution_count": 1,
      "metadata": {
        "ExecuteTime": {
          "end_time": "2025-04-17T08:39:32.235388Z",
          "start_time": "2025-04-17T08:39:31.160409Z"
        },
        "id": "Hc9qKjk_1GdJ"
      },
      "outputs": [],
      "source": [
        "import torch"
      ]
    },
    {
      "cell_type": "markdown",
      "metadata": {
        "id": "r-Inrxl51GdL"
      },
      "source": [
        "## Tensors\n",
        "\n"
      ]
    },
    {
      "cell_type": "markdown",
      "metadata": {
        "id": "7l9skJr01GdL"
      },
      "source": [
        "Tensors are the default data structure used for the representation of\n",
        "numbers in PyTorch. In mathematics (algebra), a tensor is a\n",
        "generalization of the concept of a matrix. For our purposes, let&rsquo;s think\n",
        "of a tensor as basically an $n$-dimensional array of numbers.\n",
        "\n",
        "For example, a single scalar (a single number) is a zero-dimensional\n",
        "array. An $n$-dimensional vector is a one-dimensional array of $n$\n",
        "numbers. An $n \\times m$ matrix is a two-dimensional array with $n$\n",
        "rows and $m$ columns. All of these -scalars, vectors and matrices- are\n",
        "tensors. But *tensors also include even more high-dimensional objects*.\n",
        "For instance, an $k \\times n \\times m$ tensor is a three-dimensional\n",
        "array, which includes $k$ matrices, each of which has $n$ rows and\n",
        "$m$ columns. And so on.\n",
        "\n",
        "Full documetation for the `torch.Tensor` class can be found here:\n",
        "[https://pytorch.org/docs/stable/tensors.html](https://pytorch.org/docs/stable/tensors.html)\n",
        "\n",
        "![img](https://github.com/CogSciPrag/Understanding-LLMs-course/blob/main/understanding-llms/tutorials/pics/03-scalars-vectors-matrices-tensors.png?raw=1){width=300px}\n",
        "\n",
        "> <strong><span style=&ldquo;color:#D83D2B;&rdquo;>Exercise 2.1.1: Dimensions of tensors</span></strong>\n",
        ">\n",
        "> What are the dimensions of the following tensors?\n",
        ">\n",
        "> 1. $1$\n",
        "> 2. $[1,2,3]$\n",
        "> 3. $[[1,2], [3,4]]$\n",
        "> 4. $[[1,2], [3,4], [5,6]]$\n",
        "> 5. $[[[1,2], [3,4], [5,6]]]$\n",
        "\n"
      ]
    },
    {
      "cell_type": "markdown",
      "metadata": {
        "id": "Q35H7wmt1GdM"
      },
      "source": [
        "Click below to see the solution."
      ]
    },
    {
      "cell_type": "markdown",
      "metadata": {
        "id": "wp1CjIUp1GdM"
      },
      "source": [
        "```{toggle}\n",
        "> <strong><span style=&ldquo;color:#D83D2B;&rdquo;>Exercise 2.1.1: Dimensions of tensors</span></strong>\n",
        ">\n",
        "> What are the dimensions of the following tensors?\n",
        ">\n",
        "> 1. $1$ -> 0 Dimensions\n",
        "> 2. $[1,2,3]$ -> 1 Dimension\n",
        "> 3. $[[1,2], [3,4]]$ -> 2 Dimensions\n",
        "> 4. $[[1,2], [3,4], [5,6]]$ -> 2 Dimensions\n",
        "> 5. $[[[1,2], [3,4], [5,6]]]$ -> 3 Dimensions\n",
        "```"
      ]
    },
    {
      "cell_type": "code",
      "execution_count": 2,
      "metadata": {
        "ExecuteTime": {
          "end_time": "2025-04-17T08:39:32.252161Z",
          "start_time": "2025-04-17T08:39:32.236543Z"
        },
        "tags": [
          "hide-cell"
        ],
        "id": "mQlWCShK1GdN",
        "outputId": "f2a3fd44-a09a-4c76-a5da-c9a73862a302",
        "colab": {
          "base_uri": "https://localhost:8080/"
        }
      },
      "outputs": [
        {
          "output_type": "stream",
          "name": "stdout",
          "text": [
            "tensor(1)\n",
            "tensor([1, 2, 3])\n",
            "tensor([[1, 2],\n",
            "        [3, 4]])\n",
            "tensor([[1, 2],\n",
            "        [3, 4],\n",
            "        [5, 6]])\n",
            "tensor([[[1, 2],\n",
            "         [3, 4],\n",
            "         [5, 6]]])\n",
            "torch.Size([])\n",
            "torch.Size([2, 2])\n"
          ]
        }
      ],
      "source": [
        "########## Exercise 2.1.1 #################\n",
        "tensor1 = torch.tensor(1)\n",
        "tensor2 = torch.tensor([1,2,3])\n",
        "tensor3 = torch.tensor([[1,2], [3,4]])\n",
        "tensor4 = torch.tensor([[1,2], [3,4], [5,6]])\n",
        "tensor5 = torch.tensor([[[1,2], [3,4], [5,6]]])\n",
        "\n",
        "print(tensor1)\n",
        "print(tensor2)\n",
        "print(tensor3)\n",
        "print(tensor4)\n",
        "print(tensor5)\n",
        "\n",
        "# you can use .shape in prder to check the dimensions\n",
        "print(tensor1.shape)\n",
        "print(tensor3.shape)"
      ]
    },
    {
      "cell_type": "markdown",
      "metadata": {
        "id": "2bYlV84j1GdO"
      },
      "source": [
        "## Creating a tensor\n",
        "\n"
      ]
    },
    {
      "cell_type": "markdown",
      "metadata": {
        "id": "y2JgC0E51GdP"
      },
      "source": [
        "There are various ways to create a tensor in PyTorch.\n",
        "We will go through a few examples here.\n",
        "\n",
        "Tensors can be initialised from a list:\n",
        "\n"
      ]
    },
    {
      "cell_type": "code",
      "execution_count": 3,
      "metadata": {
        "ExecuteTime": {
          "end_time": "2025-04-17T08:39:32.256508Z",
          "start_time": "2025-04-17T08:39:32.252998Z"
        },
        "id": "EdAHZLSS1GdP",
        "outputId": "e4eec82b-3f5f-4cb5-bd42-54988f0d07f5",
        "colab": {
          "base_uri": "https://localhost:8080/"
        }
      },
      "outputs": [
        {
          "output_type": "execute_result",
          "data": {
            "text/plain": [
              "tensor([1, 2, 3, 4])"
            ]
          },
          "metadata": {},
          "execution_count": 3
        }
      ],
      "source": [
        "a_list = [1, 2, 3, 4]\n",
        "tensor_from_list = torch.tensor(a_list)\n",
        "tensor_from_list"
      ]
    },
    {
      "cell_type": "markdown",
      "metadata": {
        "id": "2-IcBeEm1GdP"
      },
      "source": [
        "Or directly:\n",
        "\n"
      ]
    },
    {
      "cell_type": "code",
      "execution_count": 4,
      "metadata": {
        "ExecuteTime": {
          "end_time": "2025-04-17T08:39:32.260296Z",
          "start_time": "2025-04-17T08:39:32.257935Z"
        },
        "id": "P_AGhTdZ1GdQ",
        "outputId": "f702cca8-6bf4-4ca5-85d4-9e933215e6f1",
        "colab": {
          "base_uri": "https://localhost:8080/"
        }
      },
      "outputs": [
        {
          "output_type": "execute_result",
          "data": {
            "text/plain": [
              "tensor([1, 2, 3, 4])"
            ]
          },
          "metadata": {},
          "execution_count": 4
        }
      ],
      "source": [
        "new_tensor = torch.tensor([1, 2, 3, 4])\n",
        "new_tensor"
      ]
    },
    {
      "cell_type": "markdown",
      "metadata": {
        "id": "GqBLIWCf1GdQ"
      },
      "source": [
        "Tensor construction will replicate shape and dimensionality of the data\n",
        "passed to it:\n",
        "\n"
      ]
    },
    {
      "cell_type": "code",
      "execution_count": 5,
      "metadata": {
        "ExecuteTime": {
          "end_time": "2025-04-17T08:39:32.263184Z",
          "start_time": "2025-04-17T08:39:32.260814Z"
        },
        "id": "5VQGTJ3C1GdQ",
        "outputId": "ee8f962d-209d-49c6-8702-fbb6f7d983de",
        "colab": {
          "base_uri": "https://localhost:8080/"
        }
      },
      "outputs": [
        {
          "output_type": "execute_result",
          "data": {
            "text/plain": [
              "tensor(1)"
            ]
          },
          "metadata": {},
          "execution_count": 5
        }
      ],
      "source": [
        "tensor_0d = torch.tensor(1)\n",
        "tensor_0d"
      ]
    },
    {
      "cell_type": "code",
      "execution_count": 6,
      "metadata": {
        "ExecuteTime": {
          "end_time": "2025-04-17T08:39:32.266513Z",
          "start_time": "2025-04-17T08:39:32.263983Z"
        },
        "id": "2Se_HUJJ1GdQ",
        "outputId": "4343e6b4-1d9f-4651-d62b-837b5fde36a1",
        "colab": {
          "base_uri": "https://localhost:8080/"
        }
      },
      "outputs": [
        {
          "output_type": "execute_result",
          "data": {
            "text/plain": [
              "tensor([[1, 2, 3],\n",
              "        [4, 5, 6]])"
            ]
          },
          "metadata": {},
          "execution_count": 6
        }
      ],
      "source": [
        "tensor_2d = torch.tensor([[1, 2, 3], [4, 5, 6]])\n",
        "tensor_2d"
      ]
    },
    {
      "cell_type": "markdown",
      "metadata": {
        "id": "GYimgmcD1GdR"
      },
      "source": [
        "Tensors can also be constructed from numpy arrays:\n",
        "\n"
      ]
    },
    {
      "cell_type": "code",
      "execution_count": 7,
      "metadata": {
        "ExecuteTime": {
          "end_time": "2025-04-17T08:39:32.281338Z",
          "start_time": "2025-04-17T08:39:32.267152Z"
        },
        "id": "qs31piVF1GdR",
        "outputId": "797ddb08-19fa-4072-9ff6-cbb3c3a8507d",
        "colab": {
          "base_uri": "https://localhost:8080/"
        }
      },
      "outputs": [
        {
          "output_type": "execute_result",
          "data": {
            "text/plain": [
              "tensor([[0., 0.],\n",
              "        [0., 0.]], dtype=torch.float64)"
            ]
          },
          "metadata": {},
          "execution_count": 7
        }
      ],
      "source": [
        "import numpy as np\n",
        "\n",
        "np_array = np.zeros((2, 2))\n",
        "np_array_to_tensor = torch.tensor(np_array)\n",
        "np_array_to_tensor"
      ]
    },
    {
      "cell_type": "markdown",
      "metadata": {
        "id": "AvHYRE9i1GdR"
      },
      "source": [
        "Or with build-in torch functionality:\n",
        "\n"
      ]
    },
    {
      "cell_type": "code",
      "execution_count": 8,
      "metadata": {
        "ExecuteTime": {
          "end_time": "2025-04-17T08:39:32.287443Z",
          "start_time": "2025-04-17T08:39:32.282048Z"
        },
        "id": "qIFvp6n81GdR",
        "outputId": "94caf201-0028-4e72-8dbd-f2937a8f1cd1",
        "colab": {
          "base_uri": "https://localhost:8080/"
        }
      },
      "outputs": [
        {
          "output_type": "execute_result",
          "data": {
            "text/plain": [
              "tensor([[0., 0.],\n",
              "        [0., 0.]])"
            ]
          },
          "metadata": {},
          "execution_count": 8
        }
      ],
      "source": [
        "zeros = torch.zeros((2, 2))\n",
        "zeros"
      ]
    },
    {
      "cell_type": "code",
      "execution_count": 9,
      "metadata": {
        "ExecuteTime": {
          "end_time": "2025-04-17T08:39:32.297945Z",
          "start_time": "2025-04-17T08:39:32.288071Z"
        },
        "id": "-b72VHY11GdS",
        "outputId": "16b91abb-a705-40ff-e476-8d42cdabb0cd",
        "colab": {
          "base_uri": "https://localhost:8080/"
        }
      },
      "outputs": [
        {
          "output_type": "execute_result",
          "data": {
            "text/plain": [
              "tensor([[1., 1., 1.],\n",
              "        [1., 1., 1.]])"
            ]
          },
          "metadata": {},
          "execution_count": 9
        }
      ],
      "source": [
        "ones = torch.ones((2, 3))\n",
        "ones"
      ]
    },
    {
      "cell_type": "code",
      "execution_count": 10,
      "metadata": {
        "ExecuteTime": {
          "end_time": "2025-04-17T08:39:32.302829Z",
          "start_time": "2025-04-17T08:39:32.299913Z"
        },
        "id": "2C0KtbzC1GdS",
        "outputId": "9ae854c3-e594-4657-aa4e-46bbaf7c9b63",
        "colab": {
          "base_uri": "https://localhost:8080/"
        }
      },
      "outputs": [
        {
          "output_type": "execute_result",
          "data": {
            "text/plain": [
              "tensor([[5, 5, 5],\n",
              "        [5, 5, 5],\n",
              "        [5, 5, 5],\n",
              "        [5, 5, 5]])"
            ]
          },
          "metadata": {},
          "execution_count": 10
        }
      ],
      "source": [
        "filled = torch.full((4, 3), 5)\n",
        "filled"
      ]
    },
    {
      "cell_type": "markdown",
      "metadata": {
        "id": "NGvOkbPB1GdS"
      },
      "source": [
        "Often we might also want to fill tensors with random numbers.\n",
        "The function `torch.rand()` populates a tensor of the given size with random numbers drawn uniformly from the unit interval.\n",
        "\n"
      ]
    },
    {
      "cell_type": "code",
      "execution_count": 11,
      "metadata": {
        "ExecuteTime": {
          "end_time": "2025-04-17T08:39:32.307588Z",
          "start_time": "2025-04-17T08:39:32.303413Z"
        },
        "id": "7rXTmQpI1GdS",
        "outputId": "b87e6bd9-e698-4853-c86c-754aa3cabd50",
        "colab": {
          "base_uri": "https://localhost:8080/"
        }
      },
      "outputs": [
        {
          "output_type": "execute_result",
          "data": {
            "text/plain": [
              "tensor([[0.6635, 0.1826, 0.3099],\n",
              "        [0.8676, 0.4007, 0.9542]])"
            ]
          },
          "metadata": {},
          "execution_count": 11
        }
      ],
      "source": [
        "torch.rand((2, 3))"
      ]
    },
    {
      "cell_type": "markdown",
      "metadata": {
        "id": "2vu63zaB1GdT"
      },
      "source": [
        "> <strong><span style=&ldquo;color:#D83D2B;&rdquo;>Exercise 2.1.2: Creating tensors</span></strong>\n",
        ">\n",
        "> 1. Create a PyTorch tensor storing the following matrices:\n",
        ">\n",
        ">   a. $[[1,2], [3,4], [5,6]]$\n",
        ">\n",
        ">   b. $[[[1,2], [3,4], [5,6]], [[10,20], [30,40], [50,60]]]$\n",
        ">\n",
        "> 2. Create a PyTorch tensor of size $3 \\times 2 \\times 4$ filled with the number 3.\n",
        ">\n",
        ">\n",
        ">\n",
        "> 3. Create a PyTorch vector with 6 random numbers (lying between 0 and 1).\n",
        "\n"
      ]
    },
    {
      "cell_type": "markdown",
      "metadata": {
        "id": "1uDIcm8L1GdT"
      },
      "source": [
        "Click to see the solution."
      ]
    },
    {
      "cell_type": "code",
      "source": [
        "a_list=([1,2],[3,4],[5,6])\n",
        "b_list = [[x * 10 for x in sublist] for sublist in a_list]\n",
        "print(b_list)\n",
        "\n",
        "tensor_a= torch.tensor(a_list)\n",
        "tensor_b = torch.tensor([a_list,b_list])\n",
        "\n",
        "print(tensor_a)\n",
        "print(tensor_b)\n",
        "\n",
        "filled = torch.full((3,2,4), 3)\n",
        "print(filled)\n",
        "\n",
        "torch.rand(6)"
      ],
      "metadata": {
        "id": "D3ghnwmpCgaI",
        "outputId": "118a2f05-88af-434c-da86-8ca47de99d54",
        "colab": {
          "base_uri": "https://localhost:8080/"
        }
      },
      "execution_count": 19,
      "outputs": [
        {
          "output_type": "stream",
          "name": "stdout",
          "text": [
            "[[10, 20], [30, 40], [50, 60]]\n",
            "tensor([[1, 2],\n",
            "        [3, 4],\n",
            "        [5, 6]])\n",
            "tensor([[[ 1,  2],\n",
            "         [ 3,  4],\n",
            "         [ 5,  6]],\n",
            "\n",
            "        [[10, 20],\n",
            "         [30, 40],\n",
            "         [50, 60]]])\n",
            "tensor([[[3, 3, 3, 3],\n",
            "         [3, 3, 3, 3]],\n",
            "\n",
            "        [[3, 3, 3, 3],\n",
            "         [3, 3, 3, 3]],\n",
            "\n",
            "        [[3, 3, 3, 3],\n",
            "         [3, 3, 3, 3]]])\n"
          ]
        },
        {
          "output_type": "execute_result",
          "data": {
            "text/plain": [
              "tensor([0.1175, 0.6519, 0.0486, 0.9579, 0.4087, 0.3102])"
            ]
          },
          "metadata": {},
          "execution_count": 19
        }
      ]
    },
    {
      "cell_type": "code",
      "execution_count": 14,
      "metadata": {
        "ExecuteTime": {
          "end_time": "2025-04-17T08:39:32.312322Z",
          "start_time": "2025-04-17T08:39:32.308381Z"
        },
        "tags": [
          "hide-cell"
        ],
        "id": "h5-YmNv61GdT",
        "outputId": "7e73bf4e-d2dc-4c3e-9277-752ee2e93573",
        "colab": {
          "base_uri": "https://localhost:8080/"
        }
      },
      "outputs": [
        {
          "output_type": "stream",
          "name": "stdout",
          "text": [
            "tensor([[1, 2],\n",
            "        [3, 4],\n",
            "        [5, 6]])\n",
            "tensor([[[ 1,  2],\n",
            "         [ 3,  4],\n",
            "         [ 5,  6]],\n",
            "\n",
            "        [[10, 20],\n",
            "         [30, 40],\n",
            "         [50, 60]]])\n",
            "tensor([[[3, 3, 3, 3],\n",
            "         [3, 3, 3, 3]],\n",
            "\n",
            "        [[3, 3, 3, 3],\n",
            "         [3, 3, 3, 3]],\n",
            "\n",
            "        [[3, 3, 3, 3],\n",
            "         [3, 3, 3, 3]]])\n",
            "tensor([0.2477, 0.0644, 0.1329, 0.3195, 0.3280, 0.3970])\n"
          ]
        }
      ],
      "source": [
        "########## Exercise 2.1.2 Task 1 #################\n",
        "exercise1a = torch.tensor([[1,2],[3,4],[5,6]])\n",
        "print(exercise1a)\n",
        "exercise1b = torch.tensor([[[1,2],[3,4],[5,6]],[[10,20],[30,40],[50,60]]])\n",
        "print(exercise1b)\n",
        "\n",
        "########## Exercise 2.1.2 Task 3 #################\n",
        "exercise2 = torch.full((3, 2, 4), 3)\n",
        "print(exercise2)\n",
        "\n",
        "########## Exercise 2.1.2 Task 3 #################\n",
        "exercise3 = torch.rand((6))\n",
        "print(exercise3)\n"
      ]
    },
    {
      "cell_type": "markdown",
      "metadata": {
        "id": "owW7hSc11GdT"
      },
      "source": [
        "## Row & column vectors\n",
        "\n"
      ]
    },
    {
      "cell_type": "markdown",
      "metadata": {
        "id": "J_u0fZ6U1GdT"
      },
      "source": [
        "A one-dimensional tensor can be thought of as a vector in linear algebra.\n",
        "But there is an important different.\n",
        "There are two types of vectors in linear algebra: row and column vectors.\n",
        "In PyTorch, a one-dimensional tensor are vector for which it is, in a manner of speaking, flexibly determined in context whether it is a row or a column vector.\n",
        "\n"
      ]
    },
    {
      "cell_type": "code",
      "execution_count": 20,
      "metadata": {
        "ExecuteTime": {
          "end_time": "2025-04-17T08:39:32.315609Z",
          "start_time": "2025-04-17T08:39:32.313130Z"
        },
        "id": "PqXTai2V1GdT",
        "outputId": "084e0615-ba95-44e3-837e-0315b7f3db2c",
        "colab": {
          "base_uri": "https://localhost:8080/"
        }
      },
      "outputs": [
        {
          "output_type": "stream",
          "name": "stdout",
          "text": [
            "tensor([  1,  10, 100])\n",
            "torch.Size([3])\n"
          ]
        }
      ],
      "source": [
        "vector = torch.tensor([1, 10, 100])\n",
        "print(vector)\n",
        "print(vector.size())"
      ]
    },
    {
      "cell_type": "markdown",
      "metadata": {
        "id": "rtZCaalI1GdT"
      },
      "source": [
        "So, strictly speaking, there are no row or column vectors in PyTorch.\n",
        "If we need a column vector, we would define a matrix with one column:\n",
        "\n"
      ]
    },
    {
      "cell_type": "code",
      "execution_count": 21,
      "metadata": {
        "ExecuteTime": {
          "end_time": "2025-04-17T08:39:32.318386Z",
          "start_time": "2025-04-17T08:39:32.316332Z"
        },
        "id": "V0aAwua81GdU",
        "outputId": "6f5a870e-1507-4594-e85d-b1bddcad3f9b",
        "colab": {
          "base_uri": "https://localhost:8080/"
        }
      },
      "outputs": [
        {
          "output_type": "stream",
          "name": "stdout",
          "text": [
            "tensor([[  1],\n",
            "        [ 10],\n",
            "        [100]])\n",
            "torch.Size([3, 1])\n"
          ]
        }
      ],
      "source": [
        "col_vector = torch.tensor([[1], [10], [100]])\n",
        "print(col_vector)\n",
        "print(col_vector.size())"
      ]
    },
    {
      "cell_type": "markdown",
      "metadata": {
        "id": "-fBxqCW51GdU"
      },
      "source": [
        "## Tensor data types\n",
        "\n"
      ]
    },
    {
      "cell_type": "markdown",
      "metadata": {
        "id": "RGeHb4du1GdU"
      },
      "source": [
        "Tensor-supported data types are:\n",
        "\n",
        "-   numeric: float, int\n",
        "-   boolean\n",
        "-   complex numbers\n",
        "\n",
        "We can retrieve the type of a tensor with `.dtype`.\n",
        "\n"
      ]
    },
    {
      "cell_type": "code",
      "execution_count": 22,
      "metadata": {
        "ExecuteTime": {
          "end_time": "2025-04-17T08:39:32.321623Z",
          "start_time": "2025-04-17T08:39:32.318921Z"
        },
        "id": "bkgQf_nx1GdU",
        "outputId": "e73119e2-8096-4f83-9b5f-8462ed66d812",
        "colab": {
          "base_uri": "https://localhost:8080/"
        }
      },
      "outputs": [
        {
          "output_type": "execute_result",
          "data": {
            "text/plain": [
              "torch.float32"
            ]
          },
          "metadata": {},
          "execution_count": 22
        }
      ],
      "source": [
        "torch.tensor([1.5, 2.1]).dtype"
      ]
    },
    {
      "cell_type": "markdown",
      "metadata": {
        "id": "TS0slcA61GdU"
      },
      "source": [
        "If we construct a tensor with an integer, its type will be integer.\n",
        "Compare:\n",
        "\n"
      ]
    },
    {
      "cell_type": "code",
      "execution_count": 23,
      "metadata": {
        "ExecuteTime": {
          "end_time": "2025-04-17T08:39:32.324407Z",
          "start_time": "2025-04-17T08:39:32.322357Z"
        },
        "id": "PXogRKE01GdU",
        "outputId": "5568232f-5e5d-4f0a-d810-1bc0aec5b6f1",
        "colab": {
          "base_uri": "https://localhost:8080/"
        }
      },
      "outputs": [
        {
          "output_type": "stream",
          "name": "stdout",
          "text": [
            "torch.int64\n",
            "torch.float32\n"
          ]
        }
      ],
      "source": [
        "print(torch.tensor(5).dtype)\n",
        "print(torch.tensor(5.0).dtype)"
      ]
    },
    {
      "cell_type": "markdown",
      "metadata": {
        "id": "GG1tAJxT1GdV"
      },
      "source": [
        "It is possible to declare the type explicitly, when constructing a tensor:\n",
        "\n"
      ]
    },
    {
      "cell_type": "code",
      "execution_count": 24,
      "metadata": {
        "ExecuteTime": {
          "end_time": "2025-04-17T08:39:32.327507Z",
          "start_time": "2025-04-17T08:39:32.325213Z"
        },
        "id": "8WlJ2bet1GdV",
        "outputId": "121949d3-9bd1-42b0-e36e-95814da97a28",
        "colab": {
          "base_uri": "https://localhost:8080/"
        }
      },
      "outputs": [
        {
          "output_type": "stream",
          "name": "stdout",
          "text": [
            "torch.float64\n",
            "torch.bool\n"
          ]
        }
      ],
      "source": [
        "print(torch.tensor(5, dtype=torch.float64).dtype)\n",
        "print(torch.tensor(1.0, dtype=torch.bool).dtype)"
      ]
    },
    {
      "cell_type": "markdown",
      "metadata": {
        "id": "NDYjK35-1Gdc"
      },
      "source": [
        "All the values in the same tensor are of the same data type.\n",
        "\n"
      ]
    },
    {
      "cell_type": "code",
      "execution_count": 25,
      "metadata": {
        "ExecuteTime": {
          "end_time": "2025-04-17T08:39:32.330711Z",
          "start_time": "2025-04-17T08:39:32.328257Z"
        },
        "id": "iUnT83BN1Gdd",
        "outputId": "0f888ad2-43ed-4208-b89f-f068341e79fc",
        "colab": {
          "base_uri": "https://localhost:8080/"
        }
      },
      "outputs": [
        {
          "output_type": "stream",
          "name": "stdout",
          "text": [
            "tensor([True, True])\n",
            "torch.bool\n"
          ]
        }
      ],
      "source": [
        "true = torch.tensor([True, True])\n",
        "print(true)\n",
        "print(true.dtype)"
      ]
    },
    {
      "cell_type": "markdown",
      "metadata": {
        "id": "na6MusyC1Gdd"
      },
      "source": [
        "Careful: PyTorch will implicitly cast data types.\n",
        "\n"
      ]
    },
    {
      "cell_type": "code",
      "execution_count": 26,
      "metadata": {
        "ExecuteTime": {
          "end_time": "2025-04-17T08:39:32.333391Z",
          "start_time": "2025-04-17T08:39:32.331379Z"
        },
        "id": "KH88WvOD1Gdd",
        "outputId": "b0bbcdfe-7ea9-44b0-f22d-2865952cb90c",
        "colab": {
          "base_uri": "https://localhost:8080/"
        }
      },
      "outputs": [
        {
          "output_type": "stream",
          "name": "stdout",
          "text": [
            "tensor([1, 1])\n",
            "torch.int64\n"
          ]
        }
      ],
      "source": [
        "mix = torch.tensor([True, 1])\n",
        "print(mix)\n",
        "print(mix.dtype)"
      ]
    },
    {
      "cell_type": "markdown",
      "metadata": {
        "id": "aDN90VLo1Gdd"
      },
      "source": [
        "What about strings? PyTorch tensors have no character or string data\n",
        "type support.\n",
        "\n"
      ]
    },
    {
      "cell_type": "code",
      "execution_count": 27,
      "metadata": {
        "ExecuteTime": {
          "end_time": "2025-04-17T08:39:32.336541Z",
          "start_time": "2025-04-17T08:39:32.333913Z"
        },
        "id": "cV3ZZOxJ1Gdd",
        "outputId": "39a2479d-2a80-4377-f9d1-05453bd996a4",
        "colab": {
          "base_uri": "https://localhost:8080/"
        }
      },
      "outputs": [
        {
          "output_type": "execute_result",
          "data": {
            "text/plain": [
              "tensor([ 72, 101, 108, 108, 111,  32,  87, 111, 114, 108, 100,  33])"
            ]
          },
          "metadata": {},
          "execution_count": 27
        }
      ],
      "source": [
        "hello = \"Hello World!\"\n",
        "hello_tensor = torch.tensor([ord(char) for char in hello])\n",
        "hello_tensor"
      ]
    },
    {
      "cell_type": "markdown",
      "metadata": {
        "id": "TGOro3wp1Gde"
      },
      "source": [
        "**NOTE**: weights of a language model are, at the end, also represented as tensors. The data type of a tensor determines how much memory the tensor occupies. In the context of a language model, this means that, depending on the data type of the weights, more or less memory (e.g., on the GPU) is required in order to be able to use the model. Note that often weights of pretrained available models (i.e., weights of an already trained model that can be used to predict text) are available in `torch.float16` or `torch.bfloat16`. We will see where to see this and how to change the dtype when loading a pretrained model in the next sheets."
      ]
    },
    {
      "cell_type": "markdown",
      "metadata": {
        "id": "0VEAzEkB1Gde"
      },
      "source": [
        "## Attributes of a tensor\n",
        "\n"
      ]
    },
    {
      "cell_type": "markdown",
      "metadata": {
        "id": "Og3HUYmd1Gde"
      },
      "source": [
        "Tensors have attributes, which store information about some of their important properties.\n",
        "Here are some important examples:\n",
        "\n"
      ]
    },
    {
      "cell_type": "code",
      "execution_count": 28,
      "metadata": {
        "ExecuteTime": {
          "end_time": "2025-04-17T08:39:32.339331Z",
          "start_time": "2025-04-17T08:39:32.337309Z"
        },
        "id": "ZB6UOMrH1Gde",
        "outputId": "34ce79b6-d39c-4478-dd00-1847bbf1ec17",
        "colab": {
          "base_uri": "https://localhost:8080/"
        }
      },
      "outputs": [
        {
          "output_type": "stream",
          "name": "stdout",
          "text": [
            "Datatype of tensor         : torch.int64\n",
            "Shape of tensor            : torch.Size([12])\n",
            "Device tensor is stored on : cpu\n"
          ]
        }
      ],
      "source": [
        "print(f\"Datatype of tensor         : {hello_tensor.dtype}\")\n",
        "print(f\"Shape of tensor            : {hello_tensor.shape}\")\n",
        "print(f\"Device tensor is stored on : {hello_tensor.device}\")"
      ]
    },
    {
      "cell_type": "markdown",
      "metadata": {
        "id": "-QW0UAVF1Gde"
      },
      "source": [
        "We have seen `dtype` already.\n",
        "The property `shape` gives equal output as a call to function `.size()`.\n",
        "The property assessed with `.device` tells us where the tensor is stored and manipulated.\n",
        "The default is the CPU.\n",
        "If your machine allows you can also shift all your tensors to a GPU.\n",
        "The syntax for doing this is slightly different on different machines. **NOTE:** the tensors have to be on the same machine in order to perform joint operations on them.\n",
        "\n",
        "> <strong><span style=&ldquo;color:#D83D2B;&rdquo;>Exercise 2.1.3: Tensor attributes & types </span></strong>\n",
        ">\n",
        "> 1. Inspect the tensor type with `.dtype` for tensors created from a list containing two different data types supported by PyTorch (int, float, Boolean).\n",
        ">\n",
        "> 2. Use `.shape` or `.size()` to inspect the shape of a (row) vector, a single column matrix, and a $2 \\times 3$ matrix.\n",
        "\n"
      ]
    },
    {
      "cell_type": "markdown",
      "metadata": {
        "id": "-0CqpHT41Gdf"
      },
      "source": [
        "Click below to see the solution."
      ]
    },
    {
      "cell_type": "code",
      "execution_count": 30,
      "metadata": {
        "ExecuteTime": {
          "end_time": "2025-04-17T08:39:32.345021Z",
          "start_time": "2025-04-17T08:39:32.339942Z"
        },
        "tags": [
          "hide-cell"
        ],
        "id": "2zDoaUYR1Gdf",
        "outputId": "edb399e9-9e9c-47f9-98aa-dc16e34bfb14",
        "colab": {
          "base_uri": "https://localhost:8080/"
        }
      },
      "outputs": [
        {
          "output_type": "stream",
          "name": "stdout",
          "text": [
            "tensor([1, 1])\n",
            "torch.int64\n",
            "torch.Size([2])\n",
            "tensor([1.0000, 1.2000])\n",
            "torch.float32\n",
            "tensor([1.0000, 1.2000])\n",
            "torch.float32\n",
            "tensor([1.2000, 1.0000])\n",
            "torch.float32\n",
            "tensor([1, 1])\n",
            "torch.int64\n",
            "tensor([1.2000, 1.0000])\n",
            "torch.float32\n",
            "tensor([[1.2000, 1.0000],\n",
            "        [2.0000, 1.2000],\n",
            "        [0.0000, 2.0000]])\n",
            "torch.float32\n",
            "torch.Size([3, 2])\n",
            "tensor([[1.2000],\n",
            "        [2.0000],\n",
            "        [0.0000]])\n",
            "torch.float32\n",
            "torch.Size([3, 1])\n",
            "torch.Size([3, 1])\n"
          ]
        }
      ],
      "source": [
        "########## Exercise 2.1.3 Task 1 and 2 #################\n",
        "\n",
        "mix = torch.tensor([True, 1])\n",
        "print(mix)\n",
        "print(mix.dtype)\n",
        "print(mix.shape)\n",
        "\n",
        "mix2 = torch.tensor([True, 1.2])\n",
        "print(mix2)\n",
        "print(mix2.dtype)\n",
        "\n",
        "mix3 = torch.tensor([1, 1.2])\n",
        "print(mix3)\n",
        "print(mix3.dtype)\n",
        "\n",
        "mix4 = torch.tensor([1.2, 1])\n",
        "print(mix4)\n",
        "print(mix4.dtype)\n",
        "\n",
        "mix5 = torch.tensor([1, True])\n",
        "print(mix5)\n",
        "print(mix5.dtype)\n",
        "\n",
        "mix6 = torch.tensor([1.2, True])\n",
        "print(mix6)\n",
        "print(mix6.dtype)\n",
        "\n",
        "mix7 = torch.tensor([[1.2, True],[2, 1.2],[False, 2]])\n",
        "print(mix7)\n",
        "print(mix7.dtype)\n",
        "print(mix7.shape)\n",
        "\n",
        "mix8 = torch.tensor([[1.2],[2],[False]])\n",
        "print(mix8)\n",
        "print(mix8.dtype)\n",
        "print(mix8.shape)\n",
        "print(mix8.size())"
      ]
    },
    {
      "cell_type": "markdown",
      "metadata": {
        "id": "Wd6In7i71Gdf"
      },
      "source": [
        "```{toggle}\n",
        "> <strong><span style=&ldquo;color:#D83D2B;&rdquo;>Answers Exercise 2.1.3: Tensor attributes & types </span></strong>\n",
        ">\n",
        ">1. You see the code above for both sub-exercises.\n",
        "> The datasize importance is as follows: float32 > int64 > bool\n",
        "```"
      ]
    },
    {
      "cell_type": "markdown",
      "metadata": {
        "id": "xU49fHqc1Gdf"
      },
      "source": [
        "## Operations on tensors\n",
        "\n"
      ]
    },
    {
      "cell_type": "markdown",
      "metadata": {
        "id": "tNg6Am7R1Gdf"
      },
      "source": [
        "### Indexing and slicing\n",
        "\n"
      ]
    },
    {
      "cell_type": "markdown",
      "metadata": {
        "id": "wKuYLb8J1Gdf"
      },
      "source": [
        "Indexing & slicing works in the way familiar from numpy.\n",
        "\n"
      ]
    },
    {
      "cell_type": "code",
      "execution_count": 31,
      "metadata": {
        "ExecuteTime": {
          "end_time": "2025-04-17T08:39:32.352529Z",
          "start_time": "2025-04-17T08:39:32.345774Z"
        },
        "id": "jGNDjtU31Gdg",
        "outputId": "eb2f1d92-2f33-4ab6-d113-1b174dad7498",
        "colab": {
          "base_uri": "https://localhost:8080/"
        }
      },
      "outputs": [
        {
          "output_type": "stream",
          "name": "stdout",
          "text": [
            "tensor([[1, 2, 3],\n",
            "        [4, 5, 6],\n",
            "        [7, 8, 9]])\n",
            "tensor(6)\n",
            "tensor([7, 8, 9])\n",
            "tensor([7, 8, 9])\n",
            "tensor([2, 5, 8])\n"
          ]
        }
      ],
      "source": [
        "matrix = torch.tensor([[1, 2, 3], [4, 5, 6], [7, 8, 9]])\n",
        "print(matrix)\n",
        "print(matrix[1, 2])  # single element\n",
        "print(matrix[2, :])  # third row\n",
        "print(matrix[2])  # third row (alternative)\n",
        "print(matrix[:, 1])  # second column"
      ]
    },
    {
      "cell_type": "markdown",
      "metadata": {
        "id": "5EgMLHYE1Gdg"
      },
      "source": [
        "### Joining tensors\n",
        "\n"
      ]
    },
    {
      "cell_type": "markdown",
      "metadata": {
        "id": "-7ZLsG1B1Gdg"
      },
      "source": [
        "We can concatenate tensor like so:\n",
        "\n"
      ]
    },
    {
      "cell_type": "code",
      "execution_count": 32,
      "metadata": {
        "ExecuteTime": {
          "end_time": "2025-04-17T08:39:32.356864Z",
          "start_time": "2025-04-17T08:39:32.353246Z"
        },
        "id": "Aj_jR9qM1Gdg",
        "outputId": "47f033b1-a272-4251-8b6b-95fd09eded4c",
        "colab": {
          "base_uri": "https://localhost:8080/"
        }
      },
      "outputs": [
        {
          "output_type": "stream",
          "name": "stdout",
          "text": [
            "tensor([1, 2, 3, 4, 5, 6])\n"
          ]
        }
      ],
      "source": [
        "head = torch.tensor([1, 2, 3])\n",
        "tail = torch.tensor([4, 5, 6])\n",
        "head_and_tail = torch.cat([head, tail])\n",
        "print(head_and_tail)"
      ]
    },
    {
      "cell_type": "markdown",
      "metadata": {
        "id": "Yzphc5pF1Gdg"
      },
      "source": [
        "What if we want to add a dimension?\n",
        "\n"
      ]
    },
    {
      "cell_type": "code",
      "execution_count": 33,
      "metadata": {
        "ExecuteTime": {
          "end_time": "2025-04-17T08:39:32.360247Z",
          "start_time": "2025-04-17T08:39:32.357532Z"
        },
        "id": "tbAt4pJ_1Gdg",
        "outputId": "d04a4b0e-07d0-49a6-976b-0e2ee577b833",
        "colab": {
          "base_uri": "https://localhost:8080/"
        }
      },
      "outputs": [
        {
          "output_type": "stream",
          "name": "stdout",
          "text": [
            "tensor([[1, 2, 3],\n",
            "        [4, 5, 6]])\n"
          ]
        }
      ],
      "source": [
        "print(torch.stack([head, tail]))"
      ]
    },
    {
      "cell_type": "markdown",
      "metadata": {
        "id": "47Niim2t1Gdh"
      },
      "source": [
        "### Reshaping\n",
        "\n"
      ]
    },
    {
      "cell_type": "markdown",
      "metadata": {
        "id": "GMQJw4wz1Gdh"
      },
      "source": [
        "The function `torch.reshape()` is a frequently used way of returning a tensor in the\n",
        "specified shape.\n",
        "Its input are the desired output dimensions.\n",
        "NB: the reshaping returns a new tensor and does not modify the old tensor.\n",
        "\n"
      ]
    },
    {
      "cell_type": "code",
      "execution_count": 34,
      "metadata": {
        "ExecuteTime": {
          "end_time": "2025-04-17T08:39:32.363505Z",
          "start_time": "2025-04-17T08:39:32.360952Z"
        },
        "id": "XvuZsJTR1Gdh",
        "outputId": "3bfc1454-c93a-4af8-e0a5-39ccd70e20ee",
        "colab": {
          "base_uri": "https://localhost:8080/"
        }
      },
      "outputs": [
        {
          "output_type": "stream",
          "name": "stdout",
          "text": [
            "tensor([[1, 2],\n",
            "        [3, 4]])\n",
            "tensor([[1],\n",
            "        [2],\n",
            "        [3],\n",
            "        [4]])\n"
          ]
        }
      ],
      "source": [
        "tensor_1 = torch.tensor([[1, 2], [3, 4]])\n",
        "tensor_2 = tensor_1.reshape(4, 1)\n",
        "print(tensor_1)\n",
        "print(tensor_2)"
      ]
    },
    {
      "cell_type": "code",
      "execution_count": 35,
      "metadata": {
        "ExecuteTime": {
          "end_time": "2025-04-17T08:39:32.367297Z",
          "start_time": "2025-04-17T08:39:32.364182Z"
        },
        "id": "ZnC-L6NU1Gdh",
        "outputId": "1ca68eaf-5af8-4ee6-99ff-fb9f7e756615",
        "colab": {
          "base_uri": "https://localhost:8080/"
        }
      },
      "outputs": [
        {
          "output_type": "stream",
          "name": "stdout",
          "text": [
            "tensor([[0, 1],\n",
            "        [2, 3]])\n",
            "tensor([0, 1, 2, 3])\n",
            "tensor([[0],\n",
            "        [1],\n",
            "        [2],\n",
            "        [3]])\n",
            "tensor([[0, 1, 2, 3]])\n"
          ]
        }
      ],
      "source": [
        "a = torch.tensor([[0, 1], [2, 3]])\n",
        "b = torch.reshape(a, (-1,))  # to vector\n",
        "c = torch.reshape(a, (-1, 1))  # to one col matrix (~ col vector)\n",
        "d = torch.reshape(a, (1, -1))  # to one row matrix\n",
        "print(a)\n",
        "print(b)\n",
        "print(c)\n",
        "print(d)"
      ]
    },
    {
      "cell_type": "markdown",
      "metadata": {
        "id": "zGy0BUM71Gdh"
      },
      "source": [
        "There are also the functions `.squeeze()` and `.unsqueeze()` that remove or add the dimension of size 1 at a given location of a tensor:"
      ]
    },
    {
      "cell_type": "code",
      "execution_count": 38,
      "metadata": {
        "ExecuteTime": {
          "end_time": "2025-04-17T08:39:32.374672Z",
          "start_time": "2025-04-17T08:39:32.370741Z"
        },
        "id": "k1hiOs911Gdh",
        "outputId": "c31d5702-bd79-4d08-f112-05c35bd208a1",
        "colab": {
          "base_uri": "https://localhost:8080/"
        }
      },
      "outputs": [
        {
          "output_type": "stream",
          "name": "stdout",
          "text": [
            "tensor([[0],\n",
            "        [1],\n",
            "        [2],\n",
            "        [3]])\n",
            "tensor([[[0],\n",
            "         [1],\n",
            "         [2],\n",
            "         [3]]])\n",
            "tensor([[0],\n",
            "        [1],\n",
            "        [2],\n",
            "        [3]])\n",
            "tensor([0, 1, 2, 3])\n"
          ]
        }
      ],
      "source": [
        "e = b.unsqueeze(1)\n",
        "print(e)\n",
        "f = e.unsqueeze(0)\n",
        "print(f)\n",
        "# we can remove dimension of size 1 at a given position\n",
        "print(f.squeeze(0))\n",
        "# or remove all dimensions of size 1\n",
        "print(f.squeeze())"
      ]
    },
    {
      "cell_type": "markdown",
      "metadata": {
        "id": "IkY5DZn01Gdi"
      },
      "source": [
        "There is also the function `.flatten()` which returns all elements of a tensor.\n",
        "\n"
      ]
    },
    {
      "cell_type": "code",
      "execution_count": 39,
      "metadata": {
        "ExecuteTime": {
          "end_time": "2025-04-17T08:39:32.378203Z",
          "start_time": "2025-04-17T08:39:32.375258Z"
        },
        "id": "Qhz133Vh1Gdi",
        "outputId": "7613ec86-8142-4ba1-b2f5-cfb7cf770f5d",
        "colab": {
          "base_uri": "https://localhost:8080/"
        }
      },
      "outputs": [
        {
          "output_type": "stream",
          "name": "stdout",
          "text": [
            "tensor([[[0, 1],\n",
            "         [2, 3]],\n",
            "\n",
            "        [[4, 5],\n",
            "         [6, 7]]])\n",
            "tensor([0, 1, 2, 3, 4, 5, 6, 7])\n"
          ]
        }
      ],
      "source": [
        "a = torch.tensor([[[0, 1], [2, 3]], [[4, 5], [6, 7]]])\n",
        "print(a)\n",
        "print(torch.flatten(a))"
      ]
    },
    {
      "cell_type": "markdown",
      "metadata": {
        "id": "QX1fkaQ-1Gdi"
      },
      "source": [
        "### Transposing\n",
        "\n"
      ]
    },
    {
      "cell_type": "markdown",
      "metadata": {
        "id": "S1J1LmL61Gdi"
      },
      "source": [
        "It is possible to transpose a tensor (with a dimension at least 2) by specified dimesions using the\n",
        "function: `torch.transpose()`,\n",
        "This function takes the dimensions which are to be transposed as an argument.\n",
        "\n"
      ]
    },
    {
      "cell_type": "code",
      "execution_count": 40,
      "metadata": {
        "ExecuteTime": {
          "end_time": "2025-04-17T08:39:32.383008Z",
          "start_time": "2025-04-17T08:39:32.378926Z"
        },
        "id": "-FXuqehX1Gdi",
        "outputId": "5130b3c2-28be-4894-d035-0d75f3c3750f",
        "colab": {
          "base_uri": "https://localhost:8080/"
        }
      },
      "outputs": [
        {
          "output_type": "stream",
          "name": "stdout",
          "text": [
            "tensor([[[10, 20, 30],\n",
            "         [40, 50, 60],\n",
            "         [70, 80, 90]],\n",
            "\n",
            "        [[ 1,  2,  3],\n",
            "         [ 4,  5,  6],\n",
            "         [ 7,  8,  9]]])\n",
            "tensor([[[10, 40, 70],\n",
            "         [20, 50, 80],\n",
            "         [30, 60, 90]],\n",
            "\n",
            "        [[ 1,  4,  7],\n",
            "         [ 2,  5,  8],\n",
            "         [ 3,  6,  9]]])\n"
          ]
        }
      ],
      "source": [
        "tensor_1 = torch.tensor(\n",
        "    [[[10, 20, 30], [40, 50, 60], [70, 80, 90]], [[1, 2, 3], [4, 5, 6], [7, 8, 9]]]\n",
        ")\n",
        "tensor_1_transpose = torch.transpose(tensor_1, 1, 2)\n",
        "print(tensor_1)\n",
        "print(tensor_1_transpose)"
      ]
    },
    {
      "cell_type": "markdown",
      "metadata": {
        "id": "MJ3ALJTl1Gdi"
      },
      "source": [
        "### Tensor arithmetic\n",
        "\n"
      ]
    },
    {
      "cell_type": "markdown",
      "metadata": {
        "id": "jHY1CHZv1Gdi"
      },
      "source": [
        "The usual infix notation for arithmetic functions works element-wise on tensors:\n",
        "\n"
      ]
    },
    {
      "cell_type": "code",
      "execution_count": 41,
      "metadata": {
        "ExecuteTime": {
          "end_time": "2025-04-17T08:39:32.390059Z",
          "start_time": "2025-04-17T08:39:32.383694Z"
        },
        "id": "HyYxKx1H1Gdj",
        "outputId": "1552e530-eb17-440f-d993-78c568e5c20a",
        "colab": {
          "base_uri": "https://localhost:8080/"
        }
      },
      "outputs": [
        {
          "output_type": "stream",
          "name": "stdout",
          "text": [
            "tensor([ 2,  6, 11])\n",
            "tensor([ 0, -2, -5])\n",
            "tensor([ 1,  8, 24])\n",
            "tensor([1.0000, 0.5000, 0.3750])\n",
            "tensor([  1,  16, 512])\n"
          ]
        }
      ],
      "source": [
        "x = torch.tensor([1, 2, 3])\n",
        "y = torch.tensor([1, 4, 8])\n",
        "print(x + y)\n",
        "print(x - y)\n",
        "print(x * y)\n",
        "print(x / y)\n",
        "print(y**x)"
      ]
    },
    {
      "cell_type": "markdown",
      "metadata": {
        "id": "tINIlQMV1Gdj"
      },
      "source": [
        "### Broadcasting\n",
        "\n"
      ]
    },
    {
      "cell_type": "markdown",
      "metadata": {
        "id": "jbHtSHQj1Gdj"
      },
      "source": [
        "When we apply these operations to tensors of different sizes, PyTorch will try to broadcast the input.\n",
        "\n",
        "For example, if we multiply a vector with a scalar, the scalar is broadcasted (extended) to a vector of the same length.\n",
        "The result is that each element in the vector is multiplied by that scalar.\n",
        "\n"
      ]
    },
    {
      "cell_type": "code",
      "execution_count": 43,
      "metadata": {
        "ExecuteTime": {
          "end_time": "2025-04-17T08:39:32.392998Z",
          "start_time": "2025-04-17T08:39:32.390836Z"
        },
        "id": "6d8YQQMi1Gdj",
        "outputId": "c4933a26-d0a7-4552-fede-0beb87e68e5b",
        "colab": {
          "base_uri": "https://localhost:8080/"
        }
      },
      "outputs": [
        {
          "output_type": "stream",
          "name": "stdout",
          "text": [
            "tensor([ 4,  8, 12])\n"
          ]
        }
      ],
      "source": [
        "x = torch.tensor([1, 2, 3])\n",
        "print(x * 4)"
      ]
    },
    {
      "cell_type": "markdown",
      "metadata": {
        "id": "fpeSmH9C1Gdj"
      },
      "source": [
        "Similarly, for higher dimensions.\n",
        "With the usual arithmetic operations, a vector will be recycled, e.g., to apply to each row of a matrix.\n",
        "\n"
      ]
    },
    {
      "cell_type": "code",
      "execution_count": 44,
      "metadata": {
        "ExecuteTime": {
          "end_time": "2025-04-17T08:39:32.395707Z",
          "start_time": "2025-04-17T08:39:32.393534Z"
        },
        "id": "jIJW3XEg1Gdj",
        "outputId": "9db99512-4907-4878-fceb-8729174e7696",
        "colab": {
          "base_uri": "https://localhost:8080/"
        }
      },
      "outputs": [
        {
          "output_type": "stream",
          "name": "stdout",
          "text": [
            "multiplication:\n",
            " tensor([[ 1, 20],\n",
            "        [ 3, 40]])\n"
          ]
        }
      ],
      "source": [
        "vector = torch.tensor([1, 10])\n",
        "matrix = torch.tensor([[1, 2], [3, 4]])\n",
        "print(\"multiplication:\\n\", matrix * vector)"
      ]
    },
    {
      "cell_type": "code",
      "execution_count": null,
      "metadata": {
        "ExecuteTime": {
          "end_time": "2025-04-17T08:39:32.398264Z",
          "start_time": "2025-04-17T08:39:32.396194Z"
        },
        "id": "3EJV_3iY1Gdk",
        "outputId": "b09b1c7d-55b5-4c30-dd3f-4bbf00512506"
      },
      "outputs": [
        {
          "name": "stdout",
          "output_type": "stream",
          "text": [
            "division:\n",
            " tensor([[1.0000, 0.2000],\n",
            "        [3.0000, 0.4000]])\n"
          ]
        }
      ],
      "source": [
        "print(\"division:\\n\", matrix / vector)"
      ]
    },
    {
      "cell_type": "code",
      "execution_count": null,
      "metadata": {
        "ExecuteTime": {
          "end_time": "2025-04-17T08:39:32.400669Z",
          "start_time": "2025-04-17T08:39:32.398784Z"
        },
        "id": "eFmmvjDe1Gdk",
        "outputId": "0460f3eb-08e0-4af2-9dc3-3060610d2110"
      },
      "outputs": [
        {
          "name": "stdout",
          "output_type": "stream",
          "text": [
            "addition:\n",
            " tensor([[ 2, 12],\n",
            "        [ 4, 14]])\n",
            "subtraction:\n",
            " tensor([[ 0, -8],\n",
            "        [ 2, -6]])\n"
          ]
        }
      ],
      "source": [
        "print(\"addition:\\n\", matrix + vector)\n",
        "print(\"subtraction:\\n\", matrix - vector)"
      ]
    },
    {
      "cell_type": "markdown",
      "metadata": {
        "id": "VC9d7eHE1Gdk"
      },
      "source": [
        "The precise documentation of broadcasting is [here](https://pytorch.org/docs/stable/notes/broadcasting.html#broadcasting-semantics).\n",
        "\n"
      ]
    },
    {
      "cell_type": "markdown",
      "metadata": {
        "id": "XxPWogN41Gdk"
      },
      "source": [
        "### Matrix Multiplication\n",
        "\n"
      ]
    },
    {
      "cell_type": "markdown",
      "metadata": {
        "id": "-WK9w9Ov1Gdk"
      },
      "source": [
        "To perform a matrix multiplications on tensors, we use the function\n",
        "`torch.matmul(tensor1, tensor2)`, or its short-form notation `tensor1 @ tensor2`.\n",
        "If `tensor1` is an $(n×m)$ tensor, and `tensor2` is an $(m×p)$ tensor, the\n",
        "output will be an $(n×p)$ tensor.\n",
        "\n"
      ]
    },
    {
      "cell_type": "code",
      "execution_count": 45,
      "metadata": {
        "ExecuteTime": {
          "end_time": "2025-04-17T08:39:32.406223Z",
          "start_time": "2025-04-17T08:39:32.401328Z"
        },
        "id": "_SA3oUMR1Gdk",
        "outputId": "8adae41b-b34c-4f93-8c6d-41fdaed602f5",
        "colab": {
          "base_uri": "https://localhost:8080/"
        }
      },
      "outputs": [
        {
          "output_type": "stream",
          "name": "stdout",
          "text": [
            "tensor([[ 12, 200],\n",
            "        [ 34, 400],\n",
            "        [ 56, 600]])\n",
            "tensor([[ 12, 200],\n",
            "        [ 34, 400],\n",
            "        [ 56, 600]])\n"
          ]
        }
      ],
      "source": [
        "tensor1 = torch.tensor([[1, 2], [3, 4], [5, 6]])\n",
        "tensor2 = torch.tensor([[10, 0], [1, 100]])\n",
        "print(torch.matmul(tensor1, tensor2))\n",
        "print(tensor1 @ tensor2)"
      ]
    },
    {
      "cell_type": "markdown",
      "metadata": {
        "id": "HpRwckXb1Gdl"
      },
      "source": [
        "Notice that the function `torch.matmul()` implicitly converts and broadcasts and so also flexibly yields a dot-product, a matrix-vector product or a vector-matrix product.\n",
        "\n"
      ]
    },
    {
      "cell_type": "code",
      "execution_count": 46,
      "metadata": {
        "ExecuteTime": {
          "end_time": "2025-04-17T08:41:58.027659Z",
          "start_time": "2025-04-17T08:41:58.009168Z"
        },
        "id": "FFIp8uBC1Gdl",
        "outputId": "14ed5774-ca5f-4600-cd00-e3c4eda56443",
        "colab": {
          "base_uri": "https://localhost:8080/"
        }
      },
      "outputs": [
        {
          "output_type": "stream",
          "name": "stdout",
          "text": [
            "tensor([[1, 2],\n",
            "        [3, 4]])\n",
            "tensor([ 1, 10])\n",
            "tensor(101)\n",
            "tensor([21, 43])\n",
            "tensor([31, 42])\n"
          ]
        }
      ],
      "source": [
        "matrix = torch.tensor([[1, 2], [3, 4]])\n",
        "vector = torch.tensor([1, 10])\n",
        "print(matrix)\n",
        "print(vector)\n",
        "print(vector @ vector)  # dot prodcut\n",
        "print(matrix @ vector)  # matrix-vector product (vector is treated as a column vector)\n",
        "print(vector @ matrix)  # vector-matrix product (vector is treated as a row vector)\n"
      ]
    },
    {
      "cell_type": "markdown",
      "metadata": {
        "id": "PQ_UpLZm1Gdl"
      },
      "source": [
        "Full documentation of `torch.matmul()` is [here](https://pytorch.org/docs/stable/generated/torch.matmul.html).\n",
        "\n"
      ]
    },
    {
      "cell_type": "markdown",
      "metadata": {
        "id": "GAHGdbaE1Gdl"
      },
      "source": [
        "### Assessing just the values of a tensor\n",
        "\n"
      ]
    },
    {
      "cell_type": "markdown",
      "metadata": {
        "id": "m8yo0Hpb1Gdl"
      },
      "source": [
        "The `tensor.item()` function returns the value of a single-item tensor without any further information, which is often useful for inspection or plotting of results:\n",
        "\n"
      ]
    },
    {
      "cell_type": "code",
      "execution_count": 47,
      "metadata": {
        "id": "IwGvUovH1Gdl",
        "outputId": "2950f85b-8273-4169-ae23-26f2d5535358",
        "colab": {
          "base_uri": "https://localhost:8080/"
        }
      },
      "outputs": [
        {
          "output_type": "stream",
          "name": "stdout",
          "text": [
            "tensor(4)\n",
            "4\n"
          ]
        }
      ],
      "source": [
        "tensor = torch.tensor([[1, 2], [3, 4], [5, 6]])\n",
        "print(tensor[1, 1])\n",
        "print(tensor[1, 1].item())"
      ]
    },
    {
      "cell_type": "markdown",
      "metadata": {
        "id": "jXoxyuTB1Gdm"
      },
      "source": [
        "To convert a larger tensor back to numpy (e.g., for plotting) you can do this:\n",
        "\n"
      ]
    },
    {
      "cell_type": "code",
      "execution_count": 48,
      "metadata": {
        "id": "vgFx13CW1Gdn",
        "outputId": "428edfc4-f522-40fd-93ed-f9927780bce8",
        "colab": {
          "base_uri": "https://localhost:8080/"
        }
      },
      "outputs": [
        {
          "output_type": "execute_result",
          "data": {
            "text/plain": [
              "array([[1, 2, 3],\n",
              "       [4, 5, 6]])"
            ]
          },
          "metadata": {},
          "execution_count": 48
        }
      ],
      "source": [
        "another_tensor = torch.tensor([[1, 2, 3], [4, 5, 6]])\n",
        "another_tensor.detach().numpy()"
      ]
    },
    {
      "cell_type": "markdown",
      "metadata": {
        "id": "FOf_WGNB1Gdn"
      },
      "source": [
        "> <strong><span style=&ldquo;color:#D83D2B;&rdquo;>Exercise 2.1.4: Operations on tensors</span></strong>\n",
        ">\n",
        "> 1. Define a tensor for matrix $[[[1,2], [3,4], [5,6]]]$. Create new tensors obtained by reshaping this matrix into (1) a vector (row vector), (2) a one-column matrix. Also, create its transpose. TODO: define two step solution with reshape -1\n",
        ">\n",
        "> 2. Compute the dot product between $[1,3,5]$ and $[1,10,100]$.\n",
        ">\n",
        "> 3. Compute the matrix product between PyTorch tensors $[[1], [2], [3]]$ and $[[1,10,100]]$. Convert the result to a numpy array.\n",
        "\n"
      ]
    },
    {
      "cell_type": "markdown",
      "metadata": {
        "id": "QahsiJj_1Gdn"
      },
      "source": [
        "Click below to see the solution."
      ]
    },
    {
      "cell_type": "code",
      "execution_count": 49,
      "metadata": {
        "tags": [
          "hide-cell"
        ],
        "id": "kqscNPJz1Gdn",
        "outputId": "2880cb31-97a4-4fb7-88eb-34d035103eef",
        "colab": {
          "base_uri": "https://localhost:8080/"
        }
      },
      "outputs": [
        {
          "output_type": "stream",
          "name": "stdout",
          "text": [
            "tensor([[[1, 2],\n",
            "         [3, 4],\n",
            "         [5, 6]]])\n",
            "tensor([1, 2, 3, 4, 5, 6])\n",
            "tensor([[1],\n",
            "        [2],\n",
            "        [3],\n",
            "        [4],\n",
            "        [5],\n",
            "        [6]])\n",
            "tensor([[1, 2, 3, 4, 5, 6]])\n",
            "tensor(531)\n",
            "[[  1  10 100]\n",
            " [  2  20 200]\n",
            " [  3  30 300]]\n"
          ]
        }
      ],
      "source": [
        "########## Exercise 2.1.4 Task 1 #################\n",
        "\n",
        "ex1 = torch.tensor([[[1,2],[3,4],[5,6]]])\n",
        "print(ex1)\n",
        "# 1\n",
        "ex1_row = torch.flatten(ex1)\n",
        "print(ex1_row)\n",
        "# 2\n",
        "ex1_col = torch.reshape(ex1, (-1, 1))\n",
        "print(ex1_col)\n",
        "ex1_col_trans = torch.transpose(ex1_col, 0, -1)\n",
        "print(ex1_col_trans)\n",
        "\n",
        "########## Exercise 2.1.4 Task 2 #################\n",
        "torch1 = torch.tensor([1,3,5])\n",
        "torch2 = torch.tensor([1,10,100])\n",
        "dot = torch1 @ torch2\n",
        "print(dot)\n",
        "\n",
        "########## Exercise 2.1.4 Task 3 #################\n",
        "\n",
        "matrix1 = torch.tensor([[1],[2],[3]])\n",
        "matrix2 = torch.tensor([[1,10,100]])\n",
        "matrixProd = matrix1 @matrix2\n",
        "print(matrixProd.numpy())"
      ]
    }
  ],
  "metadata": {
    "kernelspec": {
      "display_name": "Python 3 (ipykernel)",
      "language": "python",
      "name": "python3"
    },
    "language_info": {
      "codemirror_mode": {
        "name": "ipython",
        "version": 3
      },
      "file_extension": ".py",
      "mimetype": "text/x-python",
      "name": "python",
      "nbconvert_exporter": "python",
      "pygments_lexer": "ipython3",
      "version": "3.10.14"
    },
    "org": null,
    "colab": {
      "provenance": [],
      "include_colab_link": true
    }
  },
  "nbformat": 4,
  "nbformat_minor": 0
}